{
  "nbformat": 4,
  "nbformat_minor": 0,
  "metadata": {
    "colab": {
      "provenance": []
    },
    "kernelspec": {
      "name": "python3",
      "display_name": "Python 3"
    },
    "language_info": {
      "name": "python"
    }
  },
  "cells": [
    {
      "cell_type": "code",
      "source": [
        "!pip install scikit-surprise"
      ],
      "metadata": {
        "colab": {
          "base_uri": "https://localhost:8080/"
        },
        "id": "3u0mXJWZbcVQ",
        "outputId": "73cb9845-00b8-42e6-d2ab-e0afe3437a25"
      },
      "execution_count": 8,
      "outputs": [
        {
          "output_type": "stream",
          "name": "stdout",
          "text": [
            "Requirement already satisfied: scikit-surprise in /usr/local/lib/python3.10/dist-packages (1.1.3)\n",
            "Requirement already satisfied: joblib>=1.0.0 in /usr/local/lib/python3.10/dist-packages (from scikit-surprise) (1.3.1)\n",
            "Requirement already satisfied: numpy>=1.17.3 in /usr/local/lib/python3.10/dist-packages (from scikit-surprise) (1.22.4)\n",
            "Requirement already satisfied: scipy>=1.3.2 in /usr/local/lib/python3.10/dist-packages (from scikit-surprise) (1.10.1)\n"
          ]
        }
      ]
    },
    {
      "cell_type": "code",
      "source": [
        "import numpy as np\n",
        "import pandas as pd\n",
        "import matplotlib.pyplot as plt\n",
        "import seaborn as sns\n",
        "\n",
        "from surprise import Dataset, SVD, SVDpp, NMF, KNNBasic, KNNWithMeans, KNNBaseline\n",
        "from surprise.model_selection import cross_validate, GridSearchCV"
      ],
      "metadata": {
        "id": "OECM87uTR_Iq"
      },
      "execution_count": 56,
      "outputs": []
    },
    {
      "cell_type": "code",
      "source": [
        "data = Dataset.load_builtin('ml-100k')"
      ],
      "metadata": {
        "id": "4YhBGMlWS_LR"
      },
      "execution_count": 10,
      "outputs": []
    },
    {
      "cell_type": "markdown",
      "source": [
        "# SVD"
      ],
      "metadata": {
        "id": "5w7mxVYMO7wm"
      }
    },
    {
      "cell_type": "code",
      "source": [
        "algo=SVD()\n",
        "res_SVD=cross_validate(algo, data, measures=['RMSE', 'MAE'], cv=5, verbose=True)"
      ],
      "metadata": {
        "colab": {
          "base_uri": "https://localhost:8080/"
        },
        "id": "HCvTRAn8IVYT",
        "outputId": "bad41aa4-4199-4515-e6c0-9fc2b25ac31a"
      },
      "execution_count": 11,
      "outputs": [
        {
          "output_type": "stream",
          "name": "stdout",
          "text": [
            "Evaluating RMSE, MAE of algorithm SVD on 5 split(s).\n",
            "\n",
            "                  Fold 1  Fold 2  Fold 3  Fold 4  Fold 5  Mean    Std     \n",
            "RMSE (testset)    0.9387  0.9442  0.9293  0.9399  0.9332  0.9371  0.0052  \n",
            "MAE (testset)     0.7398  0.7415  0.7336  0.7417  0.7364  0.7386  0.0032  \n",
            "Fit time          1.53    2.74    2.67    2.65    1.38    2.19    0.61    \n",
            "Test time         0.23    0.93    0.31    0.33    0.15    0.39    0.28    \n"
          ]
        }
      ]
    },
    {
      "cell_type": "code",
      "source": [
        "sum(res_SVD['fit_time']), sum(res_SVD['test_time'])"
      ],
      "metadata": {
        "colab": {
          "base_uri": "https://localhost:8080/"
        },
        "id": "6f1Dl_V3Wd6r",
        "outputId": "a89e7c06-9865-4816-8f6b-d23dc9913211"
      },
      "execution_count": 31,
      "outputs": [
        {
          "output_type": "execute_result",
          "data": {
            "text/plain": [
              "(10.964372634887695, 1.9472908973693848)"
            ]
          },
          "metadata": {},
          "execution_count": 31
        }
      ]
    },
    {
      "cell_type": "code",
      "source": [
        "np.mean(res_SVD['test_rmse']), np.std(res_SVD['test_rmse'])"
      ],
      "metadata": {
        "colab": {
          "base_uri": "https://localhost:8080/"
        },
        "id": "8lRPPRayXUEj",
        "outputId": "2a7f3e47-ea21-4959-9980-8383bdfd5611"
      },
      "execution_count": 37,
      "outputs": [
        {
          "output_type": "execute_result",
          "data": {
            "text/plain": [
              "(0.9370710204829269, 0.005229414388045707)"
            ]
          },
          "metadata": {},
          "execution_count": 37
        }
      ]
    },
    {
      "cell_type": "markdown",
      "source": [
        "#SVD with GridSearchCV"
      ],
      "metadata": {
        "id": "Zmy43fZXO-HO"
      }
    },
    {
      "cell_type": "code",
      "source": [
        "param_grid={\n",
        "    \"n_epochs\":[10,20,30],\n",
        "    \"lr_all\":[0.002, 0.005, 0.006],\n",
        "    \"reg_all\": [0.01, 0.02, 0.003]\n",
        "}"
      ],
      "metadata": {
        "id": "VfFFZM9mKDRE"
      },
      "execution_count": 12,
      "outputs": []
    },
    {
      "cell_type": "code",
      "source": [
        "gs=GridSearchCV(SVD, param_grid=param_grid, measures=['rmse', 'mae'], cv=5)\n",
        "gs.fit(data)\n",
        "print(gs.best_params[\"rmse\"])"
      ],
      "metadata": {
        "colab": {
          "base_uri": "https://localhost:8080/"
        },
        "id": "tDGseEkuNem0",
        "outputId": "9d68f53a-e2c4-4701-95f2-7ada2dd137cd"
      },
      "execution_count": 13,
      "outputs": [
        {
          "output_type": "stream",
          "name": "stdout",
          "text": [
            "{'n_epochs': 20, 'lr_all': 0.006, 'reg_all': 0.02}\n"
          ]
        }
      ]
    },
    {
      "cell_type": "markdown",
      "source": [
        "Отримані параметри відповдають значенням в SVD за defaut"
      ],
      "metadata": {
        "id": "QmcmeM7XRcoP"
      }
    },
    {
      "cell_type": "code",
      "source": [
        "algo2=SVD(n_epochs=20, lr_all=0.005 )\n",
        "cross_validate(algo2, data, measures=['RMSE', 'MAE'], cv=5, verbose=True)"
      ],
      "metadata": {
        "colab": {
          "base_uri": "https://localhost:8080/"
        },
        "id": "ORXQ-NyuRiUm",
        "outputId": "fda6fd72-8571-4ce4-ece1-4506e3f57d12"
      },
      "execution_count": 14,
      "outputs": [
        {
          "output_type": "stream",
          "name": "stdout",
          "text": [
            "Evaluating RMSE, MAE of algorithm SVD on 5 split(s).\n",
            "\n",
            "                  Fold 1  Fold 2  Fold 3  Fold 4  Fold 5  Mean    Std     \n",
            "RMSE (testset)    0.9428  0.9358  0.9365  0.9275  0.9395  0.9364  0.0051  \n",
            "MAE (testset)     0.7434  0.7393  0.7364  0.7311  0.7427  0.7386  0.0045  \n",
            "Fit time          1.48    1.42    1.72    2.03    1.61    1.65    0.22    \n",
            "Test time         0.30    0.15    0.46    0.18    0.36    0.29    0.12    \n"
          ]
        },
        {
          "output_type": "execute_result",
          "data": {
            "text/plain": [
              "{'test_rmse': array([0.94279924, 0.9358245 , 0.9365175 , 0.92753985, 0.93950165]),\n",
              " 'test_mae': array([0.74337224, 0.73927045, 0.73637887, 0.73110141, 0.74271339]),\n",
              " 'fit_time': (1.4788861274719238,\n",
              "  1.418900728225708,\n",
              "  1.7154266834259033,\n",
              "  2.027639389038086,\n",
              "  1.6050128936767578),\n",
              " 'test_time': (0.30197787284851074,\n",
              "  0.151900053024292,\n",
              "  0.46381068229675293,\n",
              "  0.1765134334564209,\n",
              "  0.35655951499938965)}"
            ]
          },
          "metadata": {},
          "execution_count": 14
        }
      ]
    },
    {
      "cell_type": "markdown",
      "source": [
        "# SVD++"
      ],
      "metadata": {
        "id": "AHWgRURIPI8e"
      }
    },
    {
      "cell_type": "code",
      "source": [
        "algo_pp=SVDpp()\n",
        "res_SVDpp=cross_validate(algo_pp, data, measures=['RMSE', 'MAE'], cv=5, verbose=True)"
      ],
      "metadata": {
        "colab": {
          "base_uri": "https://localhost:8080/"
        },
        "id": "UwDrgEgxdNsO",
        "outputId": "240d013f-45ed-4e44-a163-03f5290454ad"
      },
      "execution_count": 15,
      "outputs": [
        {
          "output_type": "stream",
          "name": "stdout",
          "text": [
            "Evaluating RMSE, MAE of algorithm SVDpp on 5 split(s).\n",
            "\n",
            "                  Fold 1  Fold 2  Fold 3  Fold 4  Fold 5  Mean    Std     \n",
            "RMSE (testset)    0.9217  0.9117  0.9211  0.9150  0.9267  0.9192  0.0053  \n",
            "MAE (testset)     0.7232  0.7157  0.7241  0.7182  0.7263  0.7215  0.0039  \n",
            "Fit time          29.96   28.84   28.16   26.19   26.85   28.00   1.35    \n",
            "Test time         6.18    4.52    4.58    4.51    4.81    4.92    0.64    \n"
          ]
        }
      ]
    },
    {
      "cell_type": "code",
      "source": [
        "algo_pp_cashe=SVDpp(cache_ratings=True)\n",
        "res_SVDpp_cache=cross_validate(algo_pp, data, measures=['RMSE', 'MAE'], cv=5, verbose=True)"
      ],
      "metadata": {
        "colab": {
          "base_uri": "https://localhost:8080/"
        },
        "id": "IiO6C_m-eTQM",
        "outputId": "569de2f5-e9f7-47e0-b46b-430b74d2234f"
      },
      "execution_count": 21,
      "outputs": [
        {
          "output_type": "stream",
          "name": "stdout",
          "text": [
            "Evaluating RMSE, MAE of algorithm SVDpp on 5 split(s).\n",
            "\n",
            "                  Fold 1  Fold 2  Fold 3  Fold 4  Fold 5  Mean    Std     \n",
            "RMSE (testset)    0.9235  0.9112  0.9248  0.9119  0.9158  0.9174  0.0057  \n",
            "MAE (testset)     0.7219  0.7158  0.7244  0.7169  0.7166  0.7191  0.0034  \n",
            "Fit time          26.81   26.60   26.42   27.96   26.13   26.78   0.63    \n",
            "Test time         4.44    5.15    4.70    4.55    5.07    4.78    0.28    \n"
          ]
        }
      ]
    },
    {
      "cell_type": "markdown",
      "source": [
        "# NFM"
      ],
      "metadata": {
        "id": "xMjVBkJrXzJz"
      }
    },
    {
      "cell_type": "code",
      "source": [
        "algo_NFM=NMF()\n",
        "res_NFM=cross_validate(algo_NFM, data, measures=['RMSE', 'MAE'], cv=5, verbose=True)"
      ],
      "metadata": {
        "colab": {
          "base_uri": "https://localhost:8080/"
        },
        "id": "PSNTsGk9fxF1",
        "outputId": "7f376fdf-6b05-4022-cfeb-359917adb35c"
      },
      "execution_count": 43,
      "outputs": [
        {
          "output_type": "stream",
          "name": "stdout",
          "text": [
            "Evaluating RMSE, MAE of algorithm NMF on 5 split(s).\n",
            "\n",
            "                  Fold 1  Fold 2  Fold 3  Fold 4  Fold 5  Mean    Std     \n",
            "RMSE (testset)    0.9716  0.9683  0.9657  0.9555  0.9548  0.9632  0.0068  \n",
            "MAE (testset)     0.7629  0.7624  0.7576  0.7512  0.7512  0.7571  0.0051  \n",
            "Fit time          2.19    3.05    2.22    2.20    2.46    2.42    0.33    \n",
            "Test time         0.12    0.37    0.12    0.30    0.15    0.21    0.10    \n"
          ]
        }
      ]
    },
    {
      "cell_type": "markdown",
      "source": [
        "# KNNBasic"
      ],
      "metadata": {
        "id": "IrOAwmI1X-XE"
      }
    },
    {
      "cell_type": "code",
      "source": [
        "algo_KNNBasic=KNNBasic()\n",
        "res_KNNBasic=cross_validate(algo_KNNBasic, data, measures=['RMSE', 'MAE'], cv=5, verbose=True)"
      ],
      "metadata": {
        "colab": {
          "base_uri": "https://localhost:8080/"
        },
        "id": "7AXs3fV5gYbp",
        "outputId": "a74a235f-a3f7-4470-c737-dc4b9e8389e6"
      },
      "execution_count": 19,
      "outputs": [
        {
          "output_type": "stream",
          "name": "stdout",
          "text": [
            "Computing the msd similarity matrix...\n",
            "Done computing similarity matrix.\n",
            "Computing the msd similarity matrix...\n",
            "Done computing similarity matrix.\n",
            "Computing the msd similarity matrix...\n",
            "Done computing similarity matrix.\n",
            "Computing the msd similarity matrix...\n",
            "Done computing similarity matrix.\n",
            "Computing the msd similarity matrix...\n",
            "Done computing similarity matrix.\n",
            "Evaluating RMSE, MAE of algorithm KNNBasic on 5 split(s).\n",
            "\n",
            "                  Fold 1  Fold 2  Fold 3  Fold 4  Fold 5  Mean    Std     \n",
            "RMSE (testset)    0.9798  0.9842  0.9790  0.9806  0.9698  0.9787  0.0048  \n",
            "MAE (testset)     0.7732  0.7774  0.7714  0.7749  0.7668  0.7727  0.0036  \n",
            "Fit time          0.45    0.39    0.38    0.50    0.37    0.42    0.05    \n",
            "Test time         3.69    3.33    4.20    3.34    3.53    3.62    0.32    \n"
          ]
        }
      ]
    },
    {
      "cell_type": "markdown",
      "source": [
        "# KNNWithMeans"
      ],
      "metadata": {
        "id": "WnLDWzQWYEA7"
      }
    },
    {
      "cell_type": "code",
      "source": [
        "algo_KNNWithMeans=KNNWithMeans()\n",
        "res_KNNWithMeans=cross_validate(algo_KNNWithMeans, data, measures=['RMSE', 'MAE'], cv=5, verbose=True)"
      ],
      "metadata": {
        "colab": {
          "base_uri": "https://localhost:8080/"
        },
        "id": "j6Qkm_Tlhgra",
        "outputId": "c556da4f-63d2-4ccd-af90-b30ad1c81044"
      },
      "execution_count": 20,
      "outputs": [
        {
          "output_type": "stream",
          "name": "stdout",
          "text": [
            "Computing the msd similarity matrix...\n",
            "Done computing similarity matrix.\n",
            "Computing the msd similarity matrix...\n",
            "Done computing similarity matrix.\n",
            "Computing the msd similarity matrix...\n",
            "Done computing similarity matrix.\n",
            "Computing the msd similarity matrix...\n",
            "Done computing similarity matrix.\n",
            "Computing the msd similarity matrix...\n",
            "Done computing similarity matrix.\n",
            "Evaluating RMSE, MAE of algorithm KNNWithMeans on 5 split(s).\n",
            "\n",
            "                  Fold 1  Fold 2  Fold 3  Fold 4  Fold 5  Mean    Std     \n",
            "RMSE (testset)    0.9529  0.9493  0.9506  0.9463  0.9499  0.9498  0.0021  \n",
            "MAE (testset)     0.7502  0.7458  0.7493  0.7473  0.7491  0.7483  0.0016  \n",
            "Fit time          0.38    0.41    0.39    0.41    0.40    0.40    0.01    \n",
            "Test time         4.54    3.35    3.36    4.49    3.55    3.86    0.54    \n"
          ]
        }
      ]
    },
    {
      "cell_type": "markdown",
      "source": [
        "# KNNBaseline"
      ],
      "metadata": {
        "id": "1POrdLzjYKkE"
      }
    },
    {
      "cell_type": "code",
      "source": [
        "algo_KNNBaseline=KNNBaseline()\n",
        "res_KNNBaseline=cross_validate(algo_KNNBaseline, data, measures=['RMSE', 'MAE'], cv=5, verbose=True)"
      ],
      "metadata": {
        "colab": {
          "base_uri": "https://localhost:8080/"
        },
        "id": "NXbP0-VZiUHU",
        "outputId": "79652087-7c7b-462c-fb80-28fbf958d0a6"
      },
      "execution_count": 51,
      "outputs": [
        {
          "output_type": "stream",
          "name": "stdout",
          "text": [
            "Estimating biases using als...\n",
            "Computing the msd similarity matrix...\n",
            "Done computing similarity matrix.\n",
            "Estimating biases using als...\n",
            "Computing the msd similarity matrix...\n",
            "Done computing similarity matrix.\n",
            "Estimating biases using als...\n",
            "Computing the msd similarity matrix...\n",
            "Done computing similarity matrix.\n",
            "Estimating biases using als...\n",
            "Computing the msd similarity matrix...\n",
            "Done computing similarity matrix.\n",
            "Estimating biases using als...\n",
            "Computing the msd similarity matrix...\n",
            "Done computing similarity matrix.\n",
            "Evaluating RMSE, MAE of algorithm KNNBaseline on 5 split(s).\n",
            "\n",
            "                  Fold 1  Fold 2  Fold 3  Fold 4  Fold 5  Mean    Std     \n",
            "RMSE (testset)    0.9371  0.9269  0.9317  0.9261  0.9221  0.9288  0.0052  \n",
            "MAE (testset)     0.7387  0.7309  0.7323  0.7293  0.7278  0.7318  0.0037  \n",
            "Fit time          0.72    0.89    0.74    0.75    0.76    0.77    0.06    \n",
            "Test time         3.92    4.17    3.80    5.15    3.84    4.18    0.51    \n"
          ]
        }
      ]
    },
    {
      "cell_type": "markdown",
      "source": [
        "# Conclusion"
      ],
      "metadata": {
        "id": "Ox2s0EteYVZV"
      }
    },
    {
      "cell_type": "code",
      "source": [
        "df=pd.DataFrame({\n",
        "    \"SVD\":[np.mean(res_SVD['test_rmse']),\n",
        "           np.std(res_SVD['test_rmse']),\n",
        "           np.mean(res_SVD['test_mae']),\n",
        "           np.std(res_SVD['test_mae']),\n",
        "           sum(res_SVD['fit_time'])+sum(res_SVD['test_time'])],\n",
        "    \"SVD++w/o_cache\":[np.mean(res_SVDpp['test_rmse']),\n",
        "           np.std(res_SVDpp['test_rmse']),\n",
        "           np.mean(res_SVDpp['test_mae']),\n",
        "           np.std(res_SVDpp['test_mae']),\n",
        "           sum(res_SVDpp['fit_time'])+sum(res_SVDpp['test_time'])],\n",
        "    \"SVD++with_cache\":[np.mean(res_SVDpp_cache['test_rmse']),\n",
        "           np.std(res_SVDpp_cache['test_rmse']),\n",
        "           np.mean(res_SVDpp_cache['test_mae']),\n",
        "           np.std(res_SVDpp_cache['test_mae']),\n",
        "           sum(res_SVDpp_cache['fit_time'])+sum(res_SVDpp_cache['test_time'])],\n",
        "    \"NFM\":[np.mean(res_NFM['test_rmse']),\n",
        "           np.std(res_NFM['test_rmse']),\n",
        "           np.mean(res_NFM['test_mae']),\n",
        "           np.std(res_NFM['test_mae']),\n",
        "           sum(res_NFM['fit_time'])+sum(res_NFM['test_time'])],\n",
        "    \"KNNBasic\":[np.mean(res_KNNBasic['test_rmse']),\n",
        "           np.std(res_KNNBasic['test_rmse']),\n",
        "           np.mean(res_KNNBasic['test_mae']),\n",
        "           np.std(res_KNNBasic['test_mae']),\n",
        "           sum(res_KNNBasic['fit_time'])+sum(res_KNNBasic['test_time'])],\n",
        "    \"KNNWithMeans\":[np.mean(res_KNNWithMeans['test_rmse']),\n",
        "           np.std(res_KNNWithMeans['test_rmse']),\n",
        "           np.mean(res_KNNWithMeans['test_mae']),\n",
        "           np.std(res_KNNWithMeans['test_mae']),\n",
        "           sum(res_KNNWithMeans['fit_time'])+sum(res_KNNWithMeans['test_time'])],\n",
        "    \"KNNBaseline\":[np.mean(res_KNNBaseline['test_rmse']),\n",
        "           np.std(res_KNNBaseline['test_rmse']),\n",
        "           np.mean(res_KNNBaseline['test_mae']),\n",
        "           np.std(res_KNNBaseline['test_mae']),\n",
        "           sum(res_KNNBaseline['fit_time'])+sum(res_KNNBaseline['test_time'])],\n",
        "    },\n",
        "                index=['RMSE_mean','RMSE_std','MAE_mean', 'MAE_std', 'total_time']\n",
        "                )"
      ],
      "metadata": {
        "id": "NLCRsnFJYYHD"
      },
      "execution_count": 54,
      "outputs": []
    },
    {
      "cell_type": "code",
      "source": [
        "df"
      ],
      "metadata": {
        "colab": {
          "base_uri": "https://localhost:8080/",
          "height": 206
        },
        "id": "7iRPmUxjaM5b",
        "outputId": "b0d6878b-d737-4da5-8b81-eacecf85ff68"
      },
      "execution_count": 55,
      "outputs": [
        {
          "output_type": "execute_result",
          "data": {
            "text/plain": [
              "                  SVD  SVD++w/o_cache  SVD++with_cache        NFM   KNNBasic  \\\n",
              "RMSE_mean    0.937071        0.919235         0.917442   0.963201   0.978672   \n",
              "RMSE_std     0.005229        0.005315         0.005720   0.006816   0.004770   \n",
              "MAE_mean     0.738590        0.721505         0.719137   0.757078   0.772722   \n",
              "MAE_std      0.003155        0.003933         0.003417   0.005129   0.003572   \n",
              "total_time  12.911664      164.603722       157.816440  13.172633  20.179312   \n",
              "\n",
              "            KNNWithMeans  KNNBaseline  \n",
              "RMSE_mean       0.949777     0.928802  \n",
              "RMSE_std        0.002139     0.005155  \n",
              "MAE_mean        0.748332     0.731795  \n",
              "MAE_std         0.001585     0.003748  \n",
              "total_time     21.279746    24.743161  "
            ],
            "text/html": [
              "\n",
              "\n",
              "  <div id=\"df-f88f1b0b-4943-4cd4-bebb-869f13f58b86\">\n",
              "    <div class=\"colab-df-container\">\n",
              "      <div>\n",
              "<style scoped>\n",
              "    .dataframe tbody tr th:only-of-type {\n",
              "        vertical-align: middle;\n",
              "    }\n",
              "\n",
              "    .dataframe tbody tr th {\n",
              "        vertical-align: top;\n",
              "    }\n",
              "\n",
              "    .dataframe thead th {\n",
              "        text-align: right;\n",
              "    }\n",
              "</style>\n",
              "<table border=\"1\" class=\"dataframe\">\n",
              "  <thead>\n",
              "    <tr style=\"text-align: right;\">\n",
              "      <th></th>\n",
              "      <th>SVD</th>\n",
              "      <th>SVD++w/o_cache</th>\n",
              "      <th>SVD++with_cache</th>\n",
              "      <th>NFM</th>\n",
              "      <th>KNNBasic</th>\n",
              "      <th>KNNWithMeans</th>\n",
              "      <th>KNNBaseline</th>\n",
              "    </tr>\n",
              "  </thead>\n",
              "  <tbody>\n",
              "    <tr>\n",
              "      <th>RMSE_mean</th>\n",
              "      <td>0.937071</td>\n",
              "      <td>0.919235</td>\n",
              "      <td>0.917442</td>\n",
              "      <td>0.963201</td>\n",
              "      <td>0.978672</td>\n",
              "      <td>0.949777</td>\n",
              "      <td>0.928802</td>\n",
              "    </tr>\n",
              "    <tr>\n",
              "      <th>RMSE_std</th>\n",
              "      <td>0.005229</td>\n",
              "      <td>0.005315</td>\n",
              "      <td>0.005720</td>\n",
              "      <td>0.006816</td>\n",
              "      <td>0.004770</td>\n",
              "      <td>0.002139</td>\n",
              "      <td>0.005155</td>\n",
              "    </tr>\n",
              "    <tr>\n",
              "      <th>MAE_mean</th>\n",
              "      <td>0.738590</td>\n",
              "      <td>0.721505</td>\n",
              "      <td>0.719137</td>\n",
              "      <td>0.757078</td>\n",
              "      <td>0.772722</td>\n",
              "      <td>0.748332</td>\n",
              "      <td>0.731795</td>\n",
              "    </tr>\n",
              "    <tr>\n",
              "      <th>MAE_std</th>\n",
              "      <td>0.003155</td>\n",
              "      <td>0.003933</td>\n",
              "      <td>0.003417</td>\n",
              "      <td>0.005129</td>\n",
              "      <td>0.003572</td>\n",
              "      <td>0.001585</td>\n",
              "      <td>0.003748</td>\n",
              "    </tr>\n",
              "    <tr>\n",
              "      <th>total_time</th>\n",
              "      <td>12.911664</td>\n",
              "      <td>164.603722</td>\n",
              "      <td>157.816440</td>\n",
              "      <td>13.172633</td>\n",
              "      <td>20.179312</td>\n",
              "      <td>21.279746</td>\n",
              "      <td>24.743161</td>\n",
              "    </tr>\n",
              "  </tbody>\n",
              "</table>\n",
              "</div>\n",
              "      <button class=\"colab-df-convert\" onclick=\"convertToInteractive('df-f88f1b0b-4943-4cd4-bebb-869f13f58b86')\"\n",
              "              title=\"Convert this dataframe to an interactive table.\"\n",
              "              style=\"display:none;\">\n",
              "\n",
              "  <svg xmlns=\"http://www.w3.org/2000/svg\" height=\"24px\"viewBox=\"0 0 24 24\"\n",
              "       width=\"24px\">\n",
              "    <path d=\"M0 0h24v24H0V0z\" fill=\"none\"/>\n",
              "    <path d=\"M18.56 5.44l.94 2.06.94-2.06 2.06-.94-2.06-.94-.94-2.06-.94 2.06-2.06.94zm-11 1L8.5 8.5l.94-2.06 2.06-.94-2.06-.94L8.5 2.5l-.94 2.06-2.06.94zm10 10l.94 2.06.94-2.06 2.06-.94-2.06-.94-.94-2.06-.94 2.06-2.06.94z\"/><path d=\"M17.41 7.96l-1.37-1.37c-.4-.4-.92-.59-1.43-.59-.52 0-1.04.2-1.43.59L10.3 9.45l-7.72 7.72c-.78.78-.78 2.05 0 2.83L4 21.41c.39.39.9.59 1.41.59.51 0 1.02-.2 1.41-.59l7.78-7.78 2.81-2.81c.8-.78.8-2.07 0-2.86zM5.41 20L4 18.59l7.72-7.72 1.47 1.35L5.41 20z\"/>\n",
              "  </svg>\n",
              "      </button>\n",
              "\n",
              "\n",
              "\n",
              "    <div id=\"df-a6af8672-bf5e-4d1d-bd44-20c0321fcc18\">\n",
              "      <button class=\"colab-df-quickchart\" onclick=\"quickchart('df-a6af8672-bf5e-4d1d-bd44-20c0321fcc18')\"\n",
              "              title=\"Suggest charts.\"\n",
              "              style=\"display:none;\">\n",
              "\n",
              "<svg xmlns=\"http://www.w3.org/2000/svg\" height=\"24px\"viewBox=\"0 0 24 24\"\n",
              "     width=\"24px\">\n",
              "    <g>\n",
              "        <path d=\"M19 3H5c-1.1 0-2 .9-2 2v14c0 1.1.9 2 2 2h14c1.1 0 2-.9 2-2V5c0-1.1-.9-2-2-2zM9 17H7v-7h2v7zm4 0h-2V7h2v10zm4 0h-2v-4h2v4z\"/>\n",
              "    </g>\n",
              "</svg>\n",
              "      </button>\n",
              "    </div>\n",
              "\n",
              "<style>\n",
              "  .colab-df-quickchart {\n",
              "    background-color: #E8F0FE;\n",
              "    border: none;\n",
              "    border-radius: 50%;\n",
              "    cursor: pointer;\n",
              "    display: none;\n",
              "    fill: #1967D2;\n",
              "    height: 32px;\n",
              "    padding: 0 0 0 0;\n",
              "    width: 32px;\n",
              "  }\n",
              "\n",
              "  .colab-df-quickchart:hover {\n",
              "    background-color: #E2EBFA;\n",
              "    box-shadow: 0px 1px 2px rgba(60, 64, 67, 0.3), 0px 1px 3px 1px rgba(60, 64, 67, 0.15);\n",
              "    fill: #174EA6;\n",
              "  }\n",
              "\n",
              "  [theme=dark] .colab-df-quickchart {\n",
              "    background-color: #3B4455;\n",
              "    fill: #D2E3FC;\n",
              "  }\n",
              "\n",
              "  [theme=dark] .colab-df-quickchart:hover {\n",
              "    background-color: #434B5C;\n",
              "    box-shadow: 0px 1px 3px 1px rgba(0, 0, 0, 0.15);\n",
              "    filter: drop-shadow(0px 1px 2px rgba(0, 0, 0, 0.3));\n",
              "    fill: #FFFFFF;\n",
              "  }\n",
              "</style>\n",
              "\n",
              "    <script>\n",
              "      async function quickchart(key) {\n",
              "        const containerElement = document.querySelector('#' + key);\n",
              "        const charts = await google.colab.kernel.invokeFunction(\n",
              "            'suggestCharts', [key], {});\n",
              "      }\n",
              "    </script>\n",
              "\n",
              "      <script>\n",
              "\n",
              "function displayQuickchartButton(domScope) {\n",
              "  let quickchartButtonEl =\n",
              "    domScope.querySelector('#df-a6af8672-bf5e-4d1d-bd44-20c0321fcc18 button.colab-df-quickchart');\n",
              "  quickchartButtonEl.style.display =\n",
              "    google.colab.kernel.accessAllowed ? 'block' : 'none';\n",
              "}\n",
              "\n",
              "        displayQuickchartButton(document);\n",
              "      </script>\n",
              "      <style>\n",
              "    .colab-df-container {\n",
              "      display:flex;\n",
              "      flex-wrap:wrap;\n",
              "      gap: 12px;\n",
              "    }\n",
              "\n",
              "    .colab-df-convert {\n",
              "      background-color: #E8F0FE;\n",
              "      border: none;\n",
              "      border-radius: 50%;\n",
              "      cursor: pointer;\n",
              "      display: none;\n",
              "      fill: #1967D2;\n",
              "      height: 32px;\n",
              "      padding: 0 0 0 0;\n",
              "      width: 32px;\n",
              "    }\n",
              "\n",
              "    .colab-df-convert:hover {\n",
              "      background-color: #E2EBFA;\n",
              "      box-shadow: 0px 1px 2px rgba(60, 64, 67, 0.3), 0px 1px 3px 1px rgba(60, 64, 67, 0.15);\n",
              "      fill: #174EA6;\n",
              "    }\n",
              "\n",
              "    [theme=dark] .colab-df-convert {\n",
              "      background-color: #3B4455;\n",
              "      fill: #D2E3FC;\n",
              "    }\n",
              "\n",
              "    [theme=dark] .colab-df-convert:hover {\n",
              "      background-color: #434B5C;\n",
              "      box-shadow: 0px 1px 3px 1px rgba(0, 0, 0, 0.15);\n",
              "      filter: drop-shadow(0px 1px 2px rgba(0, 0, 0, 0.3));\n",
              "      fill: #FFFFFF;\n",
              "    }\n",
              "  </style>\n",
              "\n",
              "      <script>\n",
              "        const buttonEl =\n",
              "          document.querySelector('#df-f88f1b0b-4943-4cd4-bebb-869f13f58b86 button.colab-df-convert');\n",
              "        buttonEl.style.display =\n",
              "          google.colab.kernel.accessAllowed ? 'block' : 'none';\n",
              "\n",
              "        async function convertToInteractive(key) {\n",
              "          const element = document.querySelector('#df-f88f1b0b-4943-4cd4-bebb-869f13f58b86');\n",
              "          const dataTable =\n",
              "            await google.colab.kernel.invokeFunction('convertToInteractive',\n",
              "                                                     [key], {});\n",
              "          if (!dataTable) return;\n",
              "\n",
              "          const docLinkHtml = 'Like what you see? Visit the ' +\n",
              "            '<a target=\"_blank\" href=https://colab.research.google.com/notebooks/data_table.ipynb>data table notebook</a>'\n",
              "            + ' to learn more about interactive tables.';\n",
              "          element.innerHTML = '';\n",
              "          dataTable['output_type'] = 'display_data';\n",
              "          await google.colab.output.renderOutput(dataTable, element);\n",
              "          const docLink = document.createElement('div');\n",
              "          docLink.innerHTML = docLinkHtml;\n",
              "          element.appendChild(docLink);\n",
              "        }\n",
              "      </script>\n",
              "    </div>\n",
              "  </div>\n"
            ]
          },
          "metadata": {},
          "execution_count": 55
        }
      ]
    },
    {
      "cell_type": "code",
      "source": [
        "plt.figure(figsize=(12,4))\n",
        "plt.plot(df.loc['RMSE_mean'], marker='.')\n",
        "plt.plot(df.loc['MAE_mean'], marker='x')\n",
        "\n",
        "plt.grid()\n",
        "plt.show()"
      ],
      "metadata": {
        "colab": {
          "base_uri": "https://localhost:8080/",
          "height": 368
        },
        "id": "zsR1nhjMfkE_",
        "outputId": "21afe826-4521-4125-d65e-5174a2fbff2a"
      },
      "execution_count": 123,
      "outputs": [
        {
          "output_type": "display_data",
          "data": {
            "text/plain": [
              "<Figure size 1200x400 with 1 Axes>"
            ],
            "image/png": "[encoded data removed]"
          },
          "metadata": {}
        }
      ]
    },
    {
      "cell_type": "code",
      "source": [
        "plt.figure(figsize=(12,4))\n",
        "plt.plot(df.loc['total_time'], marker='x')\n",
        "plt.grid()\n",
        "plt.show()"
      ],
      "metadata": {
        "colab": {
          "base_uri": "https://localhost:8080/",
          "height": 368
        },
        "id": "Bw9x3L3onwQx",
        "outputId": "6fb4ae46-2266-4c06-8ee0-9b9ea8ca4dcd"
      },
      "execution_count": 125,
      "outputs": [
        {
          "output_type": "display_data",
          "data": {
            "text/plain": [
              "<Figure size 1200x400 with 1 Axes>"
            ],
            "image/png": "[encoded data removed]"
          },
          "metadata": {}
        }
      ]
    },
    {
      "cell_type": "markdown",
      "source": [
        "Як видно з графіків найкращі показники RMSE and MAE має алгоритм SVD++ (з кешем та без). Водначас цей алгоритм є одним з найзатратрішним за часом виконнання.\n",
        "З точки зору критерія якості/швидкості розрахунків то виділяються SVD and KNNBaseline"
      ],
      "metadata": {
        "id": "q68D-CQuvGjz"
      }
    }
  ]
}