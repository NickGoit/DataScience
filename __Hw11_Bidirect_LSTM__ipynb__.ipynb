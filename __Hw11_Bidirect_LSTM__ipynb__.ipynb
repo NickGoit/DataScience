{
  "nbformat": 4,
  "nbformat_minor": 0,
  "metadata": {
    "colab": {
      "provenance": []
    },
    "kernelspec": {
      "name": "python3",
      "display_name": "Python 3"
    },
    "language_info": {
      "name": "python"
    }
  },
  "cells": [
    {
      "cell_type": "markdown",
      "source": [
        "В якості домашнього завдання вам пропонується створити рекурентну нейронну мережу за допомогою механізмів Keras, яка буде класифікувати рецензії із датасету imdb.\n",
        "\n",
        "На відміну від прикладу в модулі 9 ми використаємо рекурентну нейронну мережу. Поекспериментуйте з будовою мережі - RNN, LSTM, двостороння та глибока.\n",
        "\n",
        "Порівняйте результати та зробіть висновки."
      ],
      "metadata": {
        "id": "D9OBl8wTHPBl"
      }
    },
    {
      "cell_type": "code",
      "execution_count": null,
      "metadata": {
        "id": "asus8c04GXfu"
      },
      "outputs": [],
      "source": [
        "import numpy as np\n",
        "import matplotlib.pyplot as plt\n",
        "import tensorflow as tf\n",
        "\n",
        "from tensorflow import keras\n",
        "from keras.models import Sequential\n",
        "from keras.layers import Dense, Embedding, LSTM, Bidirectional\n",
        "from keras import optimizers\n",
        "from keras import losses\n",
        "from keras import metrics\n",
        "from keras.callbacks import EarlyStopping"
      ]
    },
    {
      "cell_type": "code",
      "source": [
        "from keras.datasets import imdb"
      ],
      "metadata": {
        "id": "iBzDbvTcHBnT"
      },
      "execution_count": null,
      "outputs": []
    },
    {
      "cell_type": "code",
      "source": [
        "max_features = 10000  # кількість слів, що розглядаються як особливості\n",
        "maxlen = 500  # обмеження кількості слів в тексті\n",
        "batch_size = 64"
      ],
      "metadata": {
        "id": "vx5yoHRIKdvP"
      },
      "execution_count": null,
      "outputs": []
    },
    {
      "cell_type": "code",
      "source": [
        "(train_data, train_labels), (test_data, test_labels) = imdb.load_data(num_words=max_features)"
      ],
      "metadata": {
        "id": "iP4BP1gXICx8",
        "colab": {
          "base_uri": "https://localhost:8080/"
        },
        "outputId": "e9bd2d58-ddf2-432c-bea0-69a3d622be2a"
      },
      "execution_count": null,
      "outputs": [
        {
          "output_type": "stream",
          "name": "stdout",
          "text": [
            "Downloading data from https://storage.googleapis.com/tensorflow/tf-keras-datasets/imdb.npz\n",
            "17464789/17464789 [==============================] - 0s 0us/step\n"
          ]
        }
      ]
    },
    {
      "cell_type": "code",
      "source": [
        "train_data.shape, len(train_data[0]), len(train_data[4]), type(train_data[0])"
      ],
      "metadata": {
        "colab": {
          "base_uri": "https://localhost:8080/"
        },
        "id": "T4L93Yi0IGUk",
        "outputId": "f2542fd6-4822-430b-9f72-bc638ee3f874"
      },
      "execution_count": null,
      "outputs": [
        {
          "output_type": "execute_result",
          "data": {
            "text/plain": [
              "((25000,), 218, 147, list)"
            ]
          },
          "metadata": {},
          "execution_count": 6
        }
      ]
    },
    {
      "cell_type": "code",
      "source": [
        "train_labels.shape"
      ],
      "metadata": {
        "colab": {
          "base_uri": "https://localhost:8080/"
        },
        "id": "BD3QMmS9rIkj",
        "outputId": "20db4d6d-9cc7-4563-f098-72a973f91d14"
      },
      "execution_count": null,
      "outputs": [
        {
          "output_type": "execute_result",
          "data": {
            "text/plain": [
              "(25000,)"
            ]
          },
          "metadata": {},
          "execution_count": 7
        }
      ]
    },
    {
      "cell_type": "code",
      "source": [
        "from keras.utils.data_utils import pad_sequences\n",
        "input_train=pad_sequences(train_data, maxlen=maxlen)\n",
        "input_test=pad_sequences(test_data, maxlen=maxlen)"
      ],
      "metadata": {
        "id": "gz3gSVMYKqYf"
      },
      "execution_count": null,
      "outputs": []
    },
    {
      "cell_type": "code",
      "source": [
        "#y_train=tf.one_hot(train_labels, depth=2)\n",
        "#y_test=tf.one_hot(train_labels, depth=2)"
      ],
      "metadata": {
        "id": "nIunKU0tSdg3"
      },
      "execution_count": null,
      "outputs": []
    },
    {
      "cell_type": "code",
      "source": [
        "model=Sequential([\n",
        "    Embedding(input_dim=max_features, output_dim=32, input_length=maxlen),\n",
        "    Bidirectional(LSTM(32)),\n",
        "    Dense(1, activation='sigmoid')\n",
        "])"
      ],
      "metadata": {
        "id": "Ig1sssmRLZMg"
      },
      "execution_count": null,
      "outputs": []
    },
    {
      "cell_type": "code",
      "source": [
        "model.summary()"
      ],
      "metadata": {
        "colab": {
          "base_uri": "https://localhost:8080/"
        },
        "id": "uLfrcQqOLeC7",
        "outputId": "fa35c8b7-2975-4496-faff-1d1088e9979c"
      },
      "execution_count": null,
      "outputs": [
        {
          "output_type": "stream",
          "name": "stdout",
          "text": [
            "Model: \"sequential\"\n",
            "_________________________________________________________________\n",
            " Layer (type)                Output Shape              Param #   \n",
            "=================================================================\n",
            " embedding (Embedding)       (None, 500, 32)           320000    \n",
            "                                                                 \n",
            " bidirectional (Bidirectiona  (None, 64)               16640     \n",
            " l)                                                              \n",
            "                                                                 \n",
            " dense (Dense)               (None, 1)                 65        \n",
            "                                                                 \n",
            "=================================================================\n",
            "Total params: 336,705\n",
            "Trainable params: 336,705\n",
            "Non-trainable params: 0\n",
            "_________________________________________________________________\n"
          ]
        }
      ]
    },
    {
      "cell_type": "code",
      "source": [
        "model.compile(\n",
        "    optimizer=optimizers.Adam(learning_rate=0.0001),\n",
        "    loss=losses.BinaryCrossentropy(),\n",
        "    metrics=['binary_accuracy'],\n",
        ")"
      ],
      "metadata": {
        "id": "uSy92WspPlb_"
      },
      "execution_count": null,
      "outputs": []
    },
    {
      "cell_type": "code",
      "source": [
        "callback_early_stopping = EarlyStopping(\n",
        "    monitor=\"val_binary_accuracy\",\n",
        "    min_delta=0.00001,\n",
        "    patience=4,\n",
        ")"
      ],
      "metadata": {
        "id": "zWyWxvHwQKTz"
      },
      "execution_count": null,
      "outputs": []
    },
    {
      "cell_type": "code",
      "source": [
        "history = model.fit(\n",
        "    input_train,\n",
        "    train_labels,\n",
        "    epochs=20,\n",
        "    batch_size=batch_size,\n",
        "    callbacks=[callback_early_stopping],\n",
        "    validation_data=(input_test, test_labels))\n",
        "# Запускаємо навчання моделі на тренувальних даних для 5 епох з розміром пакету 128 та розбиттям на тренувальну та валідаційну підмножини"
      ],
      "metadata": {
        "colab": {
          "base_uri": "https://localhost:8080/"
        },
        "id": "SGahjmdrQMl9",
        "outputId": "b08e2c63-d56d-4f40-c69b-ffe7690c56f4"
      },
      "execution_count": null,
      "outputs": [
        {
          "output_type": "stream",
          "name": "stdout",
          "text": [
            "Epoch 1/20\n",
            "391/391 [==============================] - 293s 735ms/step - loss: 0.6703 - binary_accuracy: 0.5880 - val_loss: 0.5968 - val_binary_accuracy: 0.7660\n",
            "Epoch 2/20\n",
            "391/391 [==============================] - 288s 737ms/step - loss: 0.4842 - binary_accuracy: 0.8163 - val_loss: 0.4355 - val_binary_accuracy: 0.8099\n",
            "Epoch 3/20\n",
            "391/391 [==============================] - 284s 725ms/step - loss: 0.3586 - binary_accuracy: 0.8716 - val_loss: 0.3661 - val_binary_accuracy: 0.8598\n",
            "Epoch 4/20\n",
            "391/391 [==============================] - 284s 728ms/step - loss: 0.3038 - binary_accuracy: 0.8932 - val_loss: 0.3396 - val_binary_accuracy: 0.8666\n",
            "Epoch 5/20\n",
            "391/391 [==============================] - 283s 724ms/step - loss: 0.2626 - binary_accuracy: 0.9094 - val_loss: 0.3115 - val_binary_accuracy: 0.8754\n",
            "Epoch 6/20\n",
            "391/391 [==============================] - 291s 743ms/step - loss: 0.2329 - binary_accuracy: 0.9190 - val_loss: 0.3037 - val_binary_accuracy: 0.8776\n",
            "Epoch 7/20\n",
            "391/391 [==============================] - 290s 741ms/step - loss: 0.2087 - binary_accuracy: 0.9273 - val_loss: 0.3100 - val_binary_accuracy: 0.8770\n",
            "Epoch 8/20\n",
            "391/391 [==============================] - 286s 731ms/step - loss: 0.1896 - binary_accuracy: 0.9355 - val_loss: 0.2965 - val_binary_accuracy: 0.8795\n",
            "Epoch 9/20\n",
            "391/391 [==============================] - 283s 726ms/step - loss: 0.1755 - binary_accuracy: 0.9420 - val_loss: 0.3062 - val_binary_accuracy: 0.8761\n",
            "Epoch 10/20\n",
            "391/391 [==============================] - 255s 652ms/step - loss: 0.1584 - binary_accuracy: 0.9483 - val_loss: 0.3102 - val_binary_accuracy: 0.8754\n",
            "Epoch 11/20\n",
            "391/391 [==============================] - 291s 743ms/step - loss: 0.1461 - binary_accuracy: 0.9537 - val_loss: 0.3528 - val_binary_accuracy: 0.8705\n",
            "Epoch 12/20\n",
            "391/391 [==============================] - 293s 750ms/step - loss: 0.1351 - binary_accuracy: 0.9586 - val_loss: 0.3843 - val_binary_accuracy: 0.8665\n"
          ]
        }
      ]
    },
    {
      "cell_type": "code",
      "source": [
        "acc = history.history['binary_accuracy']\n",
        "val_acc = history.history['val_binary_accuracy']\n",
        "loss = history.history['loss']\n",
        "val_loss = history.history['val_loss']\n",
        "\n",
        "epochs = range(1, len(acc) + 1)\n",
        "\n",
        "plt.plot(epochs, acc, 'bo', label='Точність на тренуванні')  # Графік точності на тренувальних данних\n",
        "plt.plot(epochs, val_acc, 'b', label='Точність на валідації')  # Графік точності на валідаційних данних\n",
        "plt.title('Точність тренування і валідації')  # Заголовок графіку\n",
        "plt.legend()  # Показати легенду\n",
        "\n",
        "plt.figure()\n",
        "\n",
        "plt.plot(epochs, loss, 'bo', label='Втрати на тренуванні')  # Графік втрат на тренувальних данних\n",
        "plt.plot(epochs, val_loss, 'b', label='Втрати на валідації')  # Графік втрат на валідаційних данних\n",
        "plt.title('Втрати тренування і валідації')  # Заголовок графіку\n",
        "plt.legend()  # Показати легенду\n",
        "\n",
        "plt.show()  # Відобразити графіки"
      ],
      "metadata": {
        "id": "_9FfZELYUnUy",
        "colab": {
          "base_uri": "https://localhost:8080/",
          "height": 887
        },
        "outputId": "15689343-ea3f-4ba6-f70c-f50325286832"
      },
      "execution_count": null,
      "outputs": [
        {
          "output_type": "display_data",
          "data": {
            "text/plain": [
              "<Figure size 640x480 with 1 Axes>"
            ],
            "image/png": "[encoded data removed]"
          },
          "metadata": {}
        },
        {
          "output_type": "display_data",
          "data": {
            "text/plain": [
              "<Figure size 640x480 with 1 Axes>"
            ],
            "image/png": "[encoded data removed]"
          },
          "metadata": {}
        }
      ]
    },
    {
      "cell_type": "code",
      "source": [
        "results = model.evaluate(input_test, test_labels)\n",
        "print(results)"
      ],
      "metadata": {
        "id": "eCA9bhgS2-9k",
        "colab": {
          "base_uri": "https://localhost:8080/"
        },
        "outputId": "ada1a29e-e5b7-47f7-e8c8-ef4838f0eb61"
      },
      "execution_count": null,
      "outputs": [
        {
          "output_type": "stream",
          "name": "stdout",
          "text": [
            "782/782 [==============================] - 71s 91ms/step - loss: 0.3843 - binary_accuracy: 0.8665\n",
            "[0.3842717707157135, 0.8664799928665161]\n"
          ]
        }
      ]
    },
    {
      "cell_type": "code",
      "source": [
        "model.save(\"/content/drive/MyDrive/Data S/Hw11/model_Hw11_Bidirect_LSTM2_\")"
      ],
      "metadata": {
        "id": "pA6fHCQX295N",
        "colab": {
          "base_uri": "https://localhost:8080/"
        },
        "outputId": "e619586b-36aa-4954-d6dc-ccee25a3a5b3"
      },
      "execution_count": null,
      "outputs": [
        {
          "output_type": "stream",
          "name": "stderr",
          "text": [
            "WARNING:absl:Found untraced functions such as lstm_cell_1_layer_call_fn, lstm_cell_1_layer_call_and_return_conditional_losses, lstm_cell_2_layer_call_fn, lstm_cell_2_layer_call_and_return_conditional_losses while saving (showing 4 of 4). These functions will not be directly callable after loading.\n"
          ]
        }
      ]
    }
  ]
}