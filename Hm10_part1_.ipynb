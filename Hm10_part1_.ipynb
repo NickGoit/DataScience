{
  "nbformat": 4,
  "nbformat_minor": 0,
  "metadata": {
    "colab": {
      "provenance": []
    },
    "kernelspec": {
      "name": "python3",
      "display_name": "Python 3"
    },
    "language_info": {
      "name": "python"
    }
  },
  "cells": [
    {
      "cell_type": "markdown",
      "source": [
        "Частина 1\n",
        "\n",
        "В якості домашнього завдання вам пропонується створити нейронну мережу за допомогою механізмів Keras, яка буде класифікувати товари із датасету fasion_mnist.\n",
        "\n",
        "На відміну від попереднього завдання вам пропонується створити згорткову нейромережу. Підберіть архітектуру мережі та навчіть її на даних із датасету fasion_mnist. Спробуйте досягти максимально можливої точності класифікації за рахунок маніпуляції параметрами мережі. Порівняйте точність отриманої згорткової мережі з точністю багатошарової мережі з попереднього завдання. Зробіть висновки."
      ],
      "metadata": {
        "id": "gE2t3lPC8Yny"
      }
    },
    {
      "cell_type": "code",
      "execution_count": null,
      "metadata": {
        "id": "SksbRnND47_Y"
      },
      "outputs": [],
      "source": [
        "import numpy as np\n",
        "import matplotlib.pyplot as plt\n",
        "import tensorflow as tf\n",
        "\n",
        "from tensorflow import keras\n",
        "from keras.models import Sequential\n",
        "from keras.layers import Dense, Conv2D, MaxPooling2D, Flatten\n",
        "from keras import optimizers\n",
        "from keras import losses\n",
        "from keras import metrics\n",
        "from keras.callbacks import EarlyStopping"
      ]
    },
    {
      "cell_type": "code",
      "source": [
        "from keras.datasets import fashion_mnist"
      ],
      "metadata": {
        "id": "F63sc5IE7qqg"
      },
      "execution_count": null,
      "outputs": []
    },
    {
      "cell_type": "code",
      "source": [
        "num_classes = 10 # общее количество классов, в нашем случае это цифры от 0 до 9\n",
        "batch_size = 500 # пересчитывать веса сети мы будем не на всей выборке, а на ее случайном подможестве из batch_size элементов"
      ],
      "metadata": {
        "id": "vRwRAFXj7sxQ"
      },
      "execution_count": null,
      "outputs": []
    },
    {
      "cell_type": "code",
      "source": [
        "(train_data, train_labels), (test_data, test_labels) = fashion_mnist.load_data()\n",
        "\n",
        "train_images = train_data.reshape((60000, 28, 28, 1))\n",
        "train_images = train_data.astype(\"float32\") / 255\n",
        "train_labels=tf.one_hot(train_labels, depth=num_classes)\n",
        "\n",
        "test_images=test_data.reshape((10000,28,28,1))\n",
        "test_images=test_images.astype(\"float32\")/255\n",
        "test_labels=tf.one_hot(test_labels, depth=num_classes)"
      ],
      "metadata": {
        "id": "cdH85d927w45"
      },
      "execution_count": null,
      "outputs": []
    },
    {
      "cell_type": "code",
      "source": [
        "plt.imshow(test_data[0], cmap='gray')\n",
        "plt.show()"
      ],
      "metadata": {
        "id": "OBQGHDVT8N8Q"
      },
      "execution_count": null,
      "outputs": []
    },
    {
      "cell_type": "code",
      "source": [
        "model = Sequential([\n",
        "    Conv2D(32, (3, 3), activation=\"sigmoid\", input_shape=(28, 28, 1)),\n",
        "    MaxPooling2D((2, 2)),\n",
        "\n",
        "    Conv2D(64, (3, 3), activation=\"sigmoid\"),\n",
        "    MaxPooling2D((2, 2)),\n",
        "\n",
        "    Conv2D(64, (3, 3), activation=\"sigmoid\"),\n",
        "\n",
        "    Flatten(),\n",
        "    Dense(128, activation=\"sigmoid\"),\n",
        "\n",
        "    Dense(10, activation=\"softmax\")\n",
        "])"
      ],
      "metadata": {
        "id": "8GHGvrJC9PIT"
      },
      "execution_count": null,
      "outputs": []
    },
    {
      "cell_type": "code",
      "source": [
        "model.compile(\n",
        "    optimizer=optimizers.Adam(learning_rate=0.001),\n",
        "    loss=losses.CategoricalCrossentropy(),\n",
        "    metrics=['categorical_accuracy'],\n",
        ")"
      ],
      "metadata": {
        "id": "cNC6Y5pcHRee"
      },
      "execution_count": null,
      "outputs": []
    },
    {
      "cell_type": "code",
      "source": [
        "callback_early_stopping = EarlyStopping(\n",
        "    monitor=\"val_categorical_accuracy\",\n",
        "    min_delta=0.0001,\n",
        "    patience=5,\n",
        ")"
      ],
      "metadata": {
        "id": "2WY9p5jYIEvI"
      },
      "execution_count": null,
      "outputs": []
    },
    {
      "cell_type": "code",
      "source": [
        "model.summary()"
      ],
      "metadata": {
        "colab": {
          "base_uri": "https://localhost:8080/"
        },
        "id": "myAQo_jEHWr_",
        "outputId": "ac2ba5c6-f946-487c-ce54-1b093fe631dc"
      },
      "execution_count": null,
      "outputs": [
        {
          "output_type": "stream",
          "name": "stdout",
          "text": [
            "Model: \"sequential\"\n",
            "_________________________________________________________________\n",
            " Layer (type)                Output Shape              Param #   \n",
            "=================================================================\n",
            " conv2d (Conv2D)             (None, 26, 26, 32)        320       \n",
            "                                                                 \n",
            " max_pooling2d (MaxPooling2D  (None, 13, 13, 32)       0         \n",
            " )                                                               \n",
            "                                                                 \n",
            " conv2d_1 (Conv2D)           (None, 11, 11, 64)        18496     \n",
            "                                                                 \n",
            " max_pooling2d_1 (MaxPooling  (None, 5, 5, 64)         0         \n",
            " 2D)                                                             \n",
            "                                                                 \n",
            " conv2d_2 (Conv2D)           (None, 3, 3, 64)          36928     \n",
            "                                                                 \n",
            " flatten (Flatten)           (None, 576)               0         \n",
            "                                                                 \n",
            " dense (Dense)               (None, 128)               73856     \n",
            "                                                                 \n",
            " dense_1 (Dense)             (None, 10)                1290      \n",
            "                                                                 \n",
            "=================================================================\n",
            "Total params: 130,890\n",
            "Trainable params: 130,890\n",
            "Non-trainable params: 0\n",
            "_________________________________________________________________\n"
          ]
        }
      ]
    },
    {
      "cell_type": "code",
      "source": [
        "history=model.fit(\n",
        "    train_images,\n",
        "    train_labels,\n",
        "    epochs=50,\n",
        "    batch_size=batch_size,\n",
        "    validation_data=(test_images, test_labels),\n",
        "    callbacks=[callback_early_stopping],\n",
        "    verbose=1,\n",
        ")"
      ],
      "metadata": {
        "colab": {
          "base_uri": "https://localhost:8080/"
        },
        "id": "HmLQZmCFHYUo",
        "outputId": "66f0a768-89b6-437e-c1ed-0ee61fa99058"
      },
      "execution_count": null,
      "outputs": [
        {
          "output_type": "stream",
          "name": "stdout",
          "text": [
            "Epoch 1/50\n",
            "120/120 [==============================] - 64s 523ms/step - loss: 2.1881 - categorical_accuracy: 0.1989 - val_loss: 1.3975 - val_categorical_accuracy: 0.5446\n",
            "Epoch 2/50\n",
            "120/120 [==============================] - 59s 496ms/step - loss: 0.9425 - categorical_accuracy: 0.6733 - val_loss: 0.8030 - val_categorical_accuracy: 0.7073\n",
            "Epoch 3/50\n",
            "120/120 [==============================] - 58s 486ms/step - loss: 0.7267 - categorical_accuracy: 0.7293 - val_loss: 0.7100 - val_categorical_accuracy: 0.7303\n",
            "Epoch 4/50\n",
            "120/120 [==============================] - 60s 495ms/step - loss: 0.6562 - categorical_accuracy: 0.7520 - val_loss: 0.6623 - val_categorical_accuracy: 0.7499\n",
            "Epoch 5/50\n",
            "120/120 [==============================] - 59s 496ms/step - loss: 0.6120 - categorical_accuracy: 0.7685 - val_loss: 0.6334 - val_categorical_accuracy: 0.7556\n",
            "Epoch 6/50\n",
            "120/120 [==============================] - 58s 487ms/step - loss: 0.5748 - categorical_accuracy: 0.7830 - val_loss: 0.5843 - val_categorical_accuracy: 0.7845\n",
            "Epoch 7/50\n",
            "120/120 [==============================] - 60s 504ms/step - loss: 0.5435 - categorical_accuracy: 0.7948 - val_loss: 0.5622 - val_categorical_accuracy: 0.7840\n",
            "Epoch 8/50\n",
            "120/120 [==============================] - 59s 491ms/step - loss: 0.5158 - categorical_accuracy: 0.8063 - val_loss: 0.5360 - val_categorical_accuracy: 0.7991\n",
            "Epoch 9/50\n",
            "120/120 [==============================] - 60s 501ms/step - loss: 0.4916 - categorical_accuracy: 0.8160 - val_loss: 0.5121 - val_categorical_accuracy: 0.8118\n",
            "Epoch 10/50\n",
            "120/120 [==============================] - 61s 507ms/step - loss: 0.4682 - categorical_accuracy: 0.8248 - val_loss: 0.4969 - val_categorical_accuracy: 0.8137\n",
            "Epoch 11/50\n",
            "120/120 [==============================] - 59s 489ms/step - loss: 0.4508 - categorical_accuracy: 0.8316 - val_loss: 0.4742 - val_categorical_accuracy: 0.8251\n",
            "Epoch 12/50\n",
            "120/120 [==============================] - 59s 493ms/step - loss: 0.4362 - categorical_accuracy: 0.8377 - val_loss: 0.4553 - val_categorical_accuracy: 0.8285\n",
            "Epoch 13/50\n",
            "120/120 [==============================] - 61s 513ms/step - loss: 0.4213 - categorical_accuracy: 0.8443 - val_loss: 0.4456 - val_categorical_accuracy: 0.8368\n",
            "Epoch 14/50\n",
            "120/120 [==============================] - 60s 497ms/step - loss: 0.4090 - categorical_accuracy: 0.8493 - val_loss: 0.4371 - val_categorical_accuracy: 0.8376\n",
            "Epoch 15/50\n",
            "120/120 [==============================] - 59s 491ms/step - loss: 0.3981 - categorical_accuracy: 0.8539 - val_loss: 0.4260 - val_categorical_accuracy: 0.8440\n",
            "Epoch 16/50\n",
            "120/120 [==============================] - 61s 511ms/step - loss: 0.3877 - categorical_accuracy: 0.8577 - val_loss: 0.4127 - val_categorical_accuracy: 0.8474\n",
            "Epoch 17/50\n",
            "120/120 [==============================] - 58s 485ms/step - loss: 0.3781 - categorical_accuracy: 0.8621 - val_loss: 0.4049 - val_categorical_accuracy: 0.8501\n",
            "Epoch 18/50\n",
            "120/120 [==============================] - 60s 502ms/step - loss: 0.3709 - categorical_accuracy: 0.8635 - val_loss: 0.4069 - val_categorical_accuracy: 0.8481\n",
            "Epoch 19/50\n",
            "120/120 [==============================] - 58s 486ms/step - loss: 0.3620 - categorical_accuracy: 0.8678 - val_loss: 0.3896 - val_categorical_accuracy: 0.8581\n",
            "Epoch 20/50\n",
            "120/120 [==============================] - 59s 489ms/step - loss: 0.3558 - categorical_accuracy: 0.8704 - val_loss: 0.3883 - val_categorical_accuracy: 0.8571\n",
            "Epoch 21/50\n",
            "120/120 [==============================] - 62s 515ms/step - loss: 0.3481 - categorical_accuracy: 0.8728 - val_loss: 0.3887 - val_categorical_accuracy: 0.8593\n",
            "Epoch 22/50\n",
            "120/120 [==============================] - 58s 483ms/step - loss: 0.3422 - categorical_accuracy: 0.8749 - val_loss: 0.3821 - val_categorical_accuracy: 0.8596\n",
            "Epoch 23/50\n",
            "120/120 [==============================] - 60s 501ms/step - loss: 0.3357 - categorical_accuracy: 0.8763 - val_loss: 0.3733 - val_categorical_accuracy: 0.8619\n",
            "Epoch 24/50\n",
            "120/120 [==============================] - 60s 501ms/step - loss: 0.3308 - categorical_accuracy: 0.8791 - val_loss: 0.3689 - val_categorical_accuracy: 0.8658\n",
            "Epoch 25/50\n",
            "120/120 [==============================] - 59s 491ms/step - loss: 0.3254 - categorical_accuracy: 0.8805 - val_loss: 0.3665 - val_categorical_accuracy: 0.8667\n",
            "Epoch 26/50\n",
            "120/120 [==============================] - 60s 502ms/step - loss: 0.3194 - categorical_accuracy: 0.8829 - val_loss: 0.3544 - val_categorical_accuracy: 0.8699\n",
            "Epoch 27/50\n",
            "120/120 [==============================] - 58s 485ms/step - loss: 0.3149 - categorical_accuracy: 0.8839 - val_loss: 0.3529 - val_categorical_accuracy: 0.8717\n",
            "Epoch 28/50\n",
            "120/120 [==============================] - 59s 490ms/step - loss: 0.3126 - categorical_accuracy: 0.8838 - val_loss: 0.3511 - val_categorical_accuracy: 0.8695\n",
            "Epoch 29/50\n",
            "120/120 [==============================] - 60s 499ms/step - loss: 0.3047 - categorical_accuracy: 0.8885 - val_loss: 0.3453 - val_categorical_accuracy: 0.8721\n",
            "Epoch 30/50\n",
            "120/120 [==============================] - 60s 497ms/step - loss: 0.3034 - categorical_accuracy: 0.8880 - val_loss: 0.3453 - val_categorical_accuracy: 0.8741\n",
            "Epoch 31/50\n",
            "120/120 [==============================] - 60s 503ms/step - loss: 0.2970 - categorical_accuracy: 0.8913 - val_loss: 0.3428 - val_categorical_accuracy: 0.8745\n",
            "Epoch 32/50\n",
            "120/120 [==============================] - 60s 500ms/step - loss: 0.2927 - categorical_accuracy: 0.8923 - val_loss: 0.3379 - val_categorical_accuracy: 0.8748\n",
            "Epoch 33/50\n",
            "120/120 [==============================] - 60s 499ms/step - loss: 0.2900 - categorical_accuracy: 0.8920 - val_loss: 0.3395 - val_categorical_accuracy: 0.8761\n",
            "Epoch 34/50\n",
            "120/120 [==============================] - 61s 505ms/step - loss: 0.2875 - categorical_accuracy: 0.8936 - val_loss: 0.3317 - val_categorical_accuracy: 0.8782\n",
            "Epoch 35/50\n",
            "120/120 [==============================] - 61s 508ms/step - loss: 0.2830 - categorical_accuracy: 0.8961 - val_loss: 0.3320 - val_categorical_accuracy: 0.8767\n",
            "Epoch 36/50\n",
            "120/120 [==============================] - 59s 492ms/step - loss: 0.2805 - categorical_accuracy: 0.8966 - val_loss: 0.3292 - val_categorical_accuracy: 0.8804\n",
            "Epoch 37/50\n",
            "120/120 [==============================] - 61s 508ms/step - loss: 0.2785 - categorical_accuracy: 0.8965 - val_loss: 0.3266 - val_categorical_accuracy: 0.8791\n",
            "Epoch 38/50\n",
            "120/120 [==============================] - 62s 515ms/step - loss: 0.2746 - categorical_accuracy: 0.8983 - val_loss: 0.3200 - val_categorical_accuracy: 0.8810\n",
            "Epoch 39/50\n",
            "120/120 [==============================] - 60s 497ms/step - loss: 0.2729 - categorical_accuracy: 0.8979 - val_loss: 0.3236 - val_categorical_accuracy: 0.8819\n",
            "Epoch 40/50\n",
            "120/120 [==============================] - 60s 501ms/step - loss: 0.2694 - categorical_accuracy: 0.9002 - val_loss: 0.3195 - val_categorical_accuracy: 0.8845\n",
            "Epoch 41/50\n",
            "120/120 [==============================] - 61s 508ms/step - loss: 0.2642 - categorical_accuracy: 0.9026 - val_loss: 0.3211 - val_categorical_accuracy: 0.8810\n",
            "Epoch 42/50\n",
            "120/120 [==============================] - 59s 493ms/step - loss: 0.2617 - categorical_accuracy: 0.9023 - val_loss: 0.3137 - val_categorical_accuracy: 0.8822\n",
            "Epoch 43/50\n",
            "120/120 [==============================] - 61s 503ms/step - loss: 0.2588 - categorical_accuracy: 0.9043 - val_loss: 0.3110 - val_categorical_accuracy: 0.8841\n",
            "Epoch 44/50\n",
            "120/120 [==============================] - 61s 506ms/step - loss: 0.2588 - categorical_accuracy: 0.9039 - val_loss: 0.3156 - val_categorical_accuracy: 0.8831\n",
            "Epoch 45/50\n",
            "120/120 [==============================] - 62s 520ms/step - loss: 0.2569 - categorical_accuracy: 0.9057 - val_loss: 0.3118 - val_categorical_accuracy: 0.8854\n",
            "Epoch 46/50\n",
            "120/120 [==============================] - 60s 498ms/step - loss: 0.2523 - categorical_accuracy: 0.9065 - val_loss: 0.3054 - val_categorical_accuracy: 0.8867\n",
            "Epoch 47/50\n",
            "120/120 [==============================] - 61s 509ms/step - loss: 0.2528 - categorical_accuracy: 0.9044 - val_loss: 0.3109 - val_categorical_accuracy: 0.8852\n",
            "Epoch 48/50\n",
            "120/120 [==============================] - 61s 507ms/step - loss: 0.2461 - categorical_accuracy: 0.9082 - val_loss: 0.3161 - val_categorical_accuracy: 0.8829\n",
            "Epoch 49/50\n",
            "120/120 [==============================] - 63s 522ms/step - loss: 0.2453 - categorical_accuracy: 0.9089 - val_loss: 0.3118 - val_categorical_accuracy: 0.8852\n",
            "Epoch 50/50\n",
            "120/120 [==============================] - 60s 500ms/step - loss: 0.2419 - categorical_accuracy: 0.9092 - val_loss: 0.3120 - val_categorical_accuracy: 0.8855\n"
          ]
        }
      ]
    },
    {
      "cell_type": "code",
      "source": [
        "import matplotlib.pyplot as plt\n",
        "\n",
        "\n",
        "history_dict = history.history\n",
        "loss_values = history_dict['loss']\n",
        "val_loss_values = history_dict['val_loss']\n",
        "\n",
        "epochs = range(1, len(history_dict['categorical_accuracy']) + 1)\n",
        "\n",
        "plt.plot(epochs, loss_values, 'bo', label='Training loss')\n",
        "plt.plot(epochs, val_loss_values, 'b', label='Validation loss')\n",
        "plt.title('Training and validation loss')\n",
        "plt.xlabel('Epochs')\n",
        "plt.ylabel('Loss')\n",
        "plt.legend()\n",
        "plt.show()\n",
        "\n",
        "plt.clf()\n",
        "val_acc_values = history_dict['val_categorical_accuracy']\n",
        "plt.plot(epochs, history_dict['categorical_accuracy'], 'bo', label='Training acc')\n",
        "plt.plot(epochs, history_dict['val_categorical_accuracy'], 'b', label='Validation acc')\n",
        "plt.title('Training and validation accuracy')\n",
        "plt.xlabel('Epochs')\n",
        "plt.ylabel('Loss')\n",
        "plt.legend()"
      ],
      "metadata": {
        "colab": {
          "base_uri": "https://localhost:8080/",
          "height": 944
        },
        "id": "-s2YjWW9Idew",
        "outputId": "e9af30e2-af8a-466d-d69f-154f3d4cb005"
      },
      "execution_count": null,
      "outputs": [
        {
          "output_type": "display_data",
          "data": {
            "text/plain": [
              "<Figure size 640x480 with 1 Axes>"
            ],
            "image/png": "[encoded data removed]"
          },
          "metadata": {}
        },
        {
          "output_type": "execute_result",
          "data": {
            "text/plain": [
              "<matplotlib.legend.Legend at 0x7fc144aab130>"
            ]
          },
          "metadata": {},
          "execution_count": 42
        },
        {
          "output_type": "display_data",
          "data": {
            "text/plain": [
              "<Figure size 640x480 with 1 Axes>"
            ],
            "image/png": "[encoded data removed]"
          },
          "metadata": {}
        }
      ]
    },
    {
      "cell_type": "code",
      "source": [
        "results = model.evaluate(test_images, test_labels)\n",
        "print(results)"
      ],
      "metadata": {
        "colab": {
          "base_uri": "https://localhost:8080/"
        },
        "id": "wJh0_ol1Ifs3",
        "outputId": "259656ad-630c-4874-ff1e-3e1f2d7e0375"
      },
      "execution_count": null,
      "outputs": [
        {
          "output_type": "stream",
          "name": "stdout",
          "text": [
            "313/313 [==============================] - 3s 10ms/step - loss: 0.3120 - categorical_accuracy: 0.8855\n",
            "[0.31203848123550415, 0.8855000138282776]\n"
          ]
        }
      ]
    },
    {
      "cell_type": "code",
      "source": [
        "model.save(\"/content/drive/MyDrive/Data S/Hw10/model_Hw10_part1_\")"
      ],
      "metadata": {
        "colab": {
          "base_uri": "https://localhost:8080/"
        },
        "id": "YzpZh4A_Wjk0",
        "outputId": "8c95cc2d-4a02-4b54-d930-ab0d55740848"
      },
      "execution_count": null,
      "outputs": [
        {
          "output_type": "stream",
          "name": "stderr",
          "text": [
            "WARNING:absl:Found untraced functions such as _jit_compiled_convolution_op, _jit_compiled_convolution_op, _jit_compiled_convolution_op while saving (showing 3 of 3). These functions will not be directly callable after loading.\n"
          ]
        }
      ]
    },
    {
      "cell_type": "markdown",
      "source": [
        "Висновки\n",
        "\n",
        "Була розроблена нейрона мережа на базі згорткової моделі. Отримана точність 88%"
      ],
      "metadata": {
        "id": "SuI1C2-EAZaP"
      }
    }
  ]
}