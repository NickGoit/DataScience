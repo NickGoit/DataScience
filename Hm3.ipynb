{
  "nbformat": 4,
  "nbformat_minor": 0,
  "metadata": {
    "colab": {
      "provenance": []
    },
    "kernelspec": {
      "name": "python3",
      "display_name": "Python 3"
    },
    "language_info": {
      "name": "python"
    }
  },
  "cells": [
    {
      "cell_type": "code",
      "execution_count": 287,
      "metadata": {
        "id": "QfwNSzo3hzYQ"
      },
      "outputs": [],
      "source": [
        "import pandas as pd\n",
        "import numpy as np\n",
        "import matplotlib.pyplot as plt"
      ]
    },
    {
      "cell_type": "code",
      "source": [
        "df = pd.read_csv('/content/drive/MyDrive/Data S/Housing.csv')\n",
        "df.head(2)"
      ],
      "metadata": {
        "colab": {
          "base_uri": "https://localhost:8080/",
          "height": 112
        },
        "id": "b2FXpT9Xic0T",
        "outputId": "19fb047f-b412-4fb8-96f9-2f8f842753df"
      },
      "execution_count": 288,
      "outputs": [
        {
          "output_type": "execute_result",
          "data": {
            "text/plain": [
              "      price  area  bedrooms  bathrooms  stories mainroad guestroom basement  \\\n",
              "0  13300000  7420         4          2        3      yes        no       no   \n",
              "1  12250000  8960         4          4        4      yes        no       no   \n",
              "\n",
              "  hotwaterheating airconditioning  parking prefarea furnishingstatus  \n",
              "0              no             yes        2      yes        furnished  \n",
              "1              no             yes        3       no        furnished  "
            ],
            "text/html": [
              "\n",
              "  <div id=\"df-47abaf48-9436-4e62-a71a-8f64b0c331dd\">\n",
              "    <div class=\"colab-df-container\">\n",
              "      <div>\n",
              "<style scoped>\n",
              "    .dataframe tbody tr th:only-of-type {\n",
              "        vertical-align: middle;\n",
              "    }\n",
              "\n",
              "    .dataframe tbody tr th {\n",
              "        vertical-align: top;\n",
              "    }\n",
              "\n",
              "    .dataframe thead th {\n",
              "        text-align: right;\n",
              "    }\n",
              "</style>\n",
              "<table border=\"1\" class=\"dataframe\">\n",
              "  <thead>\n",
              "    <tr style=\"text-align: right;\">\n",
              "      <th></th>\n",
              "      <th>price</th>\n",
              "      <th>area</th>\n",
              "      <th>bedrooms</th>\n",
              "      <th>bathrooms</th>\n",
              "      <th>stories</th>\n",
              "      <th>mainroad</th>\n",
              "      <th>guestroom</th>\n",
              "      <th>basement</th>\n",
              "      <th>hotwaterheating</th>\n",
              "      <th>airconditioning</th>\n",
              "      <th>parking</th>\n",
              "      <th>prefarea</th>\n",
              "      <th>furnishingstatus</th>\n",
              "    </tr>\n",
              "  </thead>\n",
              "  <tbody>\n",
              "    <tr>\n",
              "      <th>0</th>\n",
              "      <td>13300000</td>\n",
              "      <td>7420</td>\n",
              "      <td>4</td>\n",
              "      <td>2</td>\n",
              "      <td>3</td>\n",
              "      <td>yes</td>\n",
              "      <td>no</td>\n",
              "      <td>no</td>\n",
              "      <td>no</td>\n",
              "      <td>yes</td>\n",
              "      <td>2</td>\n",
              "      <td>yes</td>\n",
              "      <td>furnished</td>\n",
              "    </tr>\n",
              "    <tr>\n",
              "      <th>1</th>\n",
              "      <td>12250000</td>\n",
              "      <td>8960</td>\n",
              "      <td>4</td>\n",
              "      <td>4</td>\n",
              "      <td>4</td>\n",
              "      <td>yes</td>\n",
              "      <td>no</td>\n",
              "      <td>no</td>\n",
              "      <td>no</td>\n",
              "      <td>yes</td>\n",
              "      <td>3</td>\n",
              "      <td>no</td>\n",
              "      <td>furnished</td>\n",
              "    </tr>\n",
              "  </tbody>\n",
              "</table>\n",
              "</div>\n",
              "      <button class=\"colab-df-convert\" onclick=\"convertToInteractive('df-47abaf48-9436-4e62-a71a-8f64b0c331dd')\"\n",
              "              title=\"Convert this dataframe to an interactive table.\"\n",
              "              style=\"display:none;\">\n",
              "        \n",
              "  <svg xmlns=\"http://www.w3.org/2000/svg\" height=\"24px\"viewBox=\"0 0 24 24\"\n",
              "       width=\"24px\">\n",
              "    <path d=\"M0 0h24v24H0V0z\" fill=\"none\"/>\n",
              "    <path d=\"M18.56 5.44l.94 2.06.94-2.06 2.06-.94-2.06-.94-.94-2.06-.94 2.06-2.06.94zm-11 1L8.5 8.5l.94-2.06 2.06-.94-2.06-.94L8.5 2.5l-.94 2.06-2.06.94zm10 10l.94 2.06.94-2.06 2.06-.94-2.06-.94-.94-2.06-.94 2.06-2.06.94z\"/><path d=\"M17.41 7.96l-1.37-1.37c-.4-.4-.92-.59-1.43-.59-.52 0-1.04.2-1.43.59L10.3 9.45l-7.72 7.72c-.78.78-.78 2.05 0 2.83L4 21.41c.39.39.9.59 1.41.59.51 0 1.02-.2 1.41-.59l7.78-7.78 2.81-2.81c.8-.78.8-2.07 0-2.86zM5.41 20L4 18.59l7.72-7.72 1.47 1.35L5.41 20z\"/>\n",
              "  </svg>\n",
              "      </button>\n",
              "      \n",
              "  <style>\n",
              "    .colab-df-container {\n",
              "      display:flex;\n",
              "      flex-wrap:wrap;\n",
              "      gap: 12px;\n",
              "    }\n",
              "\n",
              "    .colab-df-convert {\n",
              "      background-color: #E8F0FE;\n",
              "      border: none;\n",
              "      border-radius: 50%;\n",
              "      cursor: pointer;\n",
              "      display: none;\n",
              "      fill: #1967D2;\n",
              "      height: 32px;\n",
              "      padding: 0 0 0 0;\n",
              "      width: 32px;\n",
              "    }\n",
              "\n",
              "    .colab-df-convert:hover {\n",
              "      background-color: #E2EBFA;\n",
              "      box-shadow: 0px 1px 2px rgba(60, 64, 67, 0.3), 0px 1px 3px 1px rgba(60, 64, 67, 0.15);\n",
              "      fill: #174EA6;\n",
              "    }\n",
              "\n",
              "    [theme=dark] .colab-df-convert {\n",
              "      background-color: #3B4455;\n",
              "      fill: #D2E3FC;\n",
              "    }\n",
              "\n",
              "    [theme=dark] .colab-df-convert:hover {\n",
              "      background-color: #434B5C;\n",
              "      box-shadow: 0px 1px 3px 1px rgba(0, 0, 0, 0.15);\n",
              "      filter: drop-shadow(0px 1px 2px rgba(0, 0, 0, 0.3));\n",
              "      fill: #FFFFFF;\n",
              "    }\n",
              "  </style>\n",
              "\n",
              "      <script>\n",
              "        const buttonEl =\n",
              "          document.querySelector('#df-47abaf48-9436-4e62-a71a-8f64b0c331dd button.colab-df-convert');\n",
              "        buttonEl.style.display =\n",
              "          google.colab.kernel.accessAllowed ? 'block' : 'none';\n",
              "\n",
              "        async function convertToInteractive(key) {\n",
              "          const element = document.querySelector('#df-47abaf48-9436-4e62-a71a-8f64b0c331dd');\n",
              "          const dataTable =\n",
              "            await google.colab.kernel.invokeFunction('convertToInteractive',\n",
              "                                                     [key], {});\n",
              "          if (!dataTable) return;\n",
              "\n",
              "          const docLinkHtml = 'Like what you see? Visit the ' +\n",
              "            '<a target=\"_blank\" href=https://colab.research.google.com/notebooks/data_table.ipynb>data table notebook</a>'\n",
              "            + ' to learn more about interactive tables.';\n",
              "          element.innerHTML = '';\n",
              "          dataTable['output_type'] = 'display_data';\n",
              "          await google.colab.output.renderOutput(dataTable, element);\n",
              "          const docLink = document.createElement('div');\n",
              "          docLink.innerHTML = docLinkHtml;\n",
              "          element.appendChild(docLink);\n",
              "        }\n",
              "      </script>\n",
              "    </div>\n",
              "  </div>\n",
              "  "
            ]
          },
          "metadata": {},
          "execution_count": 288
        }
      ]
    },
    {
      "cell_type": "code",
      "source": [
        "plt.scatter(data=df, x='area', y='price')\n",
        "plt.grid()\n",
        "plt.show()"
      ],
      "metadata": {
        "colab": {
          "base_uri": "https://localhost:8080/",
          "height": 445
        },
        "id": "ICgRUQXlin8k",
        "outputId": "eb131e2b-8444-4567-f3d3-7fcc92802469"
      },
      "execution_count": 289,
      "outputs": [
        {
          "output_type": "display_data",
          "data": {
            "text/plain": [
              "<Figure size 640x480 with 1 Axes>"
            ],
            "image/png": "[encoded data removed]"
          },
          "metadata": {}
        }
      ]
    },
    {
      "cell_type": "markdown",
      "source": [
        "# Формуємо вектор даних Х та У"
      ],
      "metadata": {
        "id": "MBhlt_U4mTxX"
      }
    },
    {
      "cell_type": "code",
      "source": [
        "X_ones=np.ones(545).reshape(-1,1)\n",
        "X_area=np.expand_dims(df.area, axis=1)\n",
        "X_bathroom=np.expand_dims(df.bathrooms, axis=1)\n",
        "X_bedrooms=np.expand_dims(df.bedrooms, axis=1)"
      ],
      "metadata": {
        "id": "BpCExLaoxcBq"
      },
      "execution_count": 326,
      "outputs": []
    },
    {
      "cell_type": "code",
      "source": [
        "Y=np.array(df['price'])"
      ],
      "metadata": {
        "id": "kc9oDEEQS6o2"
      },
      "execution_count": 327,
      "outputs": []
    },
    {
      "cell_type": "code",
      "source": [
        "X=np.hstack([\n",
        "    X_ones,\n",
        "    X_area,\n",
        "    X_bathroom,\n",
        "    X_bedrooms,\n",
        "    ])\n",
        "print(X)\n",
        "print(X.shape)"
      ],
      "metadata": {
        "colab": {
          "base_uri": "https://localhost:8080/"
        },
        "id": "247KWAdDYqYk",
        "outputId": "5a0931c5-b561-49d5-e623-6eaf2e425c24"
      },
      "execution_count": 295,
      "outputs": [
        {
          "output_type": "stream",
          "name": "stdout",
          "text": [
            "[[1.00e+00 7.42e+03 2.00e+00 4.00e+00]\n",
            " [1.00e+00 8.96e+03 4.00e+00 4.00e+00]\n",
            " [1.00e+00 9.96e+03 2.00e+00 3.00e+00]\n",
            " ...\n",
            " [1.00e+00 3.62e+03 1.00e+00 2.00e+00]\n",
            " [1.00e+00 2.91e+03 1.00e+00 3.00e+00]\n",
            " [1.00e+00 3.85e+03 1.00e+00 3.00e+00]]\n",
            "(545, 4)\n"
          ]
        }
      ]
    },
    {
      "cell_type": "markdown",
      "source": [
        "#Знайдемо аналітичне рішення"
      ],
      "metadata": {
        "id": "urfjg8XkmfZO"
      }
    },
    {
      "cell_type": "code",
      "source": [
        "def analytic_eq(x,y):\n",
        "  return np.linalg.inv(x.T.dot(x)).dot(x.T).dot(y)\n",
        "\n",
        "analitic_w=analytic_eq(X,Y)\n",
        "analitic_w"
      ],
      "metadata": {
        "colab": {
          "base_uri": "https://localhost:8080/"
        },
        "id": "-juLYJx_mSYI",
        "outputId": "9f679979-6743-463e-9e4b-4629be46853d"
      },
      "execution_count": 332,
      "outputs": [
        {
          "output_type": "execute_result",
          "data": {
            "text/plain": [
              "array([-1.73171608e+05,  3.78762754e+02,  1.38604950e+06,  4.06820034e+05])"
            ]
          },
          "metadata": {},
          "execution_count": 332
        }
      ]
    },
    {
      "cell_type": "markdown",
      "source": [
        "# Власний алгоритм"
      ],
      "metadata": {
        "id": "UGagv8fvnLGX"
      }
    },
    {
      "cell_type": "markdown",
      "source": [
        "Створимо вектор початкових данних W для власного алгоритму"
      ],
      "metadata": {
        "id": "a-qJISqVm7Xn"
      }
    },
    {
      "cell_type": "code",
      "source": [
        "W=np.array([-1.7E+05,370,1.3E+06,4E+05])"
      ],
      "metadata": {
        "id": "Og6zwLx3wwtT"
      },
      "execution_count": null,
      "outputs": []
    },
    {
      "cell_type": "markdown",
      "source": [
        "Функція гіпотези лінійної регресії у векторному вигляді"
      ],
      "metadata": {
        "id": "f_wYErAIjc7M"
      }
    },
    {
      "cell_type": "code",
      "source": [
        "#Модель Гіпотези\n",
        "def model_h(w , x):\n",
        "  return  x @ w"
      ],
      "metadata": {
        "id": "O9KPY9fHjEKK"
      },
      "execution_count": 309,
      "outputs": []
    },
    {
      "cell_type": "markdown",
      "source": [
        "Функція втрат"
      ],
      "metadata": {
        "id": "iGlCCnwmnY__"
      }
    },
    {
      "cell_type": "code",
      "source": [
        "# Vector cost\n",
        "def cost2(w, x, y):\n",
        "  h = model_h(w, x)\n",
        "  return np.mean((h-y)**2)/2"
      ],
      "metadata": {
        "id": "fqwlFuntYcqR"
      },
      "execution_count": 299,
      "outputs": []
    },
    {
      "cell_type": "markdown",
      "source": [
        "Визначаємо зміну вагів. Градієнтний спуск"
      ],
      "metadata": {
        "id": "af8P1i2Nneqf"
      }
    },
    {
      "cell_type": "code",
      "source": [
        "#Визначаємо w\n",
        "def update_w2(w, x, y, lr):\n",
        "  m=len(y)\n",
        "  h= model_h(w, x)\n",
        "  w = w - (lr/m)*x.T @ (h-y)\n",
        "\n",
        "  return w"
      ],
      "metadata": {
        "id": "qioUp3azZgiq"
      },
      "execution_count": 301,
      "outputs": []
    },
    {
      "cell_type": "markdown",
      "source": [
        "Навчаємо модель"
      ],
      "metadata": {
        "id": "-WApqY2eoBXJ"
      }
    },
    {
      "cell_type": "code",
      "source": [
        "def fit(w, x, y, lr, iteration):\n",
        "  acc=1\n",
        "  last_cost=1E+25\n",
        "  for i in range(iteration+1):\n",
        "    w=update_w2(w=w, x=x, y=y, lr=lr)\n",
        "    new_cost=cost2(w, x, y)\n",
        "    #print(i, w, new_cost)\n",
        "    if last_cost-new_cost<acc:\n",
        "      break\n",
        "    last_cost=new_cost\n",
        "  print(i, w, new_cost)\n",
        "  return(w,new_cost)"
      ],
      "metadata": {
        "id": "2ABQDkdoZgdL"
      },
      "execution_count": 303,
      "outputs": []
    },
    {
      "cell_type": "code",
      "source": [
        "new_w, my_cost=fit(W,X,Y, lr=0.00000001, iteration=5000000)"
      ],
      "metadata": {
        "colab": {
          "base_uri": "https://localhost:8080/"
        },
        "id": "gcVt0bVKZgak",
        "outputId": "acb92837-23f8-4180-af5a-532737f514d2"
      },
      "execution_count": 304,
      "outputs": [
        {
          "output_type": "stream",
          "name": "stdout",
          "text": [
            "5000000 [-1.69240671e+05  3.98569982e+02  1.30186788e+06  4.02736337e+05] 897185058693.1385\n"
          ]
        }
      ]
    },
    {
      "cell_type": "code",
      "source": [
        "print(new_w, my_cost)"
      ],
      "metadata": {
        "colab": {
          "base_uri": "https://localhost:8080/"
        },
        "id": "l-LqkoHwSJVd",
        "outputId": "2c689927-5e3c-4cd1-804e-1709d9b35ec8"
      },
      "execution_count": 330,
      "outputs": [
        {
          "output_type": "stream",
          "name": "stdout",
          "text": [
            "[-1.69240671e+05  3.98569982e+02  1.30186788e+06  4.02736337e+05] 897185058693.1385\n"
          ]
        }
      ]
    },
    {
      "cell_type": "markdown",
      "source": [
        "# Алгорит Scikit-learn"
      ],
      "metadata": {
        "id": "IAI2ROYHoagw"
      }
    },
    {
      "cell_type": "code",
      "source": [
        "from sklearn.linear_model import LinearRegression\n",
        "lr = LinearRegression()\n",
        "lr.fit(X, Y)\n",
        "sciki_w=np.array([lr.intercept_, *lr.coef_], dtype='float64')\n",
        "print(lr.intercept_)\n",
        "print(lr.coef_)\n"
      ],
      "metadata": {
        "colab": {
          "base_uri": "https://localhost:8080/"
        },
        "id": "9tVj6XFSFK9h",
        "outputId": "9c5bed5a-b523-4435-d241-ba0161c98a9e"
      },
      "execution_count": 352,
      "outputs": [
        {
          "output_type": "stream",
          "name": "stdout",
          "text": [
            "-173171.60763263144\n",
            "[0.00000000e+00 3.78762754e+02 1.38604950e+06 4.06820034e+05]\n"
          ]
        }
      ]
    },
    {
      "cell_type": "code",
      "source": [
        "sciki_w"
      ],
      "metadata": {
        "colab": {
          "base_uri": "https://localhost:8080/"
        },
        "id": "7sRaGqQstHt4",
        "outputId": "d3b44380-2528-4c80-fe34-278928512b17"
      },
      "execution_count": 355,
      "outputs": [
        {
          "output_type": "execute_result",
          "data": {
            "text/plain": [
              "array([-1.73171608e+05,  0.00000000e+00,  3.78762754e+02,  1.38604950e+06,\n",
              "        4.06820034e+05])"
            ]
          },
          "metadata": {},
          "execution_count": 355
        }
      ]
    },
    {
      "cell_type": "markdown",
      "source": [
        "# Аналіз результатів"
      ],
      "metadata": {
        "id": "2DIXe0uwowcf"
      }
    },
    {
      "cell_type": "code",
      "source": [
        "# Коефіцієнти аналітичного рішення\n",
        "analitic_w"
      ],
      "metadata": {
        "colab": {
          "base_uri": "https://localhost:8080/"
        },
        "id": "cV9rGxfQSU4c",
        "outputId": "7b529178-af48-4007-8fdf-05d795df8f55"
      },
      "execution_count": 344,
      "outputs": [
        {
          "output_type": "execute_result",
          "data": {
            "text/plain": [
              "array([-1.73171608e+05,  3.78762754e+02,  1.38604950e+06,  4.06820034e+05])"
            ]
          },
          "metadata": {},
          "execution_count": 344
        }
      ]
    },
    {
      "cell_type": "code",
      "source": [
        "#Коефіцієнти власного рішення\n",
        "new_w"
      ],
      "metadata": {
        "colab": {
          "base_uri": "https://localhost:8080/"
        },
        "id": "IhA-N9yCSU2A",
        "outputId": "5a73ddfd-0a20-4b78-d8de-2e9c5fd43de6"
      },
      "execution_count": 334,
      "outputs": [
        {
          "output_type": "execute_result",
          "data": {
            "text/plain": [
              "array([-1.69240671e+05,  3.98569982e+02,  1.30186788e+06,  4.02736337e+05])"
            ]
          },
          "metadata": {},
          "execution_count": 334
        }
      ]
    },
    {
      "cell_type": "code",
      "source": [
        "#Коефіцієнти Scikit-learn\n",
        "sciki_w=np.delete(sciki_w,1,0)\n",
        "sciki_w"
      ],
      "metadata": {
        "colab": {
          "base_uri": "https://localhost:8080/"
        },
        "id": "3wcsZ6ospcMQ",
        "outputId": "d8b3e6d8-46a5-4e0d-db3a-8086c479b4e1"
      },
      "execution_count": 356,
      "outputs": [
        {
          "output_type": "execute_result",
          "data": {
            "text/plain": [
              "array([-1.73171608e+05,  3.78762754e+02,  1.38604950e+06,  4.06820034e+05])"
            ]
          },
          "metadata": {},
          "execution_count": 356
        }
      ]
    },
    {
      "cell_type": "code",
      "source": [
        "dres=pd.DataFrame(\n",
        "    [analitic_w,\n",
        "     new_w,\n",
        "     sciki_w],\n",
        "    index=['analitic', 'my_alg', 'sciki'],\n",
        "    columns=['w0','w1','w2','w3']\n",
        "    )\n"
      ],
      "metadata": {
        "id": "flFpN2CrSUzs"
      },
      "execution_count": 387,
      "outputs": []
    },
    {
      "cell_type": "code",
      "source": [
        "cost_data=[\n",
        "    cost2(analitic_w,X,Y),\n",
        "    cost2(new_w,X,Y),\n",
        "    cost2(sciki_w,X,Y),\n",
        "]"
      ],
      "metadata": {
        "id": "_2jzcclxSUxN"
      },
      "execution_count": 386,
      "outputs": []
    },
    {
      "cell_type": "code",
      "source": [
        "dres['Cost_fun']=cost_data\n",
        "dres"
      ],
      "metadata": {
        "colab": {
          "base_uri": "https://localhost:8080/",
          "height": 143
        },
        "id": "4qU8opdRSUu9",
        "outputId": "1cf4f98d-de82-4b6d-f2e5-019180cbd156"
      },
      "execution_count": 398,
      "outputs": [
        {
          "output_type": "execute_result",
          "data": {
            "text/plain": [
              "                     w0          w1            w2             w3      Cost_fun\n",
              "analitic -173171.607633  378.762754  1.386049e+06  406820.033769  8.955850e+11\n",
              "my_alg   -169240.670920  398.569982  1.301868e+06  402736.336563  8.971851e+11\n",
              "sciki    -173171.607633  378.762754  1.386049e+06  406820.033769  8.955850e+11"
            ],
            "text/html": [
              "\n",
              "  <div id=\"df-3b65d7e6-10f7-4f53-8dfb-6f9b62823377\">\n",
              "    <div class=\"colab-df-container\">\n",
              "      <div>\n",
              "<style scoped>\n",
              "    .dataframe tbody tr th:only-of-type {\n",
              "        vertical-align: middle;\n",
              "    }\n",
              "\n",
              "    .dataframe tbody tr th {\n",
              "        vertical-align: top;\n",
              "    }\n",
              "\n",
              "    .dataframe thead th {\n",
              "        text-align: right;\n",
              "    }\n",
              "</style>\n",
              "<table border=\"1\" class=\"dataframe\">\n",
              "  <thead>\n",
              "    <tr style=\"text-align: right;\">\n",
              "      <th></th>\n",
              "      <th>w0</th>\n",
              "      <th>w1</th>\n",
              "      <th>w2</th>\n",
              "      <th>w3</th>\n",
              "      <th>Cost_fun</th>\n",
              "    </tr>\n",
              "  </thead>\n",
              "  <tbody>\n",
              "    <tr>\n",
              "      <th>analitic</th>\n",
              "      <td>-173171.607633</td>\n",
              "      <td>378.762754</td>\n",
              "      <td>1.386049e+06</td>\n",
              "      <td>406820.033769</td>\n",
              "      <td>8.955850e+11</td>\n",
              "    </tr>\n",
              "    <tr>\n",
              "      <th>my_alg</th>\n",
              "      <td>-169240.670920</td>\n",
              "      <td>398.569982</td>\n",
              "      <td>1.301868e+06</td>\n",
              "      <td>402736.336563</td>\n",
              "      <td>8.971851e+11</td>\n",
              "    </tr>\n",
              "    <tr>\n",
              "      <th>sciki</th>\n",
              "      <td>-173171.607633</td>\n",
              "      <td>378.762754</td>\n",
              "      <td>1.386049e+06</td>\n",
              "      <td>406820.033769</td>\n",
              "      <td>8.955850e+11</td>\n",
              "    </tr>\n",
              "  </tbody>\n",
              "</table>\n",
              "</div>\n",
              "      <button class=\"colab-df-convert\" onclick=\"convertToInteractive('df-3b65d7e6-10f7-4f53-8dfb-6f9b62823377')\"\n",
              "              title=\"Convert this dataframe to an interactive table.\"\n",
              "              style=\"display:none;\">\n",
              "        \n",
              "  <svg xmlns=\"http://www.w3.org/2000/svg\" height=\"24px\"viewBox=\"0 0 24 24\"\n",
              "       width=\"24px\">\n",
              "    <path d=\"M0 0h24v24H0V0z\" fill=\"none\"/>\n",
              "    <path d=\"M18.56 5.44l.94 2.06.94-2.06 2.06-.94-2.06-.94-.94-2.06-.94 2.06-2.06.94zm-11 1L8.5 8.5l.94-2.06 2.06-.94-2.06-.94L8.5 2.5l-.94 2.06-2.06.94zm10 10l.94 2.06.94-2.06 2.06-.94-2.06-.94-.94-2.06-.94 2.06-2.06.94z\"/><path d=\"M17.41 7.96l-1.37-1.37c-.4-.4-.92-.59-1.43-.59-.52 0-1.04.2-1.43.59L10.3 9.45l-7.72 7.72c-.78.78-.78 2.05 0 2.83L4 21.41c.39.39.9.59 1.41.59.51 0 1.02-.2 1.41-.59l7.78-7.78 2.81-2.81c.8-.78.8-2.07 0-2.86zM5.41 20L4 18.59l7.72-7.72 1.47 1.35L5.41 20z\"/>\n",
              "  </svg>\n",
              "      </button>\n",
              "      \n",
              "  <style>\n",
              "    .colab-df-container {\n",
              "      display:flex;\n",
              "      flex-wrap:wrap;\n",
              "      gap: 12px;\n",
              "    }\n",
              "\n",
              "    .colab-df-convert {\n",
              "      background-color: #E8F0FE;\n",
              "      border: none;\n",
              "      border-radius: 50%;\n",
              "      cursor: pointer;\n",
              "      display: none;\n",
              "      fill: #1967D2;\n",
              "      height: 32px;\n",
              "      padding: 0 0 0 0;\n",
              "      width: 32px;\n",
              "    }\n",
              "\n",
              "    .colab-df-convert:hover {\n",
              "      background-color: #E2EBFA;\n",
              "      box-shadow: 0px 1px 2px rgba(60, 64, 67, 0.3), 0px 1px 3px 1px rgba(60, 64, 67, 0.15);\n",
              "      fill: #174EA6;\n",
              "    }\n",
              "\n",
              "    [theme=dark] .colab-df-convert {\n",
              "      background-color: #3B4455;\n",
              "      fill: #D2E3FC;\n",
              "    }\n",
              "\n",
              "    [theme=dark] .colab-df-convert:hover {\n",
              "      background-color: #434B5C;\n",
              "      box-shadow: 0px 1px 3px 1px rgba(0, 0, 0, 0.15);\n",
              "      filter: drop-shadow(0px 1px 2px rgba(0, 0, 0, 0.3));\n",
              "      fill: #FFFFFF;\n",
              "    }\n",
              "  </style>\n",
              "\n",
              "      <script>\n",
              "        const buttonEl =\n",
              "          document.querySelector('#df-3b65d7e6-10f7-4f53-8dfb-6f9b62823377 button.colab-df-convert');\n",
              "        buttonEl.style.display =\n",
              "          google.colab.kernel.accessAllowed ? 'block' : 'none';\n",
              "\n",
              "        async function convertToInteractive(key) {\n",
              "          const element = document.querySelector('#df-3b65d7e6-10f7-4f53-8dfb-6f9b62823377');\n",
              "          const dataTable =\n",
              "            await google.colab.kernel.invokeFunction('convertToInteractive',\n",
              "                                                     [key], {});\n",
              "          if (!dataTable) return;\n",
              "\n",
              "          const docLinkHtml = 'Like what you see? Visit the ' +\n",
              "            '<a target=\"_blank\" href=https://colab.research.google.com/notebooks/data_table.ipynb>data table notebook</a>'\n",
              "            + ' to learn more about interactive tables.';\n",
              "          element.innerHTML = '';\n",
              "          dataTable['output_type'] = 'display_data';\n",
              "          await google.colab.output.renderOutput(dataTable, element);\n",
              "          const docLink = document.createElement('div');\n",
              "          docLink.innerHTML = docLinkHtml;\n",
              "          element.appendChild(docLink);\n",
              "        }\n",
              "      </script>\n",
              "    </div>\n",
              "  </div>\n",
              "  "
            ]
          },
          "metadata": {},
          "execution_count": 398
        }
      ]
    },
    {
      "cell_type": "code",
      "source": [
        "dres.describe()"
      ],
      "metadata": {
        "colab": {
          "base_uri": "https://localhost:8080/",
          "height": 300
        },
        "id": "9VL4TzXMSUsb",
        "outputId": "63dfadff-ce51-4839-ed6e-fe639583329d"
      },
      "execution_count": 399,
      "outputs": [
        {
          "output_type": "execute_result",
          "data": {
            "text/plain": [
              "                  w0          w1            w2             w3      Cost_fun\n",
              "count       3.000000    3.000000  3.000000e+00       3.000000  3.000000e+00\n",
              "mean  -171861.295395  385.365163  1.357989e+06  405458.801367  8.961184e+11\n",
              "std      2269.527369   11.435709  4.860228e+04    2357.723681  9.237799e+08\n",
              "min   -173171.607633  378.762754  1.301868e+06  402736.336563  8.955850e+11\n",
              "25%   -173171.607633  378.762754  1.343959e+06  404778.185166  8.955850e+11\n",
              "50%   -173171.607633  378.762754  1.386049e+06  406820.033769  8.955850e+11\n",
              "75%   -171206.139277  388.666368  1.386049e+06  406820.033769  8.963850e+11\n",
              "max   -169240.670920  398.569982  1.386049e+06  406820.033769  8.971851e+11"
            ],
            "text/html": [
              "\n",
              "  <div id=\"df-9d5d9c41-9d12-4dd7-ac41-1d93772ebe75\">\n",
              "    <div class=\"colab-df-container\">\n",
              "      <div>\n",
              "<style scoped>\n",
              "    .dataframe tbody tr th:only-of-type {\n",
              "        vertical-align: middle;\n",
              "    }\n",
              "\n",
              "    .dataframe tbody tr th {\n",
              "        vertical-align: top;\n",
              "    }\n",
              "\n",
              "    .dataframe thead th {\n",
              "        text-align: right;\n",
              "    }\n",
              "</style>\n",
              "<table border=\"1\" class=\"dataframe\">\n",
              "  <thead>\n",
              "    <tr style=\"text-align: right;\">\n",
              "      <th></th>\n",
              "      <th>w0</th>\n",
              "      <th>w1</th>\n",
              "      <th>w2</th>\n",
              "      <th>w3</th>\n",
              "      <th>Cost_fun</th>\n",
              "    </tr>\n",
              "  </thead>\n",
              "  <tbody>\n",
              "    <tr>\n",
              "      <th>count</th>\n",
              "      <td>3.000000</td>\n",
              "      <td>3.000000</td>\n",
              "      <td>3.000000e+00</td>\n",
              "      <td>3.000000</td>\n",
              "      <td>3.000000e+00</td>\n",
              "    </tr>\n",
              "    <tr>\n",
              "      <th>mean</th>\n",
              "      <td>-171861.295395</td>\n",
              "      <td>385.365163</td>\n",
              "      <td>1.357989e+06</td>\n",
              "      <td>405458.801367</td>\n",
              "      <td>8.961184e+11</td>\n",
              "    </tr>\n",
              "    <tr>\n",
              "      <th>std</th>\n",
              "      <td>2269.527369</td>\n",
              "      <td>11.435709</td>\n",
              "      <td>4.860228e+04</td>\n",
              "      <td>2357.723681</td>\n",
              "      <td>9.237799e+08</td>\n",
              "    </tr>\n",
              "    <tr>\n",
              "      <th>min</th>\n",
              "      <td>-173171.607633</td>\n",
              "      <td>378.762754</td>\n",
              "      <td>1.301868e+06</td>\n",
              "      <td>402736.336563</td>\n",
              "      <td>8.955850e+11</td>\n",
              "    </tr>\n",
              "    <tr>\n",
              "      <th>25%</th>\n",
              "      <td>-173171.607633</td>\n",
              "      <td>378.762754</td>\n",
              "      <td>1.343959e+06</td>\n",
              "      <td>404778.185166</td>\n",
              "      <td>8.955850e+11</td>\n",
              "    </tr>\n",
              "    <tr>\n",
              "      <th>50%</th>\n",
              "      <td>-173171.607633</td>\n",
              "      <td>378.762754</td>\n",
              "      <td>1.386049e+06</td>\n",
              "      <td>406820.033769</td>\n",
              "      <td>8.955850e+11</td>\n",
              "    </tr>\n",
              "    <tr>\n",
              "      <th>75%</th>\n",
              "      <td>-171206.139277</td>\n",
              "      <td>388.666368</td>\n",
              "      <td>1.386049e+06</td>\n",
              "      <td>406820.033769</td>\n",
              "      <td>8.963850e+11</td>\n",
              "    </tr>\n",
              "    <tr>\n",
              "      <th>max</th>\n",
              "      <td>-169240.670920</td>\n",
              "      <td>398.569982</td>\n",
              "      <td>1.386049e+06</td>\n",
              "      <td>406820.033769</td>\n",
              "      <td>8.971851e+11</td>\n",
              "    </tr>\n",
              "  </tbody>\n",
              "</table>\n",
              "</div>\n",
              "      <button class=\"colab-df-convert\" onclick=\"convertToInteractive('df-9d5d9c41-9d12-4dd7-ac41-1d93772ebe75')\"\n",
              "              title=\"Convert this dataframe to an interactive table.\"\n",
              "              style=\"display:none;\">\n",
              "        \n",
              "  <svg xmlns=\"http://www.w3.org/2000/svg\" height=\"24px\"viewBox=\"0 0 24 24\"\n",
              "       width=\"24px\">\n",
              "    <path d=\"M0 0h24v24H0V0z\" fill=\"none\"/>\n",
              "    <path d=\"M18.56 5.44l.94 2.06.94-2.06 2.06-.94-2.06-.94-.94-2.06-.94 2.06-2.06.94zm-11 1L8.5 8.5l.94-2.06 2.06-.94-2.06-.94L8.5 2.5l-.94 2.06-2.06.94zm10 10l.94 2.06.94-2.06 2.06-.94-2.06-.94-.94-2.06-.94 2.06-2.06.94z\"/><path d=\"M17.41 7.96l-1.37-1.37c-.4-.4-.92-.59-1.43-.59-.52 0-1.04.2-1.43.59L10.3 9.45l-7.72 7.72c-.78.78-.78 2.05 0 2.83L4 21.41c.39.39.9.59 1.41.59.51 0 1.02-.2 1.41-.59l7.78-7.78 2.81-2.81c.8-.78.8-2.07 0-2.86zM5.41 20L4 18.59l7.72-7.72 1.47 1.35L5.41 20z\"/>\n",
              "  </svg>\n",
              "      </button>\n",
              "      \n",
              "  <style>\n",
              "    .colab-df-container {\n",
              "      display:flex;\n",
              "      flex-wrap:wrap;\n",
              "      gap: 12px;\n",
              "    }\n",
              "\n",
              "    .colab-df-convert {\n",
              "      background-color: #E8F0FE;\n",
              "      border: none;\n",
              "      border-radius: 50%;\n",
              "      cursor: pointer;\n",
              "      display: none;\n",
              "      fill: #1967D2;\n",
              "      height: 32px;\n",
              "      padding: 0 0 0 0;\n",
              "      width: 32px;\n",
              "    }\n",
              "\n",
              "    .colab-df-convert:hover {\n",
              "      background-color: #E2EBFA;\n",
              "      box-shadow: 0px 1px 2px rgba(60, 64, 67, 0.3), 0px 1px 3px 1px rgba(60, 64, 67, 0.15);\n",
              "      fill: #174EA6;\n",
              "    }\n",
              "\n",
              "    [theme=dark] .colab-df-convert {\n",
              "      background-color: #3B4455;\n",
              "      fill: #D2E3FC;\n",
              "    }\n",
              "\n",
              "    [theme=dark] .colab-df-convert:hover {\n",
              "      background-color: #434B5C;\n",
              "      box-shadow: 0px 1px 3px 1px rgba(0, 0, 0, 0.15);\n",
              "      filter: drop-shadow(0px 1px 2px rgba(0, 0, 0, 0.3));\n",
              "      fill: #FFFFFF;\n",
              "    }\n",
              "  </style>\n",
              "\n",
              "      <script>\n",
              "        const buttonEl =\n",
              "          document.querySelector('#df-9d5d9c41-9d12-4dd7-ac41-1d93772ebe75 button.colab-df-convert');\n",
              "        buttonEl.style.display =\n",
              "          google.colab.kernel.accessAllowed ? 'block' : 'none';\n",
              "\n",
              "        async function convertToInteractive(key) {\n",
              "          const element = document.querySelector('#df-9d5d9c41-9d12-4dd7-ac41-1d93772ebe75');\n",
              "          const dataTable =\n",
              "            await google.colab.kernel.invokeFunction('convertToInteractive',\n",
              "                                                     [key], {});\n",
              "          if (!dataTable) return;\n",
              "\n",
              "          const docLinkHtml = 'Like what you see? Visit the ' +\n",
              "            '<a target=\"_blank\" href=https://colab.research.google.com/notebooks/data_table.ipynb>data table notebook</a>'\n",
              "            + ' to learn more about interactive tables.';\n",
              "          element.innerHTML = '';\n",
              "          dataTable['output_type'] = 'display_data';\n",
              "          await google.colab.output.renderOutput(dataTable, element);\n",
              "          const docLink = document.createElement('div');\n",
              "          docLink.innerHTML = docLinkHtml;\n",
              "          element.appendChild(docLink);\n",
              "        }\n",
              "      </script>\n",
              "    </div>\n",
              "  </div>\n",
              "  "
            ]
          },
          "metadata": {},
          "execution_count": 399
        }
      ]
    },
    {
      "cell_type": "markdown",
      "source": [
        "Як видно з результатів sciki та аналітичний метод показил 100% співпадіння по всім коефіцієнтам.\n",
        "\n"
      ],
      "metadata": {
        "id": "KlTolL-Px1Rb"
      }
    },
    {
      "cell_type": "code",
      "source": [
        "#Як видно з результатів sciki та аналітичний метод показил 100% співпадіння по всім коефіцієнтам.\n",
        "#Відношення визначенних коефіцієнтів власним алгоритмом до отриманих не перевищує 6%\n",
        "dres.loc['my_alg']/dres.loc['analitic']*100"
      ],
      "metadata": {
        "colab": {
          "base_uri": "https://localhost:8080/"
        },
        "id": "s38ADY_xSUqA",
        "outputId": "8b0fb7a0-369f-4ff7-95c2-8ba02773f03e"
      },
      "execution_count": 400,
      "outputs": [
        {
          "output_type": "execute_result",
          "data": {
            "text/plain": [
              "w0           97.730034\n",
              "w1          105.229455\n",
              "w2           93.926507\n",
              "w3           98.996191\n",
              "Cost_fun    100.178658\n",
              "dtype: float64"
            ]
          },
          "metadata": {},
          "execution_count": 400
        }
      ]
    },
    {
      "cell_type": "code",
      "source": [
        "#Відношення достовірних результатів до визначенних втрат власним алгоритмом склада є 99,8%\n",
        "dres.loc['analitic','Cost_fun']/dres.loc['my_alg','Cost_fun']*100"
      ],
      "metadata": {
        "colab": {
          "base_uri": "https://localhost:8080/"
        },
        "id": "QYK5sSo2SUh7",
        "outputId": "a4939e0f-2508-43db-c773-80d314598641"
      },
      "execution_count": 418,
      "outputs": [
        {
          "output_type": "execute_result",
          "data": {
            "text/plain": [
              "99.82166068315833"
            ]
          },
          "metadata": {},
          "execution_count": 418
        }
      ]
    },
    {
      "cell_type": "code",
      "source": [
        "# Кількість виконаних ітерацій 5млн"
      ],
      "metadata": {
        "id": "b7rv3JaC1t3a"
      },
      "execution_count": null,
      "outputs": []
    },
    {
      "cell_type": "code",
      "source": [
        "# власний розрахунок дуже залежить від первинних данних W, з яких починаэмо градієнтний спуск. Особливи коли не використовується нормалізація даних"
      ],
      "metadata": {
        "id": "XWwV71jK10OK"
      },
      "execution_count": null,
      "outputs": []
    }
  ]
}