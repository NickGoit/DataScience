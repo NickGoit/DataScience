{
  "nbformat": 4,
  "nbformat_minor": 0,
  "metadata": {
    "colab": {
      "provenance": []
    },
    "kernelspec": {
      "name": "python3",
      "display_name": "Python 3"
    },
    "language_info": {
      "name": "python"
    }
  },
  "cells": [
    {
      "cell_type": "markdown",
      "source": [
        "В якості домашнього завдання вам пропонується створити рекурентну нейронну мережу за допомогою механізмів Keras, яка буде класифікувати рецензії із датасету imdb.\n",
        "\n",
        "На відміну від прикладу в модулі 9 ми використаємо рекурентну нейронну мережу. Поекспериментуйте з будовою мережі - RNN, LSTM, двостороння та глибока.\n",
        "\n",
        "Порівняйте результати та зробіть висновки."
      ],
      "metadata": {
        "id": "D9OBl8wTHPBl"
      }
    },
    {
      "cell_type": "code",
      "execution_count": null,
      "metadata": {
        "id": "asus8c04GXfu"
      },
      "outputs": [],
      "source": [
        "import numpy as np\n",
        "import matplotlib.pyplot as plt\n",
        "import tensorflow as tf\n",
        "\n",
        "from tensorflow import keras\n",
        "from keras.models import Sequential\n",
        "from keras.layers import Dense, Embedding, LSTM\n",
        "from keras import optimizers\n",
        "from keras import losses\n",
        "from keras import metrics\n",
        "from keras.callbacks import EarlyStopping"
      ]
    },
    {
      "cell_type": "code",
      "source": [
        "from keras.datasets import imdb"
      ],
      "metadata": {
        "id": "iBzDbvTcHBnT"
      },
      "execution_count": null,
      "outputs": []
    },
    {
      "cell_type": "code",
      "source": [
        "max_features = 10000  # кількість слів, що розглядаються як особливості\n",
        "maxlen = 500  # обмеження кількості слів в тексті\n",
        "batch_size = 64"
      ],
      "metadata": {
        "id": "vx5yoHRIKdvP"
      },
      "execution_count": null,
      "outputs": []
    },
    {
      "cell_type": "code",
      "source": [
        "(train_data, train_labels), (test_data, test_labels) = imdb.load_data(num_words=max_features)"
      ],
      "metadata": {
        "id": "iP4BP1gXICx8",
        "colab": {
          "base_uri": "https://localhost:8080/"
        },
        "outputId": "3ce39592-dec8-443e-fac9-0ab06ff25bf7"
      },
      "execution_count": null,
      "outputs": [
        {
          "output_type": "stream",
          "name": "stdout",
          "text": [
            "Downloading data from https://storage.googleapis.com/tensorflow/tf-keras-datasets/imdb.npz\n",
            "17464789/17464789 [==============================] - 0s 0us/step\n"
          ]
        }
      ]
    },
    {
      "cell_type": "code",
      "source": [
        "train_data.shape, len(train_data[0]), len(train_data[4]), type(train_data[0])"
      ],
      "metadata": {
        "colab": {
          "base_uri": "https://localhost:8080/"
        },
        "id": "T4L93Yi0IGUk",
        "outputId": "9e7b40d3-585f-450f-b501-0f5ff68c173b"
      },
      "execution_count": null,
      "outputs": [
        {
          "output_type": "execute_result",
          "data": {
            "text/plain": [
              "((25000,), 218, 147, list)"
            ]
          },
          "metadata": {},
          "execution_count": 5
        }
      ]
    },
    {
      "cell_type": "code",
      "source": [
        "train_labels.shape"
      ],
      "metadata": {
        "colab": {
          "base_uri": "https://localhost:8080/"
        },
        "id": "BD3QMmS9rIkj",
        "outputId": "f7ce8f07-64d7-4497-940c-a0e1066dae5e"
      },
      "execution_count": null,
      "outputs": [
        {
          "output_type": "execute_result",
          "data": {
            "text/plain": [
              "(25000,)"
            ]
          },
          "metadata": {},
          "execution_count": 6
        }
      ]
    },
    {
      "cell_type": "code",
      "source": [
        "from keras.utils.data_utils import pad_sequences\n",
        "input_train=pad_sequences(train_data, maxlen=maxlen)\n",
        "input_test=pad_sequences(test_data, maxlen=maxlen)"
      ],
      "metadata": {
        "id": "gz3gSVMYKqYf"
      },
      "execution_count": null,
      "outputs": []
    },
    {
      "cell_type": "code",
      "source": [
        "#y_train=tf.one_hot(train_labels, depth=2)\n",
        "#y_test=tf.one_hot(train_labels, depth=2)"
      ],
      "metadata": {
        "id": "nIunKU0tSdg3"
      },
      "execution_count": null,
      "outputs": []
    },
    {
      "cell_type": "code",
      "source": [
        "model=Sequential([\n",
        "    Embedding(input_dim=max_features, output_dim=32, input_length=maxlen),\n",
        "    LSTM(32, activation='tanh'),\n",
        "    Dense(1, activation='sigmoid')\n",
        "])"
      ],
      "metadata": {
        "id": "Ig1sssmRLZMg"
      },
      "execution_count": null,
      "outputs": []
    },
    {
      "cell_type": "code",
      "source": [
        "model.summary()"
      ],
      "metadata": {
        "colab": {
          "base_uri": "https://localhost:8080/"
        },
        "id": "uLfrcQqOLeC7",
        "outputId": "8ad2b729-20c5-46fc-e176-ad3336e09585"
      },
      "execution_count": null,
      "outputs": [
        {
          "output_type": "stream",
          "name": "stdout",
          "text": [
            "Model: \"sequential\"\n",
            "_________________________________________________________________\n",
            " Layer (type)                Output Shape              Param #   \n",
            "=================================================================\n",
            " embedding (Embedding)       (None, 500, 32)           320000    \n",
            "                                                                 \n",
            " lstm (LSTM)                 (None, 32)                8320      \n",
            "                                                                 \n",
            " dense (Dense)               (None, 1)                 33        \n",
            "                                                                 \n",
            "=================================================================\n",
            "Total params: 328,353\n",
            "Trainable params: 328,353\n",
            "Non-trainable params: 0\n",
            "_________________________________________________________________\n"
          ]
        }
      ]
    },
    {
      "cell_type": "code",
      "source": [
        "model.compile(\n",
        "    optimizer=optimizers.Adam(learning_rate=0.0001),\n",
        "    loss=losses.BinaryCrossentropy(),\n",
        "    metrics=['binary_accuracy'],\n",
        ")"
      ],
      "metadata": {
        "id": "uSy92WspPlb_"
      },
      "execution_count": null,
      "outputs": []
    },
    {
      "cell_type": "code",
      "source": [
        "callback_early_stopping = EarlyStopping(\n",
        "    monitor=\"val_binary_accuracy\",\n",
        "    min_delta=0.00001,\n",
        "    patience=4,\n",
        ")"
      ],
      "metadata": {
        "id": "zWyWxvHwQKTz"
      },
      "execution_count": null,
      "outputs": []
    },
    {
      "cell_type": "code",
      "source": [
        "history = model.fit(\n",
        "    input_train,\n",
        "    train_labels,\n",
        "    epochs=20,\n",
        "    batch_size=batch_size,\n",
        "    callbacks=[callback_early_stopping],\n",
        "    validation_data=(input_test, test_labels))\n",
        "# Запускаємо навчання моделі на тренувальних даних для 5 епох з розміром пакету 128 та розбиттям на тренувальну та валідаційну підмножини"
      ],
      "metadata": {
        "colab": {
          "base_uri": "https://localhost:8080/"
        },
        "id": "SGahjmdrQMl9",
        "outputId": "031481f5-cb76-42dc-ab05-c825ae3719f5"
      },
      "execution_count": null,
      "outputs": [
        {
          "output_type": "stream",
          "name": "stdout",
          "text": [
            "Epoch 1/20\n",
            "391/391 [==============================] - 169s 427ms/step - loss: 0.6599 - binary_accuracy: 0.6355 - val_loss: 0.5502 - val_binary_accuracy: 0.7980\n",
            "Epoch 2/20\n",
            "391/391 [==============================] - 167s 426ms/step - loss: 0.4471 - binary_accuracy: 0.8377 - val_loss: 0.4060 - val_binary_accuracy: 0.8476\n",
            "Epoch 3/20\n",
            "391/391 [==============================] - 165s 423ms/step - loss: 0.3487 - binary_accuracy: 0.8836 - val_loss: 0.3627 - val_binary_accuracy: 0.8665\n",
            "Epoch 4/20\n",
            "391/391 [==============================] - 164s 421ms/step - loss: 0.3048 - binary_accuracy: 0.8998 - val_loss: 0.3686 - val_binary_accuracy: 0.8634\n",
            "Epoch 5/20\n",
            "391/391 [==============================] - 153s 391ms/step - loss: 0.2612 - binary_accuracy: 0.9143 - val_loss: 0.3135 - val_binary_accuracy: 0.8811\n",
            "Epoch 6/20\n",
            "391/391 [==============================] - 168s 430ms/step - loss: 0.2315 - binary_accuracy: 0.9237 - val_loss: 0.3327 - val_binary_accuracy: 0.8717\n",
            "Epoch 7/20\n",
            "391/391 [==============================] - 164s 419ms/step - loss: 0.2061 - binary_accuracy: 0.9315 - val_loss: 0.3255 - val_binary_accuracy: 0.8721\n",
            "Epoch 8/20\n",
            "391/391 [==============================] - 163s 416ms/step - loss: 0.1853 - binary_accuracy: 0.9393 - val_loss: 0.3190 - val_binary_accuracy: 0.8739\n",
            "Epoch 9/20\n",
            "391/391 [==============================] - 165s 421ms/step - loss: 0.1695 - binary_accuracy: 0.9446 - val_loss: 0.3192 - val_binary_accuracy: 0.8724\n"
          ]
        }
      ]
    },
    {
      "cell_type": "code",
      "source": [
        "acc = history.history['binary_accuracy']\n",
        "val_acc = history.history['val_binary_accuracy']\n",
        "loss = history.history['loss']\n",
        "val_loss = history.history['val_loss']\n",
        "\n",
        "epochs = range(1, len(acc) + 1)\n",
        "\n",
        "plt.plot(epochs, acc, 'bo', label='Точність на тренуванні')  # Графік точності на тренувальних данних\n",
        "plt.plot(epochs, val_acc, 'b', label='Точність на валідації')  # Графік точності на валідаційних данних\n",
        "plt.title('Точність тренування і валідації')  # Заголовок графіку\n",
        "plt.legend()  # Показати легенду\n",
        "\n",
        "plt.figure()\n",
        "\n",
        "plt.plot(epochs, loss, 'bo', label='Втрати на тренуванні')  # Графік втрат на тренувальних данних\n",
        "plt.plot(epochs, val_loss, 'b', label='Втрати на валідації')  # Графік втрат на валідаційних данних\n",
        "plt.title('Втрати тренування і валідації')  # Заголовок графіку\n",
        "plt.legend()  # Показати легенду\n",
        "\n",
        "plt.show()  # Відобразити графіки"
      ],
      "metadata": {
        "id": "_9FfZELYUnUy",
        "colab": {
          "base_uri": "https://localhost:8080/",
          "height": 887
        },
        "outputId": "cb7c8c3f-b581-4754-df7e-7324fa174ec9"
      },
      "execution_count": null,
      "outputs": [
        {
          "output_type": "display_data",
          "data": {
            "text/plain": [
              "<Figure size 640x480 with 1 Axes>"
            ],
            "image/png": "[encoded data removed]"
          },
          "metadata": {}
        },
        {
          "output_type": "display_data",
          "data": {
            "text/plain": [
              "<Figure size 640x480 with 1 Axes>"
            ],
            "image/png": "[encoded data removed]"
          },
          "metadata": {}
        }
      ]
    },
    {
      "cell_type": "code",
      "source": [
        "results = model.evaluate(input_test, test_labels)\n",
        "print(results)"
      ],
      "metadata": {
        "id": "eCA9bhgS2-9k",
        "colab": {
          "base_uri": "https://localhost:8080/"
        },
        "outputId": "411c7d85-fe6e-42b1-ba48-14cefe5feca9"
      },
      "execution_count": null,
      "outputs": [
        {
          "output_type": "stream",
          "name": "stdout",
          "text": [
            "782/782 [==============================] - 45s 57ms/step - loss: 0.3192 - binary_accuracy: 0.8724\n",
            "[0.3192031979560852, 0.872439980506897]\n"
          ]
        }
      ]
    },
    {
      "cell_type": "code",
      "source": [
        "model.save(\"/content/drive/MyDrive/Data S/Hw11/model_Hw11_LSTM2_\")"
      ],
      "metadata": {
        "id": "pA6fHCQX295N",
        "colab": {
          "base_uri": "https://localhost:8080/"
        },
        "outputId": "67c41250-2ab2-4316-aa8b-1091dd6c553b"
      },
      "execution_count": null,
      "outputs": [
        {
          "output_type": "stream",
          "name": "stderr",
          "text": [
            "WARNING:absl:Found untraced functions such as lstm_cell_layer_call_fn, lstm_cell_layer_call_and_return_conditional_losses while saving (showing 2 of 2). These functions will not be directly callable after loading.\n"
          ]
        }
      ]
    }
  ]
}