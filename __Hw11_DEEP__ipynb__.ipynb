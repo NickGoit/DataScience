{
  "nbformat": 4,
  "nbformat_minor": 0,
  "metadata": {
    "colab": {
      "provenance": []
    },
    "kernelspec": {
      "name": "python3",
      "display_name": "Python 3"
    },
    "language_info": {
      "name": "python"
    }
  },
  "cells": [
    {
      "cell_type": "markdown",
      "source": [
        "В якості домашнього завдання вам пропонується створити рекурентну нейронну мережу за допомогою механізмів Keras, яка буде класифікувати рецензії із датасету imdb.\n",
        "\n",
        "На відміну від прикладу в модулі 9 ми використаємо рекурентну нейронну мережу. Поекспериментуйте з будовою мережі - RNN, LSTM, двостороння та глибока.\n",
        "\n",
        "Порівняйте результати та зробіть висновки."
      ],
      "metadata": {
        "id": "D9OBl8wTHPBl"
      }
    },
    {
      "cell_type": "code",
      "execution_count": null,
      "metadata": {
        "id": "asus8c04GXfu"
      },
      "outputs": [],
      "source": [
        "import numpy as np\n",
        "import matplotlib.pyplot as plt\n",
        "import tensorflow as tf\n",
        "\n",
        "from tensorflow import keras\n",
        "from keras.models import Sequential\n",
        "from keras.layers import Dense, Embedding, LSTM\n",
        "from keras import optimizers\n",
        "from keras import losses\n",
        "from keras import metrics\n",
        "from keras.callbacks import EarlyStopping"
      ]
    },
    {
      "cell_type": "code",
      "source": [
        "from keras.datasets import imdb"
      ],
      "metadata": {
        "id": "iBzDbvTcHBnT"
      },
      "execution_count": null,
      "outputs": []
    },
    {
      "cell_type": "code",
      "source": [
        "max_features = 10000  # кількість слів, що розглядаються як особливості\n",
        "maxlen = 500  # обмеження кількості слів в тексті\n",
        "batch_size = 64"
      ],
      "metadata": {
        "id": "vx5yoHRIKdvP"
      },
      "execution_count": null,
      "outputs": []
    },
    {
      "cell_type": "code",
      "source": [
        "(train_data, train_labels), (test_data, test_labels) = imdb.load_data(num_words=max_features)"
      ],
      "metadata": {
        "id": "iP4BP1gXICx8"
      },
      "execution_count": null,
      "outputs": []
    },
    {
      "cell_type": "code",
      "source": [
        "train_data.shape, len(train_data[0]), len(train_data[4]), type(train_data[0])"
      ],
      "metadata": {
        "colab": {
          "base_uri": "https://localhost:8080/"
        },
        "id": "T4L93Yi0IGUk",
        "outputId": "90a112a9-52cf-4bcb-a146-fe596bef49f4"
      },
      "execution_count": null,
      "outputs": [
        {
          "output_type": "execute_result",
          "data": {
            "text/plain": [
              "((25000,), 218, 147, list)"
            ]
          },
          "metadata": {},
          "execution_count": 25
        }
      ]
    },
    {
      "cell_type": "code",
      "source": [
        "train_labels.shape"
      ],
      "metadata": {
        "colab": {
          "base_uri": "https://localhost:8080/"
        },
        "id": "BD3QMmS9rIkj",
        "outputId": "af79fe81-6f81-4f1b-cf87-1218f2f20e4c"
      },
      "execution_count": null,
      "outputs": [
        {
          "output_type": "execute_result",
          "data": {
            "text/plain": [
              "(25000,)"
            ]
          },
          "metadata": {},
          "execution_count": 26
        }
      ]
    },
    {
      "cell_type": "code",
      "source": [
        "from keras.utils.data_utils import pad_sequences\n",
        "input_train=pad_sequences(train_data, maxlen=maxlen)\n",
        "input_test=pad_sequences(test_data, maxlen=maxlen)"
      ],
      "metadata": {
        "id": "gz3gSVMYKqYf"
      },
      "execution_count": null,
      "outputs": []
    },
    {
      "cell_type": "code",
      "source": [
        "#y_train=tf.one_hot(train_labels, depth=2)\n",
        "#y_test=tf.one_hot(train_labels, depth=2)"
      ],
      "metadata": {
        "id": "nIunKU0tSdg3"
      },
      "execution_count": null,
      "outputs": []
    },
    {
      "cell_type": "code",
      "source": [
        "model=Sequential([\n",
        "    Embedding(input_dim=max_features, output_dim=32, input_length=maxlen),\n",
        "    LSTM(32, return_sequences=True),\n",
        "    LSTM(16),\n",
        "    Dense(1, activation='sigmoid')\n",
        "])"
      ],
      "metadata": {
        "id": "Ig1sssmRLZMg"
      },
      "execution_count": null,
      "outputs": []
    },
    {
      "cell_type": "code",
      "source": [
        "model.summary()"
      ],
      "metadata": {
        "colab": {
          "base_uri": "https://localhost:8080/"
        },
        "id": "uLfrcQqOLeC7",
        "outputId": "062f5a56-1d75-4d4e-d08b-f0abd0633d43"
      },
      "execution_count": null,
      "outputs": [
        {
          "output_type": "stream",
          "name": "stdout",
          "text": [
            "Model: \"sequential\"\n",
            "_________________________________________________________________\n",
            " Layer (type)                Output Shape              Param #   \n",
            "=================================================================\n",
            " embedding_1 (Embedding)     (None, 500, 32)           320000    \n",
            "                                                                 \n",
            " lstm (LSTM)                 (None, 500, 32)           8320      \n",
            "                                                                 \n",
            " lstm_1 (LSTM)               (None, 16)                3136      \n",
            "                                                                 \n",
            " dense (Dense)               (None, 1)                 17        \n",
            "                                                                 \n",
            "=================================================================\n",
            "Total params: 331,473\n",
            "Trainable params: 331,473\n",
            "Non-trainable params: 0\n",
            "_________________________________________________________________\n"
          ]
        }
      ]
    },
    {
      "cell_type": "code",
      "source": [
        "model.compile(\n",
        "    optimizer=optimizers.Adam(learning_rate=0.0001),\n",
        "    loss=losses.BinaryCrossentropy(),\n",
        "    metrics=['binary_accuracy'],\n",
        ")"
      ],
      "metadata": {
        "id": "uSy92WspPlb_"
      },
      "execution_count": null,
      "outputs": []
    },
    {
      "cell_type": "code",
      "source": [
        "callback_early_stopping = EarlyStopping(\n",
        "    monitor=\"val_binary_accuracy\",\n",
        "    min_delta=0.00001,\n",
        "    patience=4,\n",
        ")"
      ],
      "metadata": {
        "id": "zWyWxvHwQKTz"
      },
      "execution_count": null,
      "outputs": []
    },
    {
      "cell_type": "code",
      "source": [
        "history = model.fit(\n",
        "    input_train,\n",
        "    train_labels,\n",
        "    epochs=20,\n",
        "    batch_size=batch_size,\n",
        "    callbacks=[callback_early_stopping],\n",
        "    validation_data=(input_test, test_labels))\n",
        "# Запускаємо навчання моделі на тренувальних даних для 5 епох з розміром пакету 128 та розбиттям на тренувальну та валідаційну підмножини"
      ],
      "metadata": {
        "colab": {
          "base_uri": "https://localhost:8080/"
        },
        "id": "SGahjmdrQMl9",
        "outputId": "16cbfabf-9242-40a9-bf21-5411f0a93c34"
      },
      "execution_count": null,
      "outputs": [
        {
          "output_type": "stream",
          "name": "stdout",
          "text": [
            "Epoch 1/20\n",
            "391/391 [==============================] - 168s 423ms/step - loss: 0.6303 - binary_accuracy: 0.6442 - val_loss: 0.4529 - val_binary_accuracy: 0.7936\n",
            "Epoch 2/20\n",
            "391/391 [==============================] - 166s 424ms/step - loss: 0.3539 - binary_accuracy: 0.8590 - val_loss: 0.3601 - val_binary_accuracy: 0.8489\n",
            "Epoch 3/20\n",
            "391/391 [==============================] - 177s 453ms/step - loss: 0.2679 - binary_accuracy: 0.9045 - val_loss: 0.3315 - val_binary_accuracy: 0.8611\n",
            "Epoch 4/20\n",
            "391/391 [==============================] - 179s 458ms/step - loss: 0.2185 - binary_accuracy: 0.9270 - val_loss: 0.3251 - val_binary_accuracy: 0.8725\n",
            "Epoch 5/20\n",
            "391/391 [==============================] - 166s 424ms/step - loss: 0.1889 - binary_accuracy: 0.9396 - val_loss: 0.3624 - val_binary_accuracy: 0.8621\n",
            "Epoch 6/20\n",
            "391/391 [==============================] - 165s 422ms/step - loss: 0.1615 - binary_accuracy: 0.9516 - val_loss: 0.3437 - val_binary_accuracy: 0.8678\n",
            "Epoch 7/20\n",
            "391/391 [==============================] - 167s 427ms/step - loss: 0.1423 - binary_accuracy: 0.9589 - val_loss: 0.3607 - val_binary_accuracy: 0.8666\n",
            "Epoch 8/20\n",
            "391/391 [==============================] - 166s 425ms/step - loss: 0.1272 - binary_accuracy: 0.9662 - val_loss: 0.3887 - val_binary_accuracy: 0.8634\n"
          ]
        }
      ]
    },
    {
      "cell_type": "code",
      "source": [
        "acc = history.history['binary_accuracy']\n",
        "val_acc = history.history['val_binary_accuracy']\n",
        "loss = history.history['loss']\n",
        "val_loss = history.history['val_loss']\n",
        "\n",
        "epochs = range(1, len(acc) + 1)\n",
        "\n",
        "plt.plot(epochs, acc, 'bo', label='Точність на тренуванні')  # Графік точності на тренувальних данних\n",
        "plt.plot(epochs, val_acc, 'b', label='Точність на валідації')  # Графік точності на валідаційних данних\n",
        "plt.title('Точність тренування і валідації')  # Заголовок графіку\n",
        "plt.legend()  # Показати легенду\n",
        "\n",
        "plt.figure()\n",
        "\n",
        "plt.plot(epochs, loss, 'bo', label='Втрати на тренуванні')  # Графік втрат на тренувальних данних\n",
        "plt.plot(epochs, val_loss, 'b', label='Втрати на валідації')  # Графік втрат на валідаційних данних\n",
        "plt.title('Втрати тренування і валідації')  # Заголовок графіку\n",
        "plt.legend()  # Показати легенду\n",
        "\n",
        "plt.show()  # Відобразити графіки"
      ],
      "metadata": {
        "id": "_9FfZELYUnUy",
        "colab": {
          "base_uri": "https://localhost:8080/",
          "height": 887
        },
        "outputId": "d288640b-dc97-4776-f4e7-b9a8a55358d4"
      },
      "execution_count": null,
      "outputs": [
        {
          "output_type": "display_data",
          "data": {
            "text/plain": [
              "<Figure size 640x480 with 1 Axes>"
            ],
            "image/png": "[encoded data removed]"
          },
          "metadata": {}
        },
        {
          "output_type": "display_data",
          "data": {
            "text/plain": [
              "<Figure size 640x480 with 1 Axes>"
            ],
            "image/png": "[encoded data removed]"
          },
          "metadata": {}
        }
      ]
    },
    {
      "cell_type": "code",
      "source": [
        "results = model.evaluate(input_test, test_labels)\n",
        "print(results)"
      ],
      "metadata": {
        "id": "eCA9bhgS2-9k",
        "colab": {
          "base_uri": "https://localhost:8080/"
        },
        "outputId": "8d88ce26-9045-45df-c104-444e0097d155"
      },
      "execution_count": null,
      "outputs": [
        {
          "output_type": "stream",
          "name": "stdout",
          "text": [
            "782/782 [==============================] - 48s 61ms/step - loss: 0.3887 - binary_accuracy: 0.8634\n",
            "[0.3886778652667999, 0.8633599877357483]\n"
          ]
        }
      ]
    },
    {
      "cell_type": "code",
      "source": [
        "model.save(\"/content/drive/MyDrive/Data S/Hw11/model_Hw11_DEEP\")"
      ],
      "metadata": {
        "id": "pA6fHCQX295N",
        "colab": {
          "base_uri": "https://localhost:8080/"
        },
        "outputId": "162a6299-9b16-4f5b-a033-a5c45ea94c97"
      },
      "execution_count": null,
      "outputs": [
        {
          "output_type": "stream",
          "name": "stderr",
          "text": [
            "WARNING:absl:Found untraced functions such as lstm_cell_layer_call_fn, lstm_cell_layer_call_and_return_conditional_losses, lstm_cell_1_layer_call_fn, lstm_cell_1_layer_call_and_return_conditional_losses while saving (showing 4 of 4). These functions will not be directly callable after loading.\n"
          ]
        }
      ]
    }
  ]
}