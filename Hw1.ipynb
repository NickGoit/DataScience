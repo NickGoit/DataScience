{
 "cells": [
  {
   "cell_type": "markdown",
   "id": "6da087c0",
   "metadata": {},
   "source": [
    "# Home work 1 of Data Science module"
   ]
  },
  {
   "cell_type": "code",
   "execution_count": 2,
   "id": "9a9074aa",
   "metadata": {},
   "outputs": [
    {
     "name": "stdout",
     "output_type": "stream",
     "text": [
      "[ 1  2  3  4  5  6  7  8  9 10]\n"
     ]
    }
   ],
   "source": [
    "# 1.Створіть одновимірний масив (вектор) з першими 10-ма натуральними числами та виведіть його значення.\n",
    "import numpy as np\n",
    "a = np.arange(1,11)\n",
    "print(a)"
   ]
  },
  {
   "cell_type": "code",
   "execution_count": 3,
   "id": "0fed75e8",
   "metadata": {},
   "outputs": [
    {
     "name": "stdout",
     "output_type": "stream",
     "text": [
      "[[0 0 0]\n",
      " [0 0 0]\n",
      " [0 0 0]]\n"
     ]
    }
   ],
   "source": [
    "# 2.Створіть двовимірний масив (матрицю) розміром 3x3, заповніть його нулями та виведіть його значення.\n",
    "a= np.zeros((3,3), dtype=int)\n",
    "print(a)"
   ]
  },
  {
   "cell_type": "code",
   "execution_count": 19,
   "id": "8932e6fb",
   "metadata": {},
   "outputs": [
    {
     "name": "stdout",
     "output_type": "stream",
     "text": [
      "[[ 9  8  2  1 10]\n",
      " [ 8  5  5  3  1]\n",
      " [ 8 10  6  4  4]\n",
      " [ 1  2  9  6  9]\n",
      " [ 2  1  3  9  5]]\n"
     ]
    }
   ],
   "source": [
    "# 3.Створіть масив розміром 5x5, заповніть його випадковими цілими числами в діапазоні від 1 до 10 та виведіть його значення.\n",
    "a=np.random.randint(low=1, high=11, size=(5,5), dtype=int)\n",
    "print(a)"
   ]
  },
  {
   "cell_type": "code",
   "execution_count": 5,
   "id": "ebf620b0",
   "metadata": {},
   "outputs": [
    {
     "name": "stdout",
     "output_type": "stream",
     "text": [
      "[[0.83888874 0.04696069 0.47554978 0.45896757]\n",
      " [0.90311288 0.714319   0.17317397 0.05645629]\n",
      " [0.29619455 0.95361947 0.59845669 0.21112653]\n",
      " [0.6832128  0.50544483 0.78615456 0.07343081]]\n"
     ]
    }
   ],
   "source": [
    "# 4.Створіть масив розміром 4x4, заповніть його випадковими дійсними числами в діапазоні від 0 до 1 та виведіть його значення.\n",
    "a=np.random.random((4,4))\n",
    "print(a)"
   ]
  },
  {
   "cell_type": "code",
   "execution_count": 24,
   "id": "50094f75",
   "metadata": {},
   "outputs": [
    {
     "name": "stdout",
     "output_type": "stream",
     "text": [
      "vector [4 5 6 9 4]\n",
      "vector [10  8  5  9  5]\n",
      "Addition a+b [14 13 11 18  9]\n",
      "Subtraction a-b [-6 -3  1  0 -1]\n",
      "Multiplication, a*b [40 40 30 81 20]\n"
     ]
    }
   ],
   "source": [
    "# 5.Створіть два одновимірних масиви розміром 5, заповніть їх випадковими цілими числами в діапазоні від 1 до 10 та виконайте на них поелементні операції додавання, віднімання та множення.\n",
    "a = np.random.randint(low=1, high=11, size=5)\n",
    "b = np.random.randint(low=1, high=11, size=5)\n",
    "print('vector', a)\n",
    "print('vector', b)\n",
    "print('Addition a+b', a+b)\n",
    "print('Subtraction a-b', a-b)\n",
    "print('Multiplication, a*b', a*b)"
   ]
  },
  {
   "cell_type": "code",
   "execution_count": 22,
   "id": "2b7fea22",
   "metadata": {},
   "outputs": [
    {
     "name": "stdout",
     "output_type": "stream",
     "text": [
      "vector [3 4 9 6 2 3 2]\n",
      "vector [7 3 5 6 8 4 3]\n",
      "Dot product 148\n"
     ]
    }
   ],
   "source": [
    "# 6. Створіть два вектори розміром 7, заповніть довільними числами та знайдіть їх скалярний добуток.\n",
    "a= np.random.randint(low=1, high=10, size=7)\n",
    "b= np.random.randint(low=1, high=10, size=7)\n",
    "print('vector', a)\n",
    "print('vector', b)\n",
    "print('Dot product', np.dot(a,b) )"
   ]
  },
  {
   "cell_type": "code",
   "execution_count": 26,
   "id": "44518776",
   "metadata": {},
   "outputs": [
    {
     "name": "stdout",
     "output_type": "stream",
     "text": [
      "[[10  1]\n",
      " [ 8  9]]\n",
      "\n",
      "[[ 1  1  5]\n",
      " [10  3  5]]\n",
      "\n",
      "Multiplication\n",
      " [[20 13 55]\n",
      " [98 35 85]]\n"
     ]
    }
   ],
   "source": [
    "#7. Створіть дві матриці розміром 2x2 та 2x3, заповніть їх випадковими цілими числами в діапазоні від 1 до 10 та перемножте їх між собою.\n",
    "a= np.random.randint(low=1, high=11, size=(2,2))\n",
    "b= np.random.randint(low=1, high=11, size=(2,3))\n",
    "print(a)\n",
    "print()\n",
    "print(b)\n",
    "print()\n",
    "print ('Multiplication\\n', np.dot(a,b))"
   ]
  },
  {
   "cell_type": "code",
   "execution_count": 27,
   "id": "def22446",
   "metadata": {},
   "outputs": [
    {
     "name": "stdout",
     "output_type": "stream",
     "text": [
      "[[10 10  7]\n",
      " [ 2  1  4]\n",
      " [10  6  9]]\n",
      "[[-0.17857143 -0.57142857  0.39285714]\n",
      " [ 0.26190476  0.23809524 -0.30952381]\n",
      " [ 0.02380952  0.47619048 -0.11904762]]\n"
     ]
    }
   ],
   "source": [
    "# 8. Створіть матрицю розміром 3x3, заповніть її випадковими цілими числами в діапазоні від 1 до 10 та знайдіть її обернену матрицю\n",
    "a = np.random.randint(low=1, high=11, size=(3,3))\n",
    "print(a)\n",
    "a_inv=np.linalg.inv(a)\n",
    "print(a_inv)"
   ]
  },
  {
   "cell_type": "code",
   "execution_count": 10,
   "id": "4c88f2a3",
   "metadata": {},
   "outputs": [
    {
     "name": "stdout",
     "output_type": "stream",
     "text": [
      "[[0.73323201 0.07270126 0.53735432 0.84685747]\n",
      " [0.86441815 0.20516447 0.73736255 0.94366865]\n",
      " [0.65541002 0.25522225 0.57189343 0.02225638]\n",
      " [0.7125473  0.48563053 0.64801919 0.92816628]]\n",
      "\n",
      "[[0.73323201 0.86441815 0.65541002 0.7125473 ]\n",
      " [0.07270126 0.20516447 0.25522225 0.48563053]\n",
      " [0.53735432 0.73736255 0.57189343 0.64801919]\n",
      " [0.84685747 0.94366865 0.02225638 0.92816628]]\n"
     ]
    }
   ],
   "source": [
    "# 9. Створіть матрицю розміром 4x4, заповніть її випадковими дійсними числами в діапазоні від 0 до 1 та транспонуйте її.\n",
    "a = np.random.random((4,4))\n",
    "print(a)\n",
    "print()\n",
    "a_trans=a.T\n",
    "print(a_trans)"
   ]
  },
  {
   "cell_type": "code",
   "execution_count": 28,
   "id": "7dc7630a",
   "metadata": {
    "scrolled": true
   },
   "outputs": [
    {
     "name": "stdout",
     "output_type": "stream",
     "text": [
      "[[ 3  9  5  3]\n",
      " [ 1 10  3  1]\n",
      " [ 1  1  9  2]]\n",
      "\n",
      "[7 6 5 3] \n",
      "\n",
      "Multiplication\n",
      " [109  85  64]\n"
     ]
    }
   ],
   "source": [
    "#10. Створіть матрицю розміром 3x4 та вектор розміром 4, заповніть їх випадковими цілими числами в діапазоні від 1 до 10 та перемножте матрицю на вектор.\n",
    "a= np.random.randint(low=1, high=11, size=(3,4))\n",
    "b= np.random.randint(low=1, high=11, size=4)\n",
    "print(a)\n",
    "print()\n",
    "print(b,'\\n')\n",
    "print('Multiplication\\n', np.dot(a,b))                 "
   ]
  },
  {
   "cell_type": "code",
   "execution_count": 12,
   "id": "4636596f",
   "metadata": {},
   "outputs": [
    {
     "name": "stdout",
     "output_type": "stream",
     "text": [
      "[[0.29515515 0.71412423 0.85903519]\n",
      " [0.44568142 0.4212859  0.20356109]] \n",
      "\n",
      "[0.88472012 0.10936645 0.31408449] \n",
      "\n",
      "Multiplication\n",
      " [0.60904056 0.50431324]\n"
     ]
    }
   ],
   "source": [
    "#11. Створіть матрицю розміром 2x3 та вектор розміром 3, заповніть їх випадковими дійсними числами в діапазоні від 0 до 1 та перемножте матрицю на вектор.\n",
    "a = np.random.random((2,3))\n",
    "b = np.random.random(3)\n",
    "print(a,'\\n')\n",
    "print(b,'\\n')\n",
    "print('Multiplication\\n', np.dot(a,b))"
   ]
  },
  {
   "cell_type": "code",
   "execution_count": 29,
   "id": "08412f5d",
   "metadata": {},
   "outputs": [
    {
     "name": "stdout",
     "output_type": "stream",
     "text": [
      "vector a\n",
      " [[ 9 10]\n",
      " [ 1  2]] \n",
      "\n",
      "vector b\n",
      " [[2 4]\n",
      " [6 6]] \n",
      "\n",
      "Multiplication\n",
      " [[18 40]\n",
      " [ 6 12]]\n"
     ]
    }
   ],
   "source": [
    "#12. Створіть дві матриці розміром 2x2, заповніть їх випадковими цілими числами в діапазоні від 1 до 10 та виконайте їхнє поелементне множення.\n",
    "a=np.random.randint(low=1, high=11, size=(2,2))\n",
    "b=np.random.randint(low=1, high=11, size=(2,2))\n",
    "print('Matrix a\\n',a,'\\n')\n",
    "print('Matrix b\\n',b,'\\n')\n",
    "print('Multiplication\\n', a*b)"
   ]
  },
  {
   "cell_type": "code",
   "execution_count": 30,
   "id": "a0131e0f",
   "metadata": {},
   "outputs": [
    {
     "name": "stdout",
     "output_type": "stream",
     "text": [
      "vector a\n",
      " [[4 9]\n",
      " [1 2]] \n",
      "\n",
      "vector b\n",
      " [[ 5 10]\n",
      " [ 6  2]] \n",
      "\n",
      "Multiplication\n",
      " [[74 58]\n",
      " [17 14]]\n"
     ]
    }
   ],
   "source": [
    "#13.Створіть дві матриці розміром 2x2, заповніть їх випадковими цілими числами в діапазоні від 1 до 10 та знайдіть їх добуток.\n",
    "a=np.random.randint(low=1, high=11, size=(2,2))\n",
    "b=np.random.randint(low=1, high=11, size=(2,2))\n",
    "print('Matrix a\\n',a,'\\n')\n",
    "print('Matrix b\\n',b,'\\n')\n",
    "print('Multiplication\\n', np.dot(a,b))\n",
    " "
   ]
  },
  {
   "cell_type": "code",
   "execution_count": 32,
   "id": "4381b9e6",
   "metadata": {},
   "outputs": [
    {
     "name": "stdout",
     "output_type": "stream",
     "text": [
      "vector a\n",
      " [[ 6 53 93 31 23]\n",
      " [ 8 25 60 87  2]\n",
      " [10 64  4 85 18]\n",
      " [39 64 20 77 86]\n",
      " [80 86 80 45 91]] \n",
      "\n",
      "Sum\n",
      " 1237\n"
     ]
    }
   ],
   "source": [
    "#14. Створіть матрицю розміром 5x5, заповніть її випадковими цілими числами в діапазоні від 1 до 100 та знайдіть суму елементів матриці.\n",
    "a = np.random.randint(low=1, high=101, size=(5,5))\n",
    "print('Matrix a\\n',a,'\\n')\n",
    "print('Sum\\n', a.sum())"
   ]
  },
  {
   "cell_type": "code",
   "execution_count": 33,
   "id": "be5e7cb8",
   "metadata": {},
   "outputs": [
    {
     "name": "stdout",
     "output_type": "stream",
     "text": [
      "vector a\n",
      " [[ 5  4  8  6]\n",
      " [ 8  1  1 10]\n",
      " [ 4  3  1  6]\n",
      " [ 1 10  5  4]] \n",
      "\n",
      "vector b\n",
      " [[3 3 5 8]\n",
      " [4 9 8 2]\n",
      " [7 1 7 1]\n",
      " [1 7 1 5]] \n",
      "\n",
      "Subtraction\n",
      " [[ 2  1  3 -2]\n",
      " [ 4 -8 -7  8]\n",
      " [-3  2 -6  5]\n",
      " [ 0  3  4 -1]]\n"
     ]
    }
   ],
   "source": [
    "#15. Створіть дві матриці розміром 4x4, заповніть їх випадковими цілими числами в діапазоні від 1 до 10 та знайдіть їхню різницю.\n",
    "a=np.random.randint(low=1, high=11, size=(4,4))\n",
    "b=np.random.randint(low=1, high=11, size=(4,4))\n",
    "print('Matrix a\\n',a,'\\n')\n",
    "print('Matrix b\\n',b,'\\n')\n",
    "print('Subtraction\\n', a-b)"
   ]
  },
  {
   "cell_type": "code",
   "execution_count": 17,
   "id": "99f6cf87",
   "metadata": {},
   "outputs": [
    {
     "name": "stdout",
     "output_type": "stream",
     "text": [
      "vector a\n",
      " [[0.43207389 0.30294481 0.70628723]\n",
      " [0.66865526 0.33464678 0.01720251]\n",
      " [0.5504241  0.21008245 0.45043555]] \n",
      "\n",
      "[[1.44130592]\n",
      " [1.02050455]\n",
      " [1.21094209]]\n"
     ]
    }
   ],
   "source": [
    "#16. Створіть матрицю розміром 3x3, заповніть її випадковими дійсними числами в діапазоні від 0 до 1 та знайдіть вектор-стовпчик, що містить суму елементів кожного рядка матриці.\n",
    "a =np.random.random((3,3))\n",
    "print('Matrix a\\n',a,'\\n')\n",
    "b=np.array([\n",
    "    [sum(a[0,:])],\n",
    "    [sum(a[1,:])], \n",
    "    [sum(a[2,:])]\n",
    "])\n",
    "print(b)"
   ]
  },
  {
   "cell_type": "code",
   "execution_count": 35,
   "id": "16aec99e",
   "metadata": {},
   "outputs": [
    {
     "name": "stdout",
     "output_type": "stream",
     "text": [
      "Matrix a\n",
      " [[5 8 1 9]\n",
      " [4 9 7 6]\n",
      " [9 2 2 8]] \n",
      "\n",
      "Matrix A power 2\n",
      " [[25 64  1 81]\n",
      " [16 81 49 36]\n",
      " [81  4  4 64]]\n"
     ]
    }
   ],
   "source": [
    "#17. Створіть матрицю розміром 3x4 з довільними цілими числами і створінь матрицю з квадратами цих чисел.\n",
    "a= np.random.randint(low=1, high=10, size=(3,4))\n",
    "print('Matrix a\\n',a,'\\n')\n",
    "a2=np.zeros((3,4), dtype=int)\n",
    "for i in range(a.shape[0]):    \n",
    "    for j in range(a.shape[1]):\n",
    "       a2[i,j]=a[i,j]**2\n",
    "print('Matrix A power 2\\n',a2)\n"
   ]
  },
  {
   "cell_type": "code",
   "execution_count": 48,
   "id": "6247598a",
   "metadata": {},
   "outputs": [
    {
     "name": "stdout",
     "output_type": "stream",
     "text": [
      "Vector a\n",
      " [41 41 45  2] \n",
      "\n",
      "SQRT of Vector a\n",
      " [6.40312424 6.40312424 6.70820393 1.41421356]\n"
     ]
    }
   ],
   "source": [
    "#18. Створіть вектор розміром 4, заповніть його випадковими цілими числами в діапазоні від 1 до 50 та знайдіть вектор з квадратними коренями цих чисел\n",
    "a=np.random.randint(low=1, high=51, size=4)\n",
    "print('Vector a\\n',a,'\\n')\n",
    "b=np.zeros(4)\n",
    "for i in range(a.shape[0]):\n",
    "    b[i]=a[i]**0.5    \n",
    "print('SQRT of Vector a\\n',b)"
   ]
  },
  {
   "cell_type": "code",
   "execution_count": null,
   "id": "12446d39",
   "metadata": {},
   "outputs": [],
   "source": []
  }
 ],
 "metadata": {
  "kernelspec": {
   "display_name": "Python 3 (ipykernel)",
   "language": "python",
   "name": "python3"
  },
  "language_info": {
   "codemirror_mode": {
    "name": "ipython",
    "version": 3
   },
   "file_extension": ".py",
   "mimetype": "text/x-python",
   "name": "python",
   "nbconvert_exporter": "python",
   "pygments_lexer": "ipython3",
   "version": "3.10.9"
  }
 },
 "nbformat": 4,
 "nbformat_minor": 5
}
