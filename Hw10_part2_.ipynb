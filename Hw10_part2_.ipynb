{
  "nbformat": 4,
  "nbformat_minor": 0,
  "metadata": {
    "colab": {
      "provenance": [],
      "gpuType": "T4"
    },
    "kernelspec": {
      "name": "python3",
      "display_name": "Python 3"
    },
    "language_info": {
      "name": "python"
    },
    "accelerator": "GPU"
  },
  "cells": [
    {
      "cell_type": "markdown",
      "source": [
        "Частина 2\n",
        "\n",
        "\n",
        "В цій частині ми знову будемо працювати з датасетом fasion_mnist.\n",
        "\n",
        "На відміну від попереднього завдання вам пропонується створити згорткову нейромережу, що використовує VGG16 в якості згорткової основи.\n",
        "\n",
        "Навчіть отриману мережу на даних із датасету fasion_mnist. Спробуйте досягти максимально можливої точності класифікації за рахунок маніпуляції параметрами мережі. Під час навчання використовуйте прийоми донавчання та виділення ознак.\n",
        "\n",
        "Порівняйте точність отриманої згорткової мережі з точністю багатошарової мережі з попереднього завдання. Зробіть висновки."
      ],
      "metadata": {
        "id": "KKHVtsIfDwxR"
      }
    },
    {
      "cell_type": "code",
      "execution_count": 19,
      "metadata": {
        "id": "YXIFy5_tDpsP"
      },
      "outputs": [],
      "source": [
        "import numpy as np\n",
        "import matplotlib.pyplot as plt\n",
        "import tensorflow as tf\n",
        "\n",
        "from tensorflow import keras\n",
        "from keras.models import Sequential\n",
        "from keras.layers import Dense, Conv2D, MaxPooling2D, Flatten, Input\n",
        "from keras import optimizers\n",
        "from keras import losses\n",
        "from keras import metrics\n",
        "from keras.callbacks import EarlyStopping\n",
        "\n",
        "from keras.applications.vgg16 import VGG16\n",
        "from keras.applications.vgg16 import preprocess_input\n",
        "\n",
        "from keras.utils import img_to_array, array_to_img"
      ]
    },
    {
      "cell_type": "code",
      "source": [
        "from keras.datasets import fashion_mnist"
      ],
      "metadata": {
        "id": "rRPJfRZ0ElKD"
      },
      "execution_count": 20,
      "outputs": []
    },
    {
      "cell_type": "code",
      "source": [
        "num_classes = 10 # общее количество классов, в нашем случае это цифры от 0 до 9\n",
        "batch_size = 500 # пересчитывать веса сети мы будем не на всей выборке, а на ее случайном подможестве из batch_size элементов"
      ],
      "metadata": {
        "id": "ovt1PVHUEpYq"
      },
      "execution_count": 21,
      "outputs": []
    },
    {
      "cell_type": "code",
      "source": [
        "(train_data, train_labels), (test_data, test_labels) = fashion_mnist.load_data()\n",
        "\n",
        "train_labels=tf.one_hot(train_labels, depth=num_classes)\n",
        "test_labels=tf.one_hot(test_labels, depth=num_classes)"
      ],
      "metadata": {
        "id": "ifH46DvEErlL"
      },
      "execution_count": 22,
      "outputs": []
    },
    {
      "cell_type": "code",
      "source": [
        "train_images = train_data.reshape([-1, 784])\n",
        "train_images=np.dstack([train_images]*3)\n",
        "train_images.shape\n",
        "train_images = train_images.reshape(-1, 28,28,3) #(60000, 28, 28, 3)\n",
        "train_images=np.asarray([img_to_array(array_to_img(im, scale=False).resize((48,48))) for im in train_images])\n",
        "train_images = train_images.astype(\"float32\") / 255."
      ],
      "metadata": {
        "id": "ZcXAdimjuHtJ"
      },
      "execution_count": 23,
      "outputs": []
    },
    {
      "cell_type": "code",
      "source": [
        "test_images = test_data.reshape([-1, 784])\n",
        "test_images=np.dstack([test_images] * 3)\n",
        "test_images = test_images.reshape(-1, 28,28,3) #(10000, 28, 28, 3)\n",
        "test_images=np.asarray([img_to_array(array_to_img(im, scale=False).resize((48,48))) for im in test_images])\n",
        "test_images = test_images.astype(\"float32\") / 255."
      ],
      "metadata": {
        "id": "_64k6mogxnll"
      },
      "execution_count": 24,
      "outputs": []
    },
    {
      "cell_type": "code",
      "source": [
        "train_images.shape, test_images.shape"
      ],
      "metadata": {
        "colab": {
          "base_uri": "https://localhost:8080/"
        },
        "id": "i-c9Aq21uTys",
        "outputId": "3b64b5d6-9f54-4a5e-a667-ba2e5e4cd48f"
      },
      "execution_count": 25,
      "outputs": [
        {
          "output_type": "execute_result",
          "data": {
            "text/plain": [
              "((60000, 48, 48, 3), (10000, 48, 48, 3))"
            ]
          },
          "metadata": {},
          "execution_count": 25
        }
      ]
    },
    {
      "cell_type": "code",
      "source": [
        "train_images=preprocess_input(train_images)\n",
        "test_images=preprocess_input(test_images)"
      ],
      "metadata": {
        "id": "nltUsmwjtWob"
      },
      "execution_count": 26,
      "outputs": []
    },
    {
      "cell_type": "code",
      "source": [
        "conv_base = VGG16(weights=\"imagenet\",include_top=False,input_shape=(48, 48, 3) )"
      ],
      "metadata": {
        "id": "6IZ4SKO1FikL"
      },
      "execution_count": 27,
      "outputs": []
    },
    {
      "cell_type": "code",
      "source": [
        "conv_base.trainable=False"
      ],
      "metadata": {
        "id": "BcO_UcUJIGn-"
      },
      "execution_count": 28,
      "outputs": []
    },
    {
      "cell_type": "code",
      "source": [
        "conv_base.summary()"
      ],
      "metadata": {
        "colab": {
          "base_uri": "https://localhost:8080/"
        },
        "id": "iyDcl4wx1NdV",
        "outputId": "995dd21c-e1f6-41e4-9b8d-90a676ba186a"
      },
      "execution_count": 29,
      "outputs": [
        {
          "output_type": "stream",
          "name": "stdout",
          "text": [
            "Model: \"vgg16\"\n",
            "_________________________________________________________________\n",
            " Layer (type)                Output Shape              Param #   \n",
            "=================================================================\n",
            " input_2 (InputLayer)        [(None, 48, 48, 3)]       0         \n",
            "                                                                 \n",
            " block1_conv1 (Conv2D)       (None, 48, 48, 64)        1792      \n",
            "                                                                 \n",
            " block1_conv2 (Conv2D)       (None, 48, 48, 64)        36928     \n",
            "                                                                 \n",
            " block1_pool (MaxPooling2D)  (None, 24, 24, 64)        0         \n",
            "                                                                 \n",
            " block2_conv1 (Conv2D)       (None, 24, 24, 128)       73856     \n",
            "                                                                 \n",
            " block2_conv2 (Conv2D)       (None, 24, 24, 128)       147584    \n",
            "                                                                 \n",
            " block2_pool (MaxPooling2D)  (None, 12, 12, 128)       0         \n",
            "                                                                 \n",
            " block3_conv1 (Conv2D)       (None, 12, 12, 256)       295168    \n",
            "                                                                 \n",
            " block3_conv2 (Conv2D)       (None, 12, 12, 256)       590080    \n",
            "                                                                 \n",
            " block3_conv3 (Conv2D)       (None, 12, 12, 256)       590080    \n",
            "                                                                 \n",
            " block3_pool (MaxPooling2D)  (None, 6, 6, 256)         0         \n",
            "                                                                 \n",
            " block4_conv1 (Conv2D)       (None, 6, 6, 512)         1180160   \n",
            "                                                                 \n",
            " block4_conv2 (Conv2D)       (None, 6, 6, 512)         2359808   \n",
            "                                                                 \n",
            " block4_conv3 (Conv2D)       (None, 6, 6, 512)         2359808   \n",
            "                                                                 \n",
            " block4_pool (MaxPooling2D)  (None, 3, 3, 512)         0         \n",
            "                                                                 \n",
            " block5_conv1 (Conv2D)       (None, 3, 3, 512)         2359808   \n",
            "                                                                 \n",
            " block5_conv2 (Conv2D)       (None, 3, 3, 512)         2359808   \n",
            "                                                                 \n",
            " block5_conv3 (Conv2D)       (None, 3, 3, 512)         2359808   \n",
            "                                                                 \n",
            " block5_pool (MaxPooling2D)  (None, 1, 1, 512)         0         \n",
            "                                                                 \n",
            "=================================================================\n",
            "Total params: 14,714,688\n",
            "Trainable params: 0\n",
            "Non-trainable params: 14,714,688\n",
            "_________________________________________________________________\n"
          ]
        }
      ]
    },
    {
      "cell_type": "code",
      "source": [
        "model = Sequential([\n",
        "   conv_base,\n",
        "   Flatten(),\n",
        "   Dense(256, activation=\"sigmoid\"),\n",
        "   Dense(10, activation=\"softmax\"),\n",
        "])"
      ],
      "metadata": {
        "id": "D7Sb-ZdiILbm"
      },
      "execution_count": 30,
      "outputs": []
    },
    {
      "cell_type": "code",
      "source": [
        "model.summary()"
      ],
      "metadata": {
        "colab": {
          "base_uri": "https://localhost:8080/"
        },
        "id": "WJ1AnTC90vvV",
        "outputId": "4026503f-cd8f-4498-8c5c-0b6bbba3300d"
      },
      "execution_count": 31,
      "outputs": [
        {
          "output_type": "stream",
          "name": "stdout",
          "text": [
            "Model: \"sequential_1\"\n",
            "_________________________________________________________________\n",
            " Layer (type)                Output Shape              Param #   \n",
            "=================================================================\n",
            " vgg16 (Functional)          (None, 1, 1, 512)         14714688  \n",
            "                                                                 \n",
            " flatten_1 (Flatten)         (None, 512)               0         \n",
            "                                                                 \n",
            " dense_2 (Dense)             (None, 256)               131328    \n",
            "                                                                 \n",
            " dense_3 (Dense)             (None, 10)                2570      \n",
            "                                                                 \n",
            "=================================================================\n",
            "Total params: 14,848,586\n",
            "Trainable params: 133,898\n",
            "Non-trainable params: 14,714,688\n",
            "_________________________________________________________________\n"
          ]
        }
      ]
    },
    {
      "cell_type": "code",
      "source": [
        "model.compile(\n",
        "    optimizer=optimizers.Adam(learning_rate=0.0005),\n",
        "    loss=losses.CategoricalCrossentropy(),\n",
        "    metrics=['categorical_accuracy'],\n",
        ")"
      ],
      "metadata": {
        "id": "dzUcw4i7IkYl"
      },
      "execution_count": 32,
      "outputs": []
    },
    {
      "cell_type": "code",
      "source": [
        "callback_early_stopping = EarlyStopping(\n",
        "    monitor=\"val_categorical_accuracy\",\n",
        "    min_delta=0.00001,\n",
        "    patience=5,\n",
        ")"
      ],
      "metadata": {
        "id": "MdZbVPlI2dko"
      },
      "execution_count": 33,
      "outputs": []
    },
    {
      "cell_type": "code",
      "source": [
        "history = model.fit(\n",
        "    train_images,\n",
        "    train_labels,\n",
        "    epochs=70,\n",
        "    batch_size=batch_size,\n",
        "    validation_data=(test_images, test_labels),\n",
        "    callbacks=[callback_early_stopping],\n",
        "    verbose=1,\n",
        ")"
      ],
      "metadata": {
        "colab": {
          "base_uri": "https://localhost:8080/"
        },
        "id": "lzYNYDEF1tpb",
        "outputId": "b878de29-c555-4569-8e17-1c0f2ad04fcc"
      },
      "execution_count": 34,
      "outputs": [
        {
          "output_type": "stream",
          "name": "stdout",
          "text": [
            "Epoch 1/70\n",
            "120/120 [==============================] - 18s 146ms/step - loss: 2.1852 - categorical_accuracy: 0.2352 - val_loss: 1.9367 - val_categorical_accuracy: 0.3281\n",
            "Epoch 2/70\n",
            "120/120 [==============================] - 17s 139ms/step - loss: 1.7413 - categorical_accuracy: 0.4133 - val_loss: 1.6105 - val_categorical_accuracy: 0.4341\n",
            "Epoch 3/70\n",
            "120/120 [==============================] - 16s 136ms/step - loss: 1.5198 - categorical_accuracy: 0.4798 - val_loss: 1.4666 - val_categorical_accuracy: 0.4997\n",
            "Epoch 4/70\n",
            "120/120 [==============================] - 16s 130ms/step - loss: 1.4105 - categorical_accuracy: 0.5186 - val_loss: 1.3851 - val_categorical_accuracy: 0.5241\n",
            "Epoch 5/70\n",
            "120/120 [==============================] - 16s 130ms/step - loss: 1.3409 - categorical_accuracy: 0.5402 - val_loss: 1.3317 - val_categorical_accuracy: 0.5406\n",
            "Epoch 6/70\n",
            "120/120 [==============================] - 16s 133ms/step - loss: 1.2864 - categorical_accuracy: 0.5553 - val_loss: 1.2838 - val_categorical_accuracy: 0.5494\n",
            "Epoch 7/70\n",
            "120/120 [==============================] - 16s 134ms/step - loss: 1.2417 - categorical_accuracy: 0.5734 - val_loss: 1.2437 - val_categorical_accuracy: 0.5742\n",
            "Epoch 8/70\n",
            "120/120 [==============================] - 16s 133ms/step - loss: 1.2041 - categorical_accuracy: 0.5883 - val_loss: 1.2072 - val_categorical_accuracy: 0.5990\n",
            "Epoch 9/70\n",
            "120/120 [==============================] - 16s 135ms/step - loss: 1.1702 - categorical_accuracy: 0.6015 - val_loss: 1.1761 - val_categorical_accuracy: 0.6081\n",
            "Epoch 10/70\n",
            "120/120 [==============================] - 16s 132ms/step - loss: 1.1416 - categorical_accuracy: 0.6123 - val_loss: 1.1471 - val_categorical_accuracy: 0.6138\n",
            "Epoch 11/70\n",
            "120/120 [==============================] - 16s 132ms/step - loss: 1.1129 - categorical_accuracy: 0.6219 - val_loss: 1.1266 - val_categorical_accuracy: 0.6320\n",
            "Epoch 12/70\n",
            "120/120 [==============================] - 16s 132ms/step - loss: 1.0890 - categorical_accuracy: 0.6315 - val_loss: 1.0976 - val_categorical_accuracy: 0.6232\n",
            "Epoch 13/70\n",
            "120/120 [==============================] - 16s 133ms/step - loss: 1.0677 - categorical_accuracy: 0.6349 - val_loss: 1.0782 - val_categorical_accuracy: 0.6387\n",
            "Epoch 14/70\n",
            "120/120 [==============================] - 16s 136ms/step - loss: 1.0478 - categorical_accuracy: 0.6431 - val_loss: 1.0570 - val_categorical_accuracy: 0.6379\n",
            "Epoch 15/70\n",
            "120/120 [==============================] - 16s 136ms/step - loss: 1.0297 - categorical_accuracy: 0.6497 - val_loss: 1.0458 - val_categorical_accuracy: 0.6500\n",
            "Epoch 16/70\n",
            "120/120 [==============================] - 16s 136ms/step - loss: 1.0124 - categorical_accuracy: 0.6561 - val_loss: 1.0252 - val_categorical_accuracy: 0.6541\n",
            "Epoch 17/70\n",
            "120/120 [==============================] - 16s 133ms/step - loss: 1.0001 - categorical_accuracy: 0.6571 - val_loss: 1.0110 - val_categorical_accuracy: 0.6597\n",
            "Epoch 18/70\n",
            "120/120 [==============================] - 16s 133ms/step - loss: 0.9871 - categorical_accuracy: 0.6611 - val_loss: 1.0019 - val_categorical_accuracy: 0.6574\n",
            "Epoch 19/70\n",
            "120/120 [==============================] - 16s 136ms/step - loss: 0.9756 - categorical_accuracy: 0.6653 - val_loss: 1.0034 - val_categorical_accuracy: 0.6474\n",
            "Epoch 20/70\n",
            "120/120 [==============================] - 16s 133ms/step - loss: 0.9644 - categorical_accuracy: 0.6685 - val_loss: 0.9808 - val_categorical_accuracy: 0.6688\n",
            "Epoch 21/70\n",
            "120/120 [==============================] - 16s 135ms/step - loss: 0.9549 - categorical_accuracy: 0.6702 - val_loss: 0.9738 - val_categorical_accuracy: 0.6616\n",
            "Epoch 22/70\n",
            "120/120 [==============================] - 16s 135ms/step - loss: 0.9448 - categorical_accuracy: 0.6724 - val_loss: 0.9592 - val_categorical_accuracy: 0.6698\n",
            "Epoch 23/70\n",
            "120/120 [==============================] - 16s 132ms/step - loss: 0.9350 - categorical_accuracy: 0.6763 - val_loss: 0.9491 - val_categorical_accuracy: 0.6776\n",
            "Epoch 24/70\n",
            "120/120 [==============================] - 16s 133ms/step - loss: 0.9275 - categorical_accuracy: 0.6792 - val_loss: 0.9406 - val_categorical_accuracy: 0.6761\n",
            "Epoch 25/70\n",
            "120/120 [==============================] - 16s 136ms/step - loss: 0.9199 - categorical_accuracy: 0.6787 - val_loss: 0.9436 - val_categorical_accuracy: 0.6676\n",
            "Epoch 26/70\n",
            "120/120 [==============================] - 16s 135ms/step - loss: 0.9136 - categorical_accuracy: 0.6812 - val_loss: 0.9312 - val_categorical_accuracy: 0.6696\n",
            "Epoch 27/70\n",
            "120/120 [==============================] - 16s 133ms/step - loss: 0.9071 - categorical_accuracy: 0.6833 - val_loss: 0.9247 - val_categorical_accuracy: 0.6804\n",
            "Epoch 28/70\n",
            "120/120 [==============================] - 16s 136ms/step - loss: 0.9012 - categorical_accuracy: 0.6851 - val_loss: 0.9163 - val_categorical_accuracy: 0.6838\n",
            "Epoch 29/70\n",
            "120/120 [==============================] - 16s 133ms/step - loss: 0.8961 - categorical_accuracy: 0.6856 - val_loss: 0.9089 - val_categorical_accuracy: 0.6848\n",
            "Epoch 30/70\n",
            "120/120 [==============================] - 16s 133ms/step - loss: 0.8906 - categorical_accuracy: 0.6878 - val_loss: 0.9134 - val_categorical_accuracy: 0.6851\n",
            "Epoch 31/70\n",
            "120/120 [==============================] - 16s 133ms/step - loss: 0.8887 - categorical_accuracy: 0.6878 - val_loss: 0.9020 - val_categorical_accuracy: 0.6815\n",
            "Epoch 32/70\n",
            "120/120 [==============================] - 16s 136ms/step - loss: 0.8819 - categorical_accuracy: 0.6896 - val_loss: 0.9001 - val_categorical_accuracy: 0.6818\n",
            "Epoch 33/70\n",
            "120/120 [==============================] - 16s 132ms/step - loss: 0.8774 - categorical_accuracy: 0.6905 - val_loss: 0.8975 - val_categorical_accuracy: 0.6853\n",
            "Epoch 34/70\n",
            "120/120 [==============================] - 16s 135ms/step - loss: 0.8725 - categorical_accuracy: 0.6937 - val_loss: 0.8884 - val_categorical_accuracy: 0.6943\n",
            "Epoch 35/70\n",
            "120/120 [==============================] - 16s 135ms/step - loss: 0.8702 - categorical_accuracy: 0.6927 - val_loss: 0.8836 - val_categorical_accuracy: 0.6942\n",
            "Epoch 36/70\n",
            "120/120 [==============================] - 16s 135ms/step - loss: 0.8648 - categorical_accuracy: 0.6949 - val_loss: 0.8827 - val_categorical_accuracy: 0.6906\n",
            "Epoch 37/70\n",
            "120/120 [==============================] - 16s 133ms/step - loss: 0.8611 - categorical_accuracy: 0.6963 - val_loss: 0.8773 - val_categorical_accuracy: 0.6904\n",
            "Epoch 38/70\n",
            "120/120 [==============================] - 16s 133ms/step - loss: 0.8591 - categorical_accuracy: 0.6952 - val_loss: 0.8710 - val_categorical_accuracy: 0.6954\n",
            "Epoch 39/70\n",
            "120/120 [==============================] - 16s 133ms/step - loss: 0.8544 - categorical_accuracy: 0.6977 - val_loss: 0.8678 - val_categorical_accuracy: 0.6966\n",
            "Epoch 40/70\n",
            "120/120 [==============================] - 16s 133ms/step - loss: 0.8521 - categorical_accuracy: 0.6999 - val_loss: 0.8681 - val_categorical_accuracy: 0.6954\n",
            "Epoch 41/70\n",
            "120/120 [==============================] - 16s 133ms/step - loss: 0.8476 - categorical_accuracy: 0.7009 - val_loss: 0.8639 - val_categorical_accuracy: 0.6969\n",
            "Epoch 42/70\n",
            "120/120 [==============================] - 16s 136ms/step - loss: 0.8468 - categorical_accuracy: 0.6992 - val_loss: 0.8628 - val_categorical_accuracy: 0.6971\n",
            "Epoch 43/70\n",
            "120/120 [==============================] - 16s 133ms/step - loss: 0.8427 - categorical_accuracy: 0.7022 - val_loss: 0.8776 - val_categorical_accuracy: 0.6826\n",
            "Epoch 44/70\n",
            "120/120 [==============================] - 16s 136ms/step - loss: 0.8408 - categorical_accuracy: 0.7020 - val_loss: 0.8567 - val_categorical_accuracy: 0.6969\n",
            "Epoch 45/70\n",
            "120/120 [==============================] - 16s 136ms/step - loss: 0.8365 - categorical_accuracy: 0.7040 - val_loss: 0.8515 - val_categorical_accuracy: 0.6988\n",
            "Epoch 46/70\n",
            "120/120 [==============================] - 16s 135ms/step - loss: 0.8352 - categorical_accuracy: 0.7046 - val_loss: 0.8520 - val_categorical_accuracy: 0.7003\n",
            "Epoch 47/70\n",
            "120/120 [==============================] - 16s 133ms/step - loss: 0.8312 - categorical_accuracy: 0.7060 - val_loss: 0.8483 - val_categorical_accuracy: 0.7002\n",
            "Epoch 48/70\n",
            "120/120 [==============================] - 16s 133ms/step - loss: 0.8315 - categorical_accuracy: 0.7046 - val_loss: 0.8435 - val_categorical_accuracy: 0.7036\n",
            "Epoch 49/70\n",
            "120/120 [==============================] - 16s 133ms/step - loss: 0.8297 - categorical_accuracy: 0.7044 - val_loss: 0.8468 - val_categorical_accuracy: 0.7003\n",
            "Epoch 50/70\n",
            "120/120 [==============================] - 16s 133ms/step - loss: 0.8235 - categorical_accuracy: 0.7088 - val_loss: 0.8446 - val_categorical_accuracy: 0.6995\n",
            "Epoch 51/70\n",
            "120/120 [==============================] - 16s 133ms/step - loss: 0.8237 - categorical_accuracy: 0.7078 - val_loss: 0.8413 - val_categorical_accuracy: 0.7024\n",
            "Epoch 52/70\n",
            "120/120 [==============================] - 16s 133ms/step - loss: 0.8226 - categorical_accuracy: 0.7075 - val_loss: 0.8366 - val_categorical_accuracy: 0.7065\n",
            "Epoch 53/70\n",
            "120/120 [==============================] - 16s 133ms/step - loss: 0.8180 - categorical_accuracy: 0.7107 - val_loss: 0.8323 - val_categorical_accuracy: 0.7056\n",
            "Epoch 54/70\n",
            "120/120 [==============================] - 16s 133ms/step - loss: 0.8194 - categorical_accuracy: 0.7098 - val_loss: 0.8335 - val_categorical_accuracy: 0.7041\n",
            "Epoch 55/70\n",
            "120/120 [==============================] - 16s 136ms/step - loss: 0.8156 - categorical_accuracy: 0.7089 - val_loss: 0.8276 - val_categorical_accuracy: 0.7094\n",
            "Epoch 56/70\n",
            "120/120 [==============================] - 16s 135ms/step - loss: 0.8137 - categorical_accuracy: 0.7117 - val_loss: 0.8342 - val_categorical_accuracy: 0.7038\n",
            "Epoch 57/70\n",
            "120/120 [==============================] - 16s 133ms/step - loss: 0.8107 - categorical_accuracy: 0.7122 - val_loss: 0.8366 - val_categorical_accuracy: 0.6995\n",
            "Epoch 58/70\n",
            "120/120 [==============================] - 16s 136ms/step - loss: 0.8095 - categorical_accuracy: 0.7133 - val_loss: 0.8270 - val_categorical_accuracy: 0.7070\n",
            "Epoch 59/70\n",
            "120/120 [==============================] - 16s 133ms/step - loss: 0.8074 - categorical_accuracy: 0.7128 - val_loss: 0.8284 - val_categorical_accuracy: 0.7102\n",
            "Epoch 60/70\n",
            "120/120 [==============================] - 16s 136ms/step - loss: 0.8050 - categorical_accuracy: 0.7147 - val_loss: 0.8199 - val_categorical_accuracy: 0.7092\n",
            "Epoch 61/70\n",
            "120/120 [==============================] - 16s 133ms/step - loss: 0.8030 - categorical_accuracy: 0.7152 - val_loss: 0.8189 - val_categorical_accuracy: 0.7091\n",
            "Epoch 62/70\n",
            "120/120 [==============================] - 16s 135ms/step - loss: 0.8032 - categorical_accuracy: 0.7145 - val_loss: 0.8283 - val_categorical_accuracy: 0.7056\n",
            "Epoch 63/70\n",
            "120/120 [==============================] - 16s 133ms/step - loss: 0.8002 - categorical_accuracy: 0.7146 - val_loss: 0.8203 - val_categorical_accuracy: 0.7094\n",
            "Epoch 64/70\n",
            "120/120 [==============================] - 16s 133ms/step - loss: 0.7985 - categorical_accuracy: 0.7169 - val_loss: 0.8164 - val_categorical_accuracy: 0.7103\n",
            "Epoch 65/70\n",
            "120/120 [==============================] - 16s 132ms/step - loss: 0.7977 - categorical_accuracy: 0.7164 - val_loss: 0.8167 - val_categorical_accuracy: 0.7126\n",
            "Epoch 66/70\n",
            "120/120 [==============================] - 16s 135ms/step - loss: 0.7951 - categorical_accuracy: 0.7181 - val_loss: 0.8130 - val_categorical_accuracy: 0.7137\n",
            "Epoch 67/70\n",
            "120/120 [==============================] - 16s 133ms/step - loss: 0.7929 - categorical_accuracy: 0.7177 - val_loss: 0.8147 - val_categorical_accuracy: 0.7113\n",
            "Epoch 68/70\n",
            "120/120 [==============================] - 16s 133ms/step - loss: 0.7923 - categorical_accuracy: 0.7196 - val_loss: 0.8089 - val_categorical_accuracy: 0.7146\n",
            "Epoch 69/70\n",
            "120/120 [==============================] - 16s 133ms/step - loss: 0.7923 - categorical_accuracy: 0.7196 - val_loss: 0.8164 - val_categorical_accuracy: 0.7090\n",
            "Epoch 70/70\n",
            "120/120 [==============================] - 16s 133ms/step - loss: 0.7915 - categorical_accuracy: 0.7185 - val_loss: 0.8030 - val_categorical_accuracy: 0.7179\n"
          ]
        }
      ]
    },
    {
      "cell_type": "code",
      "source": [
        "history_dict = history.history\n",
        "loss_values = history_dict['loss']\n",
        "val_loss_values = history_dict['val_loss']\n",
        "\n",
        "epochs = range(1, len(history_dict['categorical_accuracy']) + 1)\n",
        "\n",
        "plt.plot(epochs, loss_values, 'bo', label='Training loss')\n",
        "plt.plot(epochs, val_loss_values, 'b', label='Validation loss')\n",
        "plt.title('Training and validation loss')\n",
        "plt.xlabel('Epochs')\n",
        "plt.ylabel('Loss')\n",
        "plt.legend()\n",
        "plt.show()\n",
        "\n",
        "plt.clf()\n",
        "val_acc_values = history_dict['val_categorical_accuracy']\n",
        "plt.plot(epochs, history_dict['categorical_accuracy'], 'bo', label='Training acc')\n",
        "plt.plot(epochs, history_dict['val_categorical_accuracy'], 'b', label='Validation acc')\n",
        "plt.title('Training and validation accuracy')\n",
        "plt.xlabel('Epochs')\n",
        "plt.ylabel('Loss')\n",
        "plt.legend()"
      ],
      "metadata": {
        "colab": {
          "base_uri": "https://localhost:8080/",
          "height": 944
        },
        "id": "ogwKvOQP2l94",
        "outputId": "97bd291f-7b8d-4d8a-b38e-2f74e5c7ffde"
      },
      "execution_count": 35,
      "outputs": [
        {
          "output_type": "display_data",
          "data": {
            "text/plain": [
              "<Figure size 640x480 with 1 Axes>"
            ],
            "image/png": "[encoded data removed]"
          },
          "metadata": {}
        },
        {
          "output_type": "execute_result",
          "data": {
            "text/plain": [
              "<matplotlib.legend.Legend at 0x798ba012e050>"
            ]
          },
          "metadata": {},
          "execution_count": 35
        },
        {
          "output_type": "display_data",
          "data": {
            "text/plain": [
              "<Figure size 640x480 with 1 Axes>"
            ],
            "image/png": "[encoded data removed]"
          },
          "metadata": {}
        }
      ]
    },
    {
      "cell_type": "code",
      "source": [
        "results = model.evaluate(test_images, test_labels)\n",
        "print(results)"
      ],
      "metadata": {
        "colab": {
          "base_uri": "https://localhost:8080/"
        },
        "id": "8cq31OVi2oNJ",
        "outputId": "1bd85a51-f809-469a-f22b-065520665adc"
      },
      "execution_count": 36,
      "outputs": [
        {
          "output_type": "stream",
          "name": "stdout",
          "text": [
            "313/313 [==============================] - 4s 12ms/step - loss: 0.8030 - categorical_accuracy: 0.7178\n",
            "[0.8030389547348022, 0.7178000211715698]\n"
          ]
        }
      ]
    },
    {
      "cell_type": "code",
      "source": [
        "model.save(\"/content/drive/MyDrive/Data S/Hw10/model_Hw10_part2_\")"
      ],
      "metadata": {
        "id": "jwGfrKnmd-T2",
        "colab": {
          "base_uri": "https://localhost:8080/"
        },
        "outputId": "528237ca-9dc1-4258-a463-7b21ae94cd94"
      },
      "execution_count": 37,
      "outputs": [
        {
          "output_type": "stream",
          "name": "stderr",
          "text": [
            "WARNING:absl:Found untraced functions such as _jit_compiled_convolution_op, _jit_compiled_convolution_op, _jit_compiled_convolution_op, _jit_compiled_convolution_op, _jit_compiled_convolution_op while saving (showing 5 of 13). These functions will not be directly callable after loading.\n"
          ]
        }
      ]
    },
    {
      "cell_type": "markdown",
      "source": [
        "Висновки\n",
        "\n",
        "Була розроблена модель з використанням передвиборної мережі на базі VGG16 з виділенням ознак. Отриманий результат точності дорівнює 72%"
      ],
      "metadata": {
        "id": "bi_YBfl0_qrx"
      }
    }
  ]
}