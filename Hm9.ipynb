{
  "nbformat": 4,
  "nbformat_minor": 0,
  "metadata": {
    "colab": {
      "provenance": []
    },
    "kernelspec": {
      "name": "python3",
      "display_name": "Python 3"
    },
    "language_info": {
      "name": "python"
    }
  },
  "cells": [
    {
      "cell_type": "code",
      "execution_count": 842,
      "metadata": {
        "id": "qPThR84cuhok"
      },
      "outputs": [],
      "source": [
        "import numpy as np\n",
        "import matplotlib.pyplot as plt\n",
        "import tensorflow as tf\n",
        "\n",
        "from tensorflow import keras\n",
        "from keras.models import Sequential\n",
        "from keras.layers import Dense\n",
        "from keras import optimizers\n",
        "from keras import losses\n",
        "from keras import metrics\n",
        "from keras.callbacks import EarlyStopping"
      ]
    },
    {
      "cell_type": "code",
      "source": [
        "from keras.datasets import fashion_mnist"
      ],
      "metadata": {
        "id": "WTvUOWYVu7dL"
      },
      "execution_count": 843,
      "outputs": []
    },
    {
      "cell_type": "code",
      "source": [
        "num_classes = 10 # общее количество классов, в нашем случае это цифры от 0 до 9\n",
        "num_features = 784 # количество атрибутов входного вектора 28 * 28 = 784\n",
        "batch_size = 500 # пересчитывать веса сети мы будем не на всей выборке, а на ее случайном подможестве из batch_size элементов\n",
        "\n"
      ],
      "metadata": {
        "id": "sGsYRh1AFNrC"
      },
      "execution_count": 844,
      "outputs": []
    },
    {
      "cell_type": "code",
      "source": [
        "(train_data, train_labels), (test_data, test_labels) = fashion_mnist.load_data()"
      ],
      "metadata": {
        "id": "3ncmNqO6vDge"
      },
      "execution_count": 845,
      "outputs": []
    },
    {
      "cell_type": "code",
      "source": [
        "train_data.shape, train_data.min(), train_data.max()"
      ],
      "metadata": {
        "colab": {
          "base_uri": "https://localhost:8080/"
        },
        "id": "BKLimZqNwY1d",
        "outputId": "a1cc642c-2c72-413e-ebe7-a53de03ba756"
      },
      "execution_count": 846,
      "outputs": [
        {
          "output_type": "execute_result",
          "data": {
            "text/plain": [
              "((60000, 28, 28), 0, 255)"
            ]
          },
          "metadata": {},
          "execution_count": 846
        }
      ]
    },
    {
      "cell_type": "code",
      "source": [
        "train_labels, train_labels.shape , train_labels.min(), train_labels.max()"
      ],
      "metadata": {
        "colab": {
          "base_uri": "https://localhost:8080/"
        },
        "id": "T_0HChYfwbTY",
        "outputId": "e3a5d15c-714a-48f0-8d49-04c1bc60ef63"
      },
      "execution_count": 847,
      "outputs": [
        {
          "output_type": "execute_result",
          "data": {
            "text/plain": [
              "(array([9, 0, 0, ..., 3, 0, 5], dtype=uint8), (60000,), 0, 9)"
            ]
          },
          "metadata": {},
          "execution_count": 847
        }
      ]
    },
    {
      "cell_type": "code",
      "source": [
        "y_train=tf.one_hot(train_labels, depth=num_classes)\n",
        "y_test=tf.one_hot(test_labels, depth=num_classes)"
      ],
      "metadata": {
        "id": "wFA6DFggQEje"
      },
      "execution_count": 848,
      "outputs": []
    },
    {
      "cell_type": "code",
      "source": [
        "x_train, x_test = np.array(train_data, np.float32), np.array(test_data, np.float32)\n",
        "x_train, x_test = x_train.reshape([-1, num_features]), x_test.reshape([-1, num_features])\n",
        "x_train, x_test = x_train / 255., x_test / 255.\n",
        "train_data = tf.data.Dataset.from_tensor_slices((x_train, y_train))\n",
        "train_data = train_data.repeat().shuffle(5000).batch(batch_size).prefetch(1)"
      ],
      "metadata": {
        "id": "hKmO98JbE7UT"
      },
      "execution_count": 849,
      "outputs": []
    },
    {
      "cell_type": "code",
      "source": [
        "model=Sequential([\n",
        "    Dense(512, activation='sigmoid', input_shape=(784,)),\n",
        "    Dense(256, activation='sigmoid'),\n",
        "    Dense(128, activation='sigmoid'),\n",
        "    Dense(10, activation='softmax'),\n",
        "])"
      ],
      "metadata": {
        "id": "NJyUL4hdykQE"
      },
      "execution_count": 850,
      "outputs": []
    },
    {
      "cell_type": "code",
      "source": [
        "model.compile(\n",
        "    optimizer=optimizers.Adam(lr=0.001, epsilon=1e-03),\n",
        "    loss=losses.CategoricalCrossentropy(),\n",
        "    metrics=['categorical_accuracy'],\n",
        ")"
      ],
      "metadata": {
        "id": "HBPsSFEU0ZrS",
        "colab": {
          "base_uri": "https://localhost:8080/"
        },
        "outputId": "a19f086c-f3e8-4ab2-dae8-d2e3a8331f23"
      },
      "execution_count": 851,
      "outputs": [
        {
          "output_type": "stream",
          "name": "stderr",
          "text": [
            "/usr/local/lib/python3.10/dist-packages/keras/optimizers/legacy/adam.py:117: UserWarning: The `lr` argument is deprecated, use `learning_rate` instead.\n",
            "  super().__init__(name, **kwargs)\n"
          ]
        }
      ]
    },
    {
      "cell_type": "code",
      "source": [
        "\n",
        "\n",
        "callback_early_stopping = EarlyStopping(\n",
        "    monitor=\"val_categorical_accuracy\",\n",
        "    min_delta=0.0001,\n",
        "    patience=5,\n",
        ")"
      ],
      "metadata": {
        "id": "5Q9MJoAvq3pE"
      },
      "execution_count": 852,
      "outputs": []
    },
    {
      "cell_type": "code",
      "source": [
        "model.summary()"
      ],
      "metadata": {
        "colab": {
          "base_uri": "https://localhost:8080/"
        },
        "id": "Qiy4PIkv0xuh",
        "outputId": "5f22239c-0e86-42c4-e741-459220fc5927"
      },
      "execution_count": 853,
      "outputs": [
        {
          "output_type": "stream",
          "name": "stdout",
          "text": [
            "Model: \"sequential_33\"\n",
            "_________________________________________________________________\n",
            " Layer (type)                Output Shape              Param #   \n",
            "=================================================================\n",
            " dense_125 (Dense)           (None, 512)               401920    \n",
            "                                                                 \n",
            " dense_126 (Dense)           (None, 256)               131328    \n",
            "                                                                 \n",
            " dense_127 (Dense)           (None, 128)               32896     \n",
            "                                                                 \n",
            " dense_128 (Dense)           (None, 10)                1290      \n",
            "                                                                 \n",
            "=================================================================\n",
            "Total params: 567,434\n",
            "Trainable params: 567,434\n",
            "Non-trainable params: 0\n",
            "_________________________________________________________________\n"
          ]
        }
      ]
    },
    {
      "cell_type": "code",
      "source": [
        "history=model.fit(\n",
        "    train_data,\n",
        "    epochs=60,\n",
        "    batch_size=batch_size,\n",
        "    steps_per_epoch=150,\n",
        "    validation_data=(x_test, y_test),\n",
        "    #callbacks=[callback_early_stopping],\n",
        "    verbose=1,\n",
        ")"
      ],
      "metadata": {
        "id": "35qcOZj61fLZ",
        "colab": {
          "base_uri": "https://localhost:8080/"
        },
        "outputId": "3c6315a3-544c-4529-ff96-8a28262cda5b"
      },
      "execution_count": 854,
      "outputs": [
        {
          "output_type": "stream",
          "name": "stdout",
          "text": [
            "Epoch 1/60\n",
            "150/150 [==============================] - 7s 43ms/step - loss: 2.2628 - categorical_accuracy: 0.2149 - val_loss: 2.1162 - val_categorical_accuracy: 0.2952\n",
            "Epoch 2/60\n",
            "150/150 [==============================] - 6s 37ms/step - loss: 1.5893 - categorical_accuracy: 0.5130 - val_loss: 1.1821 - val_categorical_accuracy: 0.5853\n",
            "Epoch 3/60\n",
            "150/150 [==============================] - 6s 37ms/step - loss: 1.0187 - categorical_accuracy: 0.6330 - val_loss: 0.9042 - val_categorical_accuracy: 0.6636\n",
            "Epoch 4/60\n",
            "150/150 [==============================] - 6s 42ms/step - loss: 0.8088 - categorical_accuracy: 0.7104 - val_loss: 0.7405 - val_categorical_accuracy: 0.7416\n",
            "Epoch 5/60\n",
            "150/150 [==============================] - 5s 35ms/step - loss: 0.6746 - categorical_accuracy: 0.7529 - val_loss: 0.6476 - val_categorical_accuracy: 0.7589\n",
            "Epoch 6/60\n",
            "150/150 [==============================] - 7s 44ms/step - loss: 0.6059 - categorical_accuracy: 0.7729 - val_loss: 0.5968 - val_categorical_accuracy: 0.7817\n",
            "Epoch 7/60\n",
            "150/150 [==============================] - 5s 35ms/step - loss: 0.5605 - categorical_accuracy: 0.7954 - val_loss: 0.5707 - val_categorical_accuracy: 0.7935\n",
            "Epoch 8/60\n",
            "150/150 [==============================] - 7s 44ms/step - loss: 0.5270 - categorical_accuracy: 0.8095 - val_loss: 0.5406 - val_categorical_accuracy: 0.8053\n",
            "Epoch 9/60\n",
            "150/150 [==============================] - 5s 35ms/step - loss: 0.5037 - categorical_accuracy: 0.8199 - val_loss: 0.5176 - val_categorical_accuracy: 0.8155\n",
            "Epoch 10/60\n",
            "150/150 [==============================] - 6s 42ms/step - loss: 0.4826 - categorical_accuracy: 0.8275 - val_loss: 0.5048 - val_categorical_accuracy: 0.8195\n",
            "Epoch 11/60\n",
            "150/150 [==============================] - 6s 39ms/step - loss: 0.4664 - categorical_accuracy: 0.8353 - val_loss: 0.4897 - val_categorical_accuracy: 0.8247\n",
            "Epoch 12/60\n",
            "150/150 [==============================] - 6s 37ms/step - loss: 0.4504 - categorical_accuracy: 0.8396 - val_loss: 0.4805 - val_categorical_accuracy: 0.8272\n",
            "Epoch 13/60\n",
            "150/150 [==============================] - 7s 44ms/step - loss: 0.4387 - categorical_accuracy: 0.8433 - val_loss: 0.4752 - val_categorical_accuracy: 0.8281\n",
            "Epoch 14/60\n",
            "150/150 [==============================] - 5s 35ms/step - loss: 0.4275 - categorical_accuracy: 0.8470 - val_loss: 0.4564 - val_categorical_accuracy: 0.8361\n",
            "Epoch 15/60\n",
            "150/150 [==============================] - 7s 44ms/step - loss: 0.4177 - categorical_accuracy: 0.8511 - val_loss: 0.4497 - val_categorical_accuracy: 0.8379\n",
            "Epoch 16/60\n",
            "150/150 [==============================] - 5s 35ms/step - loss: 0.4062 - categorical_accuracy: 0.8548 - val_loss: 0.4488 - val_categorical_accuracy: 0.8424\n",
            "Epoch 17/60\n",
            "150/150 [==============================] - 7s 44ms/step - loss: 0.4005 - categorical_accuracy: 0.8571 - val_loss: 0.4355 - val_categorical_accuracy: 0.8418\n",
            "Epoch 18/60\n",
            "150/150 [==============================] - 5s 35ms/step - loss: 0.3933 - categorical_accuracy: 0.8590 - val_loss: 0.4288 - val_categorical_accuracy: 0.8481\n",
            "Epoch 19/60\n",
            "150/150 [==============================] - 6s 39ms/step - loss: 0.3849 - categorical_accuracy: 0.8626 - val_loss: 0.4280 - val_categorical_accuracy: 0.8487\n",
            "Epoch 20/60\n",
            "150/150 [==============================] - 6s 39ms/step - loss: 0.3791 - categorical_accuracy: 0.8642 - val_loss: 0.4214 - val_categorical_accuracy: 0.8517\n",
            "Epoch 21/60\n",
            "150/150 [==============================] - 5s 35ms/step - loss: 0.3747 - categorical_accuracy: 0.8656 - val_loss: 0.4311 - val_categorical_accuracy: 0.8454\n",
            "Epoch 22/60\n",
            "150/150 [==============================] - 7s 44ms/step - loss: 0.3693 - categorical_accuracy: 0.8671 - val_loss: 0.4207 - val_categorical_accuracy: 0.8505\n",
            "Epoch 23/60\n",
            "150/150 [==============================] - 5s 35ms/step - loss: 0.3627 - categorical_accuracy: 0.8707 - val_loss: 0.4032 - val_categorical_accuracy: 0.8554\n",
            "Epoch 24/60\n",
            "150/150 [==============================] - 7s 44ms/step - loss: 0.3570 - categorical_accuracy: 0.8713 - val_loss: 0.4041 - val_categorical_accuracy: 0.8558\n",
            "Epoch 25/60\n",
            "150/150 [==============================] - 5s 35ms/step - loss: 0.3552 - categorical_accuracy: 0.8720 - val_loss: 0.4000 - val_categorical_accuracy: 0.8562\n",
            "Epoch 26/60\n",
            "150/150 [==============================] - 8s 53ms/step - loss: 0.3496 - categorical_accuracy: 0.8750 - val_loss: 0.3928 - val_categorical_accuracy: 0.8588\n",
            "Epoch 27/60\n",
            "150/150 [==============================] - 6s 37ms/step - loss: 0.3444 - categorical_accuracy: 0.8764 - val_loss: 0.3932 - val_categorical_accuracy: 0.8590\n",
            "Epoch 28/60\n",
            "150/150 [==============================] - 6s 42ms/step - loss: 0.3408 - categorical_accuracy: 0.8766 - val_loss: 0.3864 - val_categorical_accuracy: 0.8619\n",
            "Epoch 29/60\n",
            "150/150 [==============================] - 6s 37ms/step - loss: 0.3388 - categorical_accuracy: 0.8776 - val_loss: 0.3898 - val_categorical_accuracy: 0.8610\n",
            "Epoch 30/60\n",
            "150/150 [==============================] - 5s 35ms/step - loss: 0.3333 - categorical_accuracy: 0.8797 - val_loss: 0.3849 - val_categorical_accuracy: 0.8618\n",
            "Epoch 31/60\n",
            "150/150 [==============================] - 7s 44ms/step - loss: 0.3285 - categorical_accuracy: 0.8819 - val_loss: 0.3808 - val_categorical_accuracy: 0.8662\n",
            "Epoch 32/60\n",
            "150/150 [==============================] - 5s 35ms/step - loss: 0.3281 - categorical_accuracy: 0.8814 - val_loss: 0.3772 - val_categorical_accuracy: 0.8644\n",
            "Epoch 33/60\n",
            "150/150 [==============================] - 7s 47ms/step - loss: 0.3250 - categorical_accuracy: 0.8824 - val_loss: 0.3801 - val_categorical_accuracy: 0.8642\n",
            "Epoch 34/60\n",
            "150/150 [==============================] - 6s 37ms/step - loss: 0.3214 - categorical_accuracy: 0.8839 - val_loss: 0.3725 - val_categorical_accuracy: 0.8675\n",
            "Epoch 35/60\n",
            "150/150 [==============================] - 7s 45ms/step - loss: 0.3165 - categorical_accuracy: 0.8860 - val_loss: 0.3805 - val_categorical_accuracy: 0.8639\n",
            "Epoch 36/60\n",
            "150/150 [==============================] - 5s 35ms/step - loss: 0.3148 - categorical_accuracy: 0.8857 - val_loss: 0.3784 - val_categorical_accuracy: 0.8647\n",
            "Epoch 37/60\n",
            "150/150 [==============================] - 6s 40ms/step - loss: 0.3140 - categorical_accuracy: 0.8859 - val_loss: 0.3752 - val_categorical_accuracy: 0.8656\n",
            "Epoch 38/60\n",
            "150/150 [==============================] - 6s 38ms/step - loss: 0.3073 - categorical_accuracy: 0.8893 - val_loss: 0.3801 - val_categorical_accuracy: 0.8622\n",
            "Epoch 39/60\n",
            "150/150 [==============================] - 5s 35ms/step - loss: 0.3097 - categorical_accuracy: 0.8891 - val_loss: 0.3821 - val_categorical_accuracy: 0.8638\n",
            "Epoch 40/60\n",
            "150/150 [==============================] - 7s 45ms/step - loss: 0.3050 - categorical_accuracy: 0.8895 - val_loss: 0.3696 - val_categorical_accuracy: 0.8682\n",
            "Epoch 41/60\n",
            "150/150 [==============================] - 5s 35ms/step - loss: 0.3006 - categorical_accuracy: 0.8908 - val_loss: 0.3738 - val_categorical_accuracy: 0.8656\n",
            "Epoch 42/60\n",
            "150/150 [==============================] - 7s 45ms/step - loss: 0.2970 - categorical_accuracy: 0.8913 - val_loss: 0.3637 - val_categorical_accuracy: 0.8707\n",
            "Epoch 43/60\n",
            "150/150 [==============================] - 5s 35ms/step - loss: 0.2968 - categorical_accuracy: 0.8930 - val_loss: 0.3696 - val_categorical_accuracy: 0.8681\n",
            "Epoch 44/60\n",
            "150/150 [==============================] - 7s 45ms/step - loss: 0.2944 - categorical_accuracy: 0.8924 - val_loss: 0.3596 - val_categorical_accuracy: 0.8724\n",
            "Epoch 45/60\n",
            "150/150 [==============================] - 5s 35ms/step - loss: 0.2892 - categorical_accuracy: 0.8944 - val_loss: 0.3598 - val_categorical_accuracy: 0.8735\n",
            "Epoch 46/60\n",
            "150/150 [==============================] - 6s 41ms/step - loss: 0.2906 - categorical_accuracy: 0.8943 - val_loss: 0.3646 - val_categorical_accuracy: 0.8725\n",
            "Epoch 47/60\n",
            "150/150 [==============================] - 6s 39ms/step - loss: 0.2844 - categorical_accuracy: 0.8965 - val_loss: 0.3621 - val_categorical_accuracy: 0.8722\n",
            "Epoch 48/60\n",
            "150/150 [==============================] - 5s 35ms/step - loss: 0.2842 - categorical_accuracy: 0.8974 - val_loss: 0.3662 - val_categorical_accuracy: 0.8659\n",
            "Epoch 49/60\n",
            "150/150 [==============================] - 7s 45ms/step - loss: 0.2803 - categorical_accuracy: 0.8975 - val_loss: 0.3569 - val_categorical_accuracy: 0.8727\n",
            "Epoch 50/60\n",
            "150/150 [==============================] - 5s 36ms/step - loss: 0.2796 - categorical_accuracy: 0.8987 - val_loss: 0.3558 - val_categorical_accuracy: 0.8743\n",
            "Epoch 51/60\n",
            "150/150 [==============================] - 7s 45ms/step - loss: 0.2778 - categorical_accuracy: 0.8993 - val_loss: 0.3494 - val_categorical_accuracy: 0.8770\n",
            "Epoch 52/60\n",
            "150/150 [==============================] - 5s 35ms/step - loss: 0.2760 - categorical_accuracy: 0.8995 - val_loss: 0.3569 - val_categorical_accuracy: 0.8726\n",
            "Epoch 53/60\n",
            "150/150 [==============================] - 7s 45ms/step - loss: 0.2776 - categorical_accuracy: 0.8987 - val_loss: 0.3604 - val_categorical_accuracy: 0.8702\n",
            "Epoch 54/60\n",
            "150/150 [==============================] - 5s 35ms/step - loss: 0.2720 - categorical_accuracy: 0.9010 - val_loss: 0.3493 - val_categorical_accuracy: 0.8763\n",
            "Epoch 55/60\n",
            "150/150 [==============================] - 6s 40ms/step - loss: 0.2666 - categorical_accuracy: 0.9031 - val_loss: 0.3493 - val_categorical_accuracy: 0.8770\n",
            "Epoch 56/60\n",
            "150/150 [==============================] - 6s 39ms/step - loss: 0.2654 - categorical_accuracy: 0.9037 - val_loss: 0.3498 - val_categorical_accuracy: 0.8773\n",
            "Epoch 57/60\n",
            "150/150 [==============================] - 5s 35ms/step - loss: 0.2641 - categorical_accuracy: 0.9034 - val_loss: 0.3443 - val_categorical_accuracy: 0.8781\n",
            "Epoch 58/60\n",
            "150/150 [==============================] - 7s 45ms/step - loss: 0.2636 - categorical_accuracy: 0.9043 - val_loss: 0.3470 - val_categorical_accuracy: 0.8756\n",
            "Epoch 59/60\n",
            "150/150 [==============================] - 7s 45ms/step - loss: 0.2598 - categorical_accuracy: 0.9058 - val_loss: 0.3463 - val_categorical_accuracy: 0.8781\n",
            "Epoch 60/60\n",
            "150/150 [==============================] - 7s 45ms/step - loss: 0.2614 - categorical_accuracy: 0.9043 - val_loss: 0.3480 - val_categorical_accuracy: 0.8767\n"
          ]
        }
      ]
    },
    {
      "cell_type": "code",
      "source": [
        "import matplotlib.pyplot as plt\n",
        "\n",
        "\n",
        "history_dict = history.history\n",
        "loss_values = history_dict['loss']\n",
        "val_loss_values = history_dict['val_loss']\n",
        "\n",
        "epochs = range(1, len(history_dict['categorical_accuracy']) + 1)\n",
        "\n",
        "plt.plot(epochs, loss_values, 'bo', label='Training loss')\n",
        "plt.plot(epochs, val_loss_values, 'b', label='Validation loss')\n",
        "plt.title('Training and validation loss')\n",
        "plt.xlabel('Epochs')\n",
        "plt.ylabel('Loss')\n",
        "plt.legend()\n",
        "plt.show()\n",
        "\n",
        "plt.clf()\n",
        "val_acc_values = history_dict['val_categorical_accuracy']\n",
        "plt.plot(epochs, history_dict['categorical_accuracy'], 'bo', label='Training acc')\n",
        "plt.plot(epochs, history_dict['val_categorical_accuracy'], 'b', label='Validation acc')\n",
        "plt.title('Training and validation accuracy')\n",
        "plt.xlabel('Epochs')\n",
        "plt.ylabel('Loss')\n",
        "plt.legend()"
      ],
      "metadata": {
        "id": "lvm4Usdl_E0p",
        "colab": {
          "base_uri": "https://localhost:8080/",
          "height": 944
        },
        "outputId": "0c0cc8ab-796f-4489-f652-2f8e2da46b2b"
      },
      "execution_count": 855,
      "outputs": [
        {
          "output_type": "display_data",
          "data": {
            "text/plain": [
              "<Figure size 640x480 with 1 Axes>"
            ],
            "image/png": "[encoded data removed]"
          },
          "metadata": {}
        },
        {
          "output_type": "execute_result",
          "data": {
            "text/plain": [
              "<matplotlib.legend.Legend at 0x7cf997c41600>"
            ]
          },
          "metadata": {},
          "execution_count": 855
        },
        {
          "output_type": "display_data",
          "data": {
            "text/plain": [
              "<Figure size 640x480 with 1 Axes>"
            ],
            "image/png": "[encoded data removed]"
          },
          "metadata": {}
        }
      ]
    },
    {
      "cell_type": "code",
      "source": [
        "results = model.evaluate(x_test, y_test)\n",
        "print(results)"
      ],
      "metadata": {
        "id": "u66Uoe3M_8WA",
        "colab": {
          "base_uri": "https://localhost:8080/"
        },
        "outputId": "acc1da82-d78c-420d-b27d-71e6e56c51f7"
      },
      "execution_count": 856,
      "outputs": [
        {
          "output_type": "stream",
          "name": "stdout",
          "text": [
            "313/313 [==============================] - 1s 3ms/step - loss: 0.3480 - categorical_accuracy: 0.8767\n",
            "[0.3479660749435425, 0.8766999840736389]\n"
          ]
        }
      ]
    },
    {
      "cell_type": "code",
      "source": [
        "y_pred=model.predict(x_test)"
      ],
      "metadata": {
        "colab": {
          "base_uri": "https://localhost:8080/"
        },
        "id": "1NBzsKtuHoWX",
        "outputId": "0ae6ed3a-5559-4144-9859-420cdcccf7c6"
      },
      "execution_count": 857,
      "outputs": [
        {
          "output_type": "stream",
          "name": "stdout",
          "text": [
            "313/313 [==============================] - 1s 3ms/step\n"
          ]
        }
      ]
    },
    {
      "cell_type": "code",
      "source": [
        "# Display some images\n",
        "fig, axes = plt.subplots(ncols=7, sharex=False,\n",
        "    sharey=True, figsize=(18, 6))\n",
        "for i in range(7):\n",
        "    axes[i].set_title(np.argmax(y_pred[i]))\n",
        "    axes[i].imshow(test_data[i], cmap='gray')\n",
        "    axes[i].get_xaxis().set_visible(False)\n",
        "    axes[i].get_yaxis().set_visible(False)\n",
        "plt.show()"
      ],
      "metadata": {
        "colab": {
          "base_uri": "https://localhost:8080/",
          "height": 229
        },
        "id": "AUIQR4wvZP0S",
        "outputId": "e6805183-a175-4b4f-f67f-6659d791331e"
      },
      "execution_count": 858,
      "outputs": [
        {
          "output_type": "display_data",
          "data": {
            "text/plain": [
              "<Figure size 1800x600 with 7 Axes>"
            ],
            "image/png": "[encoded data removed]"
          },
          "metadata": {}
        }
      ]
    },
    {
      "cell_type": "code",
      "source": [
        "for i in range(7):\n",
        "  y_p=np.argmax(y_pred[i])\n",
        "  y_true=test_labels[i]\n",
        "  if y_p==y_true:\n",
        "    print(f'{y_p}=={y_true}')\n",
        "  else:\n",
        "    print(f'{y_p} NOT {y_true}')"
      ],
      "metadata": {
        "colab": {
          "base_uri": "https://localhost:8080/"
        },
        "id": "K0gOPN8paxsI",
        "outputId": "f1ea738c-954c-41da-d753-7b1129f8203c"
      },
      "execution_count": 859,
      "outputs": [
        {
          "output_type": "stream",
          "name": "stdout",
          "text": [
            "9==9\n",
            "2==2\n",
            "1==1\n",
            "1==1\n",
            "6==6\n",
            "1==1\n",
            "4==4\n"
          ]
        }
      ]
    },
    {
      "cell_type": "code",
      "source": [
        "model.save(\"my_model\")"
      ],
      "metadata": {
        "id": "15VzFedijmwY"
      },
      "execution_count": 861,
      "outputs": []
    }
  ]
}