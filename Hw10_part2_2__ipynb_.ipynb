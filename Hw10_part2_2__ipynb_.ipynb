{
  "nbformat": 4,
  "nbformat_minor": 0,
  "metadata": {
    "colab": {
      "provenance": [],
      "gpuType": "T4"
    },
    "kernelspec": {
      "name": "python3",
      "display_name": "Python 3"
    },
    "language_info": {
      "name": "python"
    },
    "accelerator": "GPU"
  },
  "cells": [
    {
      "cell_type": "markdown",
      "source": [
        "Частина 2\n",
        "\n",
        "\n",
        "В цій частині ми знову будемо працювати з датасетом fasion_mnist.\n",
        "\n",
        "На відміну від попереднього завдання вам пропонується створити згорткову нейромережу, що використовує VGG16 в якості згорткової основи.\n",
        "\n",
        "Навчіть отриману мережу на даних із датасету fasion_mnist. Спробуйте досягти максимально можливої точності класифікації за рахунок маніпуляції параметрами мережі. Під час навчання використовуйте прийоми донавчання та виділення ознак.\n",
        "\n",
        "Порівняйте точність отриманої згорткової мережі з точністю багатошарової мережі з попереднього завдання. Зробіть висновки."
      ],
      "metadata": {
        "id": "KKHVtsIfDwxR"
      }
    },
    {
      "cell_type": "code",
      "execution_count": 17,
      "metadata": {
        "id": "YXIFy5_tDpsP"
      },
      "outputs": [],
      "source": [
        "import numpy as np\n",
        "import matplotlib.pyplot as plt\n",
        "import tensorflow as tf\n",
        "\n",
        "from tensorflow import keras\n",
        "from keras.models import Sequential\n",
        "from keras.layers import Dense, Conv2D, MaxPooling2D, Flatten, Input\n",
        "from keras import optimizers\n",
        "from keras import losses\n",
        "from keras import metrics\n",
        "from keras.callbacks import EarlyStopping\n",
        "\n",
        "from keras.applications.vgg16 import VGG16\n",
        "from keras.applications.vgg16 import preprocess_input\n",
        "\n",
        "from keras.utils import img_to_array, array_to_img"
      ]
    },
    {
      "cell_type": "code",
      "source": [
        "from keras.datasets import fashion_mnist"
      ],
      "metadata": {
        "id": "rRPJfRZ0ElKD"
      },
      "execution_count": 18,
      "outputs": []
    },
    {
      "cell_type": "code",
      "source": [
        "num_classes = 10 # общее количество классов, в нашем случае это цифры от 0 до 9\n",
        "batch_size = 500 # пересчитывать веса сети мы будем не на всей выборке, а на ее случайном подможестве из batch_size элементов"
      ],
      "metadata": {
        "id": "ovt1PVHUEpYq"
      },
      "execution_count": 19,
      "outputs": []
    },
    {
      "cell_type": "code",
      "source": [
        "(train_data, train_labels), (test_data, test_labels) = fashion_mnist.load_data()\n",
        "\n",
        "train_labels=tf.one_hot(train_labels, depth=num_classes)\n",
        "test_labels=tf.one_hot(test_labels, depth=num_classes)"
      ],
      "metadata": {
        "id": "ifH46DvEErlL"
      },
      "execution_count": 20,
      "outputs": []
    },
    {
      "cell_type": "code",
      "source": [
        "train_images = train_data.reshape([-1, 784])\n",
        "train_images=np.dstack([train_images]*3)\n",
        "train_images.shape\n",
        "train_images = train_images.reshape(-1, 28,28,3) #(60000, 28, 28, 3)\n",
        "train_images=np.asarray([img_to_array(array_to_img(im, scale=False).resize((48,48))) for im in train_images])\n",
        "train_images = train_images.astype(\"float32\") / 255."
      ],
      "metadata": {
        "id": "ZcXAdimjuHtJ"
      },
      "execution_count": 21,
      "outputs": []
    },
    {
      "cell_type": "code",
      "source": [
        "test_images = test_data.reshape([-1, 784])\n",
        "test_images=np.dstack([test_images] * 3)\n",
        "test_images = test_images.reshape(-1, 28,28,3) #(10000, 28, 28, 3)\n",
        "test_images=np.asarray([img_to_array(array_to_img(im, scale=False).resize((48,48))) for im in test_images])\n",
        "test_images = test_images.astype(\"float32\") / 255."
      ],
      "metadata": {
        "id": "_64k6mogxnll"
      },
      "execution_count": 22,
      "outputs": []
    },
    {
      "cell_type": "code",
      "source": [
        "train_images.shape, test_images.shape"
      ],
      "metadata": {
        "colab": {
          "base_uri": "https://localhost:8080/"
        },
        "id": "i-c9Aq21uTys",
        "outputId": "c1f78ffc-dfd7-4ca4-a8a7-b5fdd71d0542"
      },
      "execution_count": 23,
      "outputs": [
        {
          "output_type": "execute_result",
          "data": {
            "text/plain": [
              "((60000, 48, 48, 3), (10000, 48, 48, 3))"
            ]
          },
          "metadata": {},
          "execution_count": 23
        }
      ]
    },
    {
      "cell_type": "code",
      "source": [
        "train_images=preprocess_input(train_images)\n",
        "test_images=preprocess_input(test_images)"
      ],
      "metadata": {
        "id": "nltUsmwjtWob"
      },
      "execution_count": 24,
      "outputs": []
    },
    {
      "cell_type": "code",
      "source": [
        "conv_base = VGG16(weights=\"imagenet\",include_top=False,input_shape=(48, 48, 3) )"
      ],
      "metadata": {
        "id": "6IZ4SKO1FikL"
      },
      "execution_count": 25,
      "outputs": []
    },
    {
      "cell_type": "code",
      "source": [
        "conv_base.trainable=True\n",
        "set_trainable = False\n",
        "for layer in conv_base.layers:\n",
        "    if layer.name == \"block5_conv1\":\n",
        "        set_trainable = True\n",
        "    if set_trainable:\n",
        "        layer.trainable = True\n",
        "    else:\n",
        "        layer.trainable = False"
      ],
      "metadata": {
        "id": "BcO_UcUJIGn-"
      },
      "execution_count": 26,
      "outputs": []
    },
    {
      "cell_type": "code",
      "source": [
        "conv_base.summary()"
      ],
      "metadata": {
        "colab": {
          "base_uri": "https://localhost:8080/"
        },
        "id": "iyDcl4wx1NdV",
        "outputId": "5e727cb2-1f38-4ffa-ba1b-464cf41b38c0"
      },
      "execution_count": 27,
      "outputs": [
        {
          "output_type": "stream",
          "name": "stdout",
          "text": [
            "Model: \"vgg16\"\n",
            "_________________________________________________________________\n",
            " Layer (type)                Output Shape              Param #   \n",
            "=================================================================\n",
            " input_2 (InputLayer)        [(None, 48, 48, 3)]       0         \n",
            "                                                                 \n",
            " block1_conv1 (Conv2D)       (None, 48, 48, 64)        1792      \n",
            "                                                                 \n",
            " block1_conv2 (Conv2D)       (None, 48, 48, 64)        36928     \n",
            "                                                                 \n",
            " block1_pool (MaxPooling2D)  (None, 24, 24, 64)        0         \n",
            "                                                                 \n",
            " block2_conv1 (Conv2D)       (None, 24, 24, 128)       73856     \n",
            "                                                                 \n",
            " block2_conv2 (Conv2D)       (None, 24, 24, 128)       147584    \n",
            "                                                                 \n",
            " block2_pool (MaxPooling2D)  (None, 12, 12, 128)       0         \n",
            "                                                                 \n",
            " block3_conv1 (Conv2D)       (None, 12, 12, 256)       295168    \n",
            "                                                                 \n",
            " block3_conv2 (Conv2D)       (None, 12, 12, 256)       590080    \n",
            "                                                                 \n",
            " block3_conv3 (Conv2D)       (None, 12, 12, 256)       590080    \n",
            "                                                                 \n",
            " block3_pool (MaxPooling2D)  (None, 6, 6, 256)         0         \n",
            "                                                                 \n",
            " block4_conv1 (Conv2D)       (None, 6, 6, 512)         1180160   \n",
            "                                                                 \n",
            " block4_conv2 (Conv2D)       (None, 6, 6, 512)         2359808   \n",
            "                                                                 \n",
            " block4_conv3 (Conv2D)       (None, 6, 6, 512)         2359808   \n",
            "                                                                 \n",
            " block4_pool (MaxPooling2D)  (None, 3, 3, 512)         0         \n",
            "                                                                 \n",
            " block5_conv1 (Conv2D)       (None, 3, 3, 512)         2359808   \n",
            "                                                                 \n",
            " block5_conv2 (Conv2D)       (None, 3, 3, 512)         2359808   \n",
            "                                                                 \n",
            " block5_conv3 (Conv2D)       (None, 3, 3, 512)         2359808   \n",
            "                                                                 \n",
            " block5_pool (MaxPooling2D)  (None, 1, 1, 512)         0         \n",
            "                                                                 \n",
            "=================================================================\n",
            "Total params: 14,714,688\n",
            "Trainable params: 7,079,424\n",
            "Non-trainable params: 7,635,264\n",
            "_________________________________________________________________\n"
          ]
        }
      ]
    },
    {
      "cell_type": "code",
      "source": [
        "model = Sequential([\n",
        "   conv_base,\n",
        "   Flatten(),\n",
        "   Dense(256, activation=\"sigmoid\"),\n",
        "   Dense(10, activation=\"softmax\"),\n",
        "])"
      ],
      "metadata": {
        "id": "D7Sb-ZdiILbm"
      },
      "execution_count": 28,
      "outputs": []
    },
    {
      "cell_type": "code",
      "source": [
        "model.summary()"
      ],
      "metadata": {
        "colab": {
          "base_uri": "https://localhost:8080/"
        },
        "id": "WJ1AnTC90vvV",
        "outputId": "3750e902-ce97-43e0-8915-335900c262e4"
      },
      "execution_count": 29,
      "outputs": [
        {
          "output_type": "stream",
          "name": "stdout",
          "text": [
            "Model: \"sequential_1\"\n",
            "_________________________________________________________________\n",
            " Layer (type)                Output Shape              Param #   \n",
            "=================================================================\n",
            " vgg16 (Functional)          (None, 1, 1, 512)         14714688  \n",
            "                                                                 \n",
            " flatten_1 (Flatten)         (None, 512)               0         \n",
            "                                                                 \n",
            " dense_2 (Dense)             (None, 256)               131328    \n",
            "                                                                 \n",
            " dense_3 (Dense)             (None, 10)                2570      \n",
            "                                                                 \n",
            "=================================================================\n",
            "Total params: 14,848,586\n",
            "Trainable params: 7,213,322\n",
            "Non-trainable params: 7,635,264\n",
            "_________________________________________________________________\n"
          ]
        }
      ]
    },
    {
      "cell_type": "code",
      "source": [
        "model.compile(\n",
        "    optimizer=optimizers.Adam(learning_rate=0.0001),\n",
        "    loss=losses.CategoricalCrossentropy(),\n",
        "    metrics=['categorical_accuracy'],\n",
        ")"
      ],
      "metadata": {
        "id": "dzUcw4i7IkYl"
      },
      "execution_count": 30,
      "outputs": []
    },
    {
      "cell_type": "code",
      "source": [
        "callback_early_stopping = EarlyStopping(\n",
        "    monitor=\"val_categorical_accuracy\",\n",
        "    min_delta=0.000001,\n",
        "    patience=5,\n",
        ")"
      ],
      "metadata": {
        "id": "MdZbVPlI2dko"
      },
      "execution_count": 31,
      "outputs": []
    },
    {
      "cell_type": "code",
      "source": [
        "history = model.fit(\n",
        "    train_images,\n",
        "    train_labels,\n",
        "    epochs=70,\n",
        "    batch_size=batch_size,\n",
        "    validation_data=(test_images, test_labels),\n",
        "    #callbacks=[callback_early_stopping],\n",
        "    verbose=1,\n",
        ")"
      ],
      "metadata": {
        "colab": {
          "base_uri": "https://localhost:8080/"
        },
        "id": "lzYNYDEF1tpb",
        "outputId": "b2987e99-c591-4eb6-8702-7e01501228c9"
      },
      "execution_count": 32,
      "outputs": [
        {
          "output_type": "stream",
          "name": "stdout",
          "text": [
            "Epoch 1/70\n",
            "120/120 [==============================] - 36s 172ms/step - loss: 1.9733 - categorical_accuracy: 0.3099 - val_loss: 1.5564 - val_categorical_accuracy: 0.5362\n",
            "Epoch 2/70\n",
            "120/120 [==============================] - 23s 195ms/step - loss: 1.2875 - categorical_accuracy: 0.5920 - val_loss: 1.1060 - val_categorical_accuracy: 0.6407\n",
            "Epoch 3/70\n",
            "120/120 [==============================] - 21s 173ms/step - loss: 0.9962 - categorical_accuracy: 0.6765 - val_loss: 0.9099 - val_categorical_accuracy: 0.7120\n",
            "Epoch 4/70\n",
            "120/120 [==============================] - 20s 169ms/step - loss: 0.8567 - categorical_accuracy: 0.7137 - val_loss: 0.8226 - val_categorical_accuracy: 0.7087\n",
            "Epoch 5/70\n",
            "120/120 [==============================] - 20s 167ms/step - loss: 0.7590 - categorical_accuracy: 0.7354 - val_loss: 0.7156 - val_categorical_accuracy: 0.7483\n",
            "Epoch 6/70\n",
            "120/120 [==============================] - 20s 168ms/step - loss: 0.6884 - categorical_accuracy: 0.7561 - val_loss: 0.6520 - val_categorical_accuracy: 0.7687\n",
            "Epoch 7/70\n",
            "120/120 [==============================] - 20s 169ms/step - loss: 0.6415 - categorical_accuracy: 0.7693 - val_loss: 0.6408 - val_categorical_accuracy: 0.7628\n",
            "Epoch 8/70\n",
            "120/120 [==============================] - 20s 169ms/step - loss: 0.6142 - categorical_accuracy: 0.7755 - val_loss: 0.6003 - val_categorical_accuracy: 0.7804\n",
            "Epoch 9/70\n",
            "120/120 [==============================] - 20s 169ms/step - loss: 0.5892 - categorical_accuracy: 0.7813 - val_loss: 0.5995 - val_categorical_accuracy: 0.7742\n",
            "Epoch 10/70\n",
            "120/120 [==============================] - 20s 168ms/step - loss: 0.5640 - categorical_accuracy: 0.7920 - val_loss: 0.5648 - val_categorical_accuracy: 0.7881\n",
            "Epoch 11/70\n",
            "120/120 [==============================] - 20s 169ms/step - loss: 0.5514 - categorical_accuracy: 0.7963 - val_loss: 0.5709 - val_categorical_accuracy: 0.7918\n",
            "Epoch 12/70\n",
            "120/120 [==============================] - 20s 168ms/step - loss: 0.5385 - categorical_accuracy: 0.8007 - val_loss: 0.5415 - val_categorical_accuracy: 0.7993\n",
            "Epoch 13/70\n",
            "120/120 [==============================] - 20s 168ms/step - loss: 0.5286 - categorical_accuracy: 0.8041 - val_loss: 0.5202 - val_categorical_accuracy: 0.8084\n",
            "Epoch 14/70\n",
            "120/120 [==============================] - 20s 169ms/step - loss: 0.5081 - categorical_accuracy: 0.8122 - val_loss: 0.5144 - val_categorical_accuracy: 0.8106\n",
            "Epoch 15/70\n",
            "120/120 [==============================] - 20s 168ms/step - loss: 0.4970 - categorical_accuracy: 0.8164 - val_loss: 0.5484 - val_categorical_accuracy: 0.7888\n",
            "Epoch 16/70\n",
            "120/120 [==============================] - 20s 170ms/step - loss: 0.4912 - categorical_accuracy: 0.8190 - val_loss: 0.5219 - val_categorical_accuracy: 0.8042\n",
            "Epoch 17/70\n",
            "120/120 [==============================] - 20s 169ms/step - loss: 0.4929 - categorical_accuracy: 0.8162 - val_loss: 0.4886 - val_categorical_accuracy: 0.8147\n",
            "Epoch 18/70\n",
            "120/120 [==============================] - 20s 168ms/step - loss: 0.4765 - categorical_accuracy: 0.8235 - val_loss: 0.4859 - val_categorical_accuracy: 0.8206\n",
            "Epoch 19/70\n",
            "120/120 [==============================] - 20s 168ms/step - loss: 0.4655 - categorical_accuracy: 0.8288 - val_loss: 0.4867 - val_categorical_accuracy: 0.8180\n",
            "Epoch 20/70\n",
            "120/120 [==============================] - 20s 169ms/step - loss: 0.4576 - categorical_accuracy: 0.8310 - val_loss: 0.4631 - val_categorical_accuracy: 0.8293\n",
            "Epoch 21/70\n",
            "120/120 [==============================] - 20s 169ms/step - loss: 0.4551 - categorical_accuracy: 0.8329 - val_loss: 0.5112 - val_categorical_accuracy: 0.8131\n",
            "Epoch 22/70\n",
            "120/120 [==============================] - 20s 169ms/step - loss: 0.4469 - categorical_accuracy: 0.8333 - val_loss: 0.4604 - val_categorical_accuracy: 0.8284\n",
            "Epoch 23/70\n",
            "120/120 [==============================] - 20s 168ms/step - loss: 0.4406 - categorical_accuracy: 0.8357 - val_loss: 0.4550 - val_categorical_accuracy: 0.8291\n",
            "Epoch 24/70\n",
            "120/120 [==============================] - 20s 169ms/step - loss: 0.4373 - categorical_accuracy: 0.8377 - val_loss: 0.4724 - val_categorical_accuracy: 0.8236\n",
            "Epoch 25/70\n",
            "120/120 [==============================] - 20s 169ms/step - loss: 0.4289 - categorical_accuracy: 0.8404 - val_loss: 0.4450 - val_categorical_accuracy: 0.8349\n",
            "Epoch 26/70\n",
            "120/120 [==============================] - 20s 169ms/step - loss: 0.4200 - categorical_accuracy: 0.8453 - val_loss: 0.4345 - val_categorical_accuracy: 0.8386\n",
            "Epoch 27/70\n",
            "120/120 [==============================] - 20s 169ms/step - loss: 0.4105 - categorical_accuracy: 0.8485 - val_loss: 0.4489 - val_categorical_accuracy: 0.8304\n",
            "Epoch 28/70\n",
            "120/120 [==============================] - 20s 169ms/step - loss: 0.4158 - categorical_accuracy: 0.8460 - val_loss: 0.4426 - val_categorical_accuracy: 0.8344\n",
            "Epoch 29/70\n",
            "120/120 [==============================] - 20s 168ms/step - loss: 0.3999 - categorical_accuracy: 0.8522 - val_loss: 0.4167 - val_categorical_accuracy: 0.8488\n",
            "Epoch 30/70\n",
            "120/120 [==============================] - 20s 170ms/step - loss: 0.3993 - categorical_accuracy: 0.8523 - val_loss: 0.4567 - val_categorical_accuracy: 0.8298\n",
            "Epoch 31/70\n",
            "120/120 [==============================] - 20s 170ms/step - loss: 0.4017 - categorical_accuracy: 0.8509 - val_loss: 0.4210 - val_categorical_accuracy: 0.8430\n",
            "Epoch 32/70\n",
            "120/120 [==============================] - 20s 168ms/step - loss: 0.3933 - categorical_accuracy: 0.8542 - val_loss: 0.4073 - val_categorical_accuracy: 0.8484\n",
            "Epoch 33/70\n",
            "120/120 [==============================] - 20s 167ms/step - loss: 0.3902 - categorical_accuracy: 0.8564 - val_loss: 0.4066 - val_categorical_accuracy: 0.8471\n",
            "Epoch 34/70\n",
            "120/120 [==============================] - 20s 170ms/step - loss: 0.3906 - categorical_accuracy: 0.8548 - val_loss: 0.4152 - val_categorical_accuracy: 0.8468\n",
            "Epoch 35/70\n",
            "120/120 [==============================] - 21s 171ms/step - loss: 0.3821 - categorical_accuracy: 0.8583 - val_loss: 0.4095 - val_categorical_accuracy: 0.8481\n",
            "Epoch 36/70\n",
            "120/120 [==============================] - 20s 169ms/step - loss: 0.3779 - categorical_accuracy: 0.8600 - val_loss: 0.3922 - val_categorical_accuracy: 0.8552\n",
            "Epoch 37/70\n",
            "120/120 [==============================] - 20s 169ms/step - loss: 0.3736 - categorical_accuracy: 0.8623 - val_loss: 0.3897 - val_categorical_accuracy: 0.8561\n",
            "Epoch 38/70\n",
            "120/120 [==============================] - 20s 167ms/step - loss: 0.3757 - categorical_accuracy: 0.8597 - val_loss: 0.3892 - val_categorical_accuracy: 0.8554\n",
            "Epoch 39/70\n",
            "120/120 [==============================] - 20s 168ms/step - loss: 0.3683 - categorical_accuracy: 0.8645 - val_loss: 0.3925 - val_categorical_accuracy: 0.8546\n",
            "Epoch 40/70\n",
            "120/120 [==============================] - 20s 169ms/step - loss: 0.3679 - categorical_accuracy: 0.8654 - val_loss: 0.3923 - val_categorical_accuracy: 0.8530\n",
            "Epoch 41/70\n",
            "120/120 [==============================] - 20s 168ms/step - loss: 0.3661 - categorical_accuracy: 0.8627 - val_loss: 0.4285 - val_categorical_accuracy: 0.8403\n",
            "Epoch 42/70\n",
            "120/120 [==============================] - 20s 169ms/step - loss: 0.3620 - categorical_accuracy: 0.8644 - val_loss: 0.3920 - val_categorical_accuracy: 0.8553\n",
            "Epoch 43/70\n",
            "120/120 [==============================] - 20s 167ms/step - loss: 0.3612 - categorical_accuracy: 0.8662 - val_loss: 0.3873 - val_categorical_accuracy: 0.8581\n",
            "Epoch 44/70\n",
            "120/120 [==============================] - 20s 169ms/step - loss: 0.3601 - categorical_accuracy: 0.8673 - val_loss: 0.3979 - val_categorical_accuracy: 0.8542\n",
            "Epoch 45/70\n",
            "120/120 [==============================] - 20s 170ms/step - loss: 0.3585 - categorical_accuracy: 0.8663 - val_loss: 0.3793 - val_categorical_accuracy: 0.8559\n",
            "Epoch 46/70\n",
            "120/120 [==============================] - 20s 168ms/step - loss: 0.3472 - categorical_accuracy: 0.8713 - val_loss: 0.3926 - val_categorical_accuracy: 0.8529\n",
            "Epoch 47/70\n",
            "120/120 [==============================] - 20s 169ms/step - loss: 0.3492 - categorical_accuracy: 0.8705 - val_loss: 0.3896 - val_categorical_accuracy: 0.8559\n",
            "Epoch 48/70\n",
            "120/120 [==============================] - 20s 170ms/step - loss: 0.3485 - categorical_accuracy: 0.8693 - val_loss: 0.3671 - val_categorical_accuracy: 0.8625\n",
            "Epoch 49/70\n",
            "120/120 [==============================] - 20s 170ms/step - loss: 0.3442 - categorical_accuracy: 0.8726 - val_loss: 0.3881 - val_categorical_accuracy: 0.8550\n",
            "Epoch 50/70\n",
            "120/120 [==============================] - 20s 168ms/step - loss: 0.3389 - categorical_accuracy: 0.8747 - val_loss: 0.3721 - val_categorical_accuracy: 0.8607\n",
            "Epoch 51/70\n",
            "120/120 [==============================] - 20s 169ms/step - loss: 0.3350 - categorical_accuracy: 0.8761 - val_loss: 0.3646 - val_categorical_accuracy: 0.8661\n",
            "Epoch 52/70\n",
            "120/120 [==============================] - 20s 169ms/step - loss: 0.3437 - categorical_accuracy: 0.8723 - val_loss: 0.3649 - val_categorical_accuracy: 0.8643\n",
            "Epoch 53/70\n",
            "120/120 [==============================] - 20s 170ms/step - loss: 0.3323 - categorical_accuracy: 0.8764 - val_loss: 0.3805 - val_categorical_accuracy: 0.8587\n",
            "Epoch 54/70\n",
            "120/120 [==============================] - 20s 169ms/step - loss: 0.3360 - categorical_accuracy: 0.8753 - val_loss: 0.3979 - val_categorical_accuracy: 0.8518\n",
            "Epoch 55/70\n",
            "120/120 [==============================] - 20s 168ms/step - loss: 0.3353 - categorical_accuracy: 0.8752 - val_loss: 0.3574 - val_categorical_accuracy: 0.8671\n",
            "Epoch 56/70\n",
            "120/120 [==============================] - 20s 169ms/step - loss: 0.3258 - categorical_accuracy: 0.8791 - val_loss: 0.3610 - val_categorical_accuracy: 0.8672\n",
            "Epoch 57/70\n",
            "120/120 [==============================] - 20s 171ms/step - loss: 0.3336 - categorical_accuracy: 0.8766 - val_loss: 0.3598 - val_categorical_accuracy: 0.8655\n",
            "Epoch 58/70\n",
            "120/120 [==============================] - 20s 169ms/step - loss: 0.3239 - categorical_accuracy: 0.8795 - val_loss: 0.3763 - val_categorical_accuracy: 0.8596\n",
            "Epoch 59/70\n",
            "120/120 [==============================] - 20s 167ms/step - loss: 0.3245 - categorical_accuracy: 0.8804 - val_loss: 0.3543 - val_categorical_accuracy: 0.8659\n",
            "Epoch 60/70\n",
            "120/120 [==============================] - 20s 169ms/step - loss: 0.3210 - categorical_accuracy: 0.8801 - val_loss: 0.3695 - val_categorical_accuracy: 0.8632\n",
            "Epoch 61/70\n",
            "120/120 [==============================] - 20s 171ms/step - loss: 0.3211 - categorical_accuracy: 0.8805 - val_loss: 0.3681 - val_categorical_accuracy: 0.8622\n",
            "Epoch 62/70\n",
            "120/120 [==============================] - 20s 168ms/step - loss: 0.3174 - categorical_accuracy: 0.8825 - val_loss: 0.3582 - val_categorical_accuracy: 0.8651\n",
            "Epoch 63/70\n",
            "120/120 [==============================] - 20s 169ms/step - loss: 0.3233 - categorical_accuracy: 0.8792 - val_loss: 0.3532 - val_categorical_accuracy: 0.8680\n",
            "Epoch 64/70\n",
            "120/120 [==============================] - 20s 169ms/step - loss: 0.3200 - categorical_accuracy: 0.8812 - val_loss: 0.3728 - val_categorical_accuracy: 0.8633\n",
            "Epoch 65/70\n",
            "120/120 [==============================] - 20s 168ms/step - loss: 0.3148 - categorical_accuracy: 0.8813 - val_loss: 0.3821 - val_categorical_accuracy: 0.8578\n",
            "Epoch 66/70\n",
            "120/120 [==============================] - 20s 168ms/step - loss: 0.3087 - categorical_accuracy: 0.8845 - val_loss: 0.3727 - val_categorical_accuracy: 0.8610\n",
            "Epoch 67/70\n",
            "120/120 [==============================] - 20s 167ms/step - loss: 0.3109 - categorical_accuracy: 0.8835 - val_loss: 0.3789 - val_categorical_accuracy: 0.8588\n",
            "Epoch 68/70\n",
            "120/120 [==============================] - 20s 170ms/step - loss: 0.3144 - categorical_accuracy: 0.8833 - val_loss: 0.3609 - val_categorical_accuracy: 0.8679\n",
            "Epoch 69/70\n",
            "120/120 [==============================] - 20s 170ms/step - loss: 0.3096 - categorical_accuracy: 0.8854 - val_loss: 0.3630 - val_categorical_accuracy: 0.8662\n",
            "Epoch 70/70\n",
            "120/120 [==============================] - 20s 168ms/step - loss: 0.3006 - categorical_accuracy: 0.8893 - val_loss: 0.3600 - val_categorical_accuracy: 0.8646\n"
          ]
        }
      ]
    },
    {
      "cell_type": "code",
      "source": [
        "history_dict = history.history\n",
        "loss_values = history_dict['loss']\n",
        "val_loss_values = history_dict['val_loss']\n",
        "\n",
        "epochs = range(1, len(history_dict['categorical_accuracy']) + 1)\n",
        "\n",
        "plt.plot(epochs, loss_values, 'bo', label='Training loss')\n",
        "plt.plot(epochs, val_loss_values, 'b', label='Validation loss')\n",
        "plt.title('Training and validation loss')\n",
        "plt.xlabel('Epochs')\n",
        "plt.ylabel('Loss')\n",
        "plt.legend()\n",
        "plt.show()\n",
        "\n",
        "plt.clf()\n",
        "val_acc_values = history_dict['val_categorical_accuracy']\n",
        "plt.plot(epochs, history_dict['categorical_accuracy'], 'bo', label='Training acc')\n",
        "plt.plot(epochs, history_dict['val_categorical_accuracy'], 'b', label='Validation acc')\n",
        "plt.title('Training and validation accuracy')\n",
        "plt.xlabel('Epochs')\n",
        "plt.ylabel('Loss')\n",
        "plt.legend()"
      ],
      "metadata": {
        "colab": {
          "base_uri": "https://localhost:8080/",
          "height": 944
        },
        "id": "ogwKvOQP2l94",
        "outputId": "b1a01bfb-b688-425d-ad58-9ce3888646cc"
      },
      "execution_count": 33,
      "outputs": [
        {
          "output_type": "display_data",
          "data": {
            "text/plain": [
              "<Figure size 640x480 with 1 Axes>"
            ],
            "image/png": "[encoded data removed]"
          },
          "metadata": {}
        },
        {
          "output_type": "execute_result",
          "data": {
            "text/plain": [
              "<matplotlib.legend.Legend at 0x7ff970843490>"
            ]
          },
          "metadata": {},
          "execution_count": 33
        },
        {
          "output_type": "display_data",
          "data": {
            "text/plain": [
              "<Figure size 640x480 with 1 Axes>"
            ],
            "image/png": "[encoded data removed]"
          },
          "metadata": {}
        }
      ]
    },
    {
      "cell_type": "code",
      "source": [
        "results = model.evaluate(test_images, test_labels)\n",
        "print(results)"
      ],
      "metadata": {
        "colab": {
          "base_uri": "https://localhost:8080/"
        },
        "id": "8cq31OVi2oNJ",
        "outputId": "2b1d71d7-4554-4275-9e46-9a0ed6aca7db"
      },
      "execution_count": 34,
      "outputs": [
        {
          "output_type": "stream",
          "name": "stdout",
          "text": [
            "313/313 [==============================] - 5s 14ms/step - loss: 0.3600 - categorical_accuracy: 0.8646\n",
            "[0.36001431941986084, 0.8646000027656555]\n"
          ]
        }
      ]
    },
    {
      "cell_type": "code",
      "source": [
        "model.save(\"/content/drive/MyDrive/Data S/Hw10/model_Hw10_part2_2_\")"
      ],
      "metadata": {
        "id": "jwGfrKnmd-T2",
        "colab": {
          "base_uri": "https://localhost:8080/"
        },
        "outputId": "55326917-8b72-4b3f-b4a0-c2ba27bc31db"
      },
      "execution_count": 35,
      "outputs": [
        {
          "output_type": "stream",
          "name": "stderr",
          "text": [
            "WARNING:absl:Found untraced functions such as _jit_compiled_convolution_op, _jit_compiled_convolution_op, _jit_compiled_convolution_op, _jit_compiled_convolution_op, _jit_compiled_convolution_op while saving (showing 5 of 13). These functions will not be directly callable after loading.\n"
          ]
        }
      ]
    },
    {
      "cell_type": "markdown",
      "source": [
        "Висновки\n",
        "\n",
        "Була розроблена модель з використанням передвиборної мережі на базі VGG16. Отриманий результат точності дорівнює 86%"
      ],
      "metadata": {
        "id": "chvNLmpUy6WH"
      }
    }
  ]
}