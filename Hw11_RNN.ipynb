{
  "nbformat": 4,
  "nbformat_minor": 0,
  "metadata": {
    "colab": {
      "provenance": []
    },
    "kernelspec": {
      "name": "python3",
      "display_name": "Python 3"
    },
    "language_info": {
      "name": "python"
    }
  },
  "cells": [
    {
      "cell_type": "markdown",
      "source": [
        "В якості домашнього завдання вам пропонується створити рекурентну нейронну мережу за допомогою механізмів Keras, яка буде класифікувати рецензії із датасету imdb.\n",
        "\n",
        "На відміну від прикладу в модулі 9 ми використаємо рекурентну нейронну мережу. Поекспериментуйте з будовою мережі - RNN, LSTM, двостороння та глибока.\n",
        "\n",
        "Порівняйте результати та зробіть висновки."
      ],
      "metadata": {
        "id": "D9OBl8wTHPBl"
      }
    },
    {
      "cell_type": "code",
      "execution_count": null,
      "metadata": {
        "id": "asus8c04GXfu"
      },
      "outputs": [],
      "source": [
        "import numpy as np\n",
        "import matplotlib.pyplot as plt\n",
        "import tensorflow as tf\n",
        "\n",
        "from tensorflow import keras\n",
        "from keras.models import Sequential\n",
        "from keras.layers import Dense, Embedding, SimpleRNN\n",
        "from keras import optimizers\n",
        "from keras import losses\n",
        "from keras import metrics\n",
        "from keras.callbacks import EarlyStopping"
      ]
    },
    {
      "cell_type": "code",
      "source": [
        "from keras.datasets import imdb"
      ],
      "metadata": {
        "id": "iBzDbvTcHBnT"
      },
      "execution_count": null,
      "outputs": []
    },
    {
      "cell_type": "code",
      "source": [
        "max_features = 10000  # кількість слів, що розглядаються як особливості\n",
        "maxlen = 500  # обмеження кількості слів в тексті\n",
        "batch_size = 64"
      ],
      "metadata": {
        "id": "vx5yoHRIKdvP"
      },
      "execution_count": null,
      "outputs": []
    },
    {
      "cell_type": "code",
      "source": [
        "(train_data, train_labels), (test_data, test_labels) = imdb.load_data(num_words=max_features)"
      ],
      "metadata": {
        "id": "iP4BP1gXICx8"
      },
      "execution_count": null,
      "outputs": []
    },
    {
      "cell_type": "code",
      "source": [
        "train_data.shape, len(train_data[0]), len(train_data[4]), type(train_data[0])"
      ],
      "metadata": {
        "colab": {
          "base_uri": "https://localhost:8080/"
        },
        "id": "T4L93Yi0IGUk",
        "outputId": "92f7001d-1c15-4a3a-9ca1-aa953f977acc"
      },
      "execution_count": null,
      "outputs": [
        {
          "output_type": "execute_result",
          "data": {
            "text/plain": [
              "((25000,), 218, 147, list)"
            ]
          },
          "metadata": {},
          "execution_count": 12
        }
      ]
    },
    {
      "cell_type": "code",
      "source": [
        "train_labels.shape"
      ],
      "metadata": {
        "colab": {
          "base_uri": "https://localhost:8080/"
        },
        "id": "BD3QMmS9rIkj",
        "outputId": "fa0bc966-7ae8-4c07-985d-6a969a07f626"
      },
      "execution_count": null,
      "outputs": [
        {
          "output_type": "execute_result",
          "data": {
            "text/plain": [
              "(25000,)"
            ]
          },
          "metadata": {},
          "execution_count": 13
        }
      ]
    },
    {
      "cell_type": "code",
      "source": [
        "from keras.utils.data_utils import pad_sequences\n",
        "input_train=pad_sequences(train_data, maxlen=maxlen)\n",
        "input_test=pad_sequences(test_data, maxlen=maxlen)"
      ],
      "metadata": {
        "id": "gz3gSVMYKqYf"
      },
      "execution_count": null,
      "outputs": []
    },
    {
      "cell_type": "code",
      "source": [
        "#y_train=tf.one_hot(train_labels, depth=2)\n",
        "#y_test=tf.one_hot(train_labels, depth=2)"
      ],
      "metadata": {
        "id": "nIunKU0tSdg3"
      },
      "execution_count": null,
      "outputs": []
    },
    {
      "cell_type": "code",
      "source": [
        "model=Sequential([\n",
        "    Embedding(input_dim=max_features, output_dim=32, input_length=maxlen),\n",
        "    SimpleRNN(32, activation='tanh'),\n",
        "    Dense(1, activation='sigmoid')\n",
        "])"
      ],
      "metadata": {
        "id": "Ig1sssmRLZMg"
      },
      "execution_count": null,
      "outputs": []
    },
    {
      "cell_type": "code",
      "source": [
        "model.summary()"
      ],
      "metadata": {
        "colab": {
          "base_uri": "https://localhost:8080/"
        },
        "id": "uLfrcQqOLeC7",
        "outputId": "b04bce61-06a5-4e18-ceb6-38b64224d5ee"
      },
      "execution_count": null,
      "outputs": [
        {
          "output_type": "stream",
          "name": "stdout",
          "text": [
            "Model: \"sequential\"\n",
            "_________________________________________________________________\n",
            " Layer (type)                Output Shape              Param #   \n",
            "=================================================================\n",
            " embedding (Embedding)       (None, 500, 32)           320000    \n",
            "                                                                 \n",
            " simple_rnn (SimpleRNN)      (None, 32)                2080      \n",
            "                                                                 \n",
            " dense (Dense)               (None, 1)                 33        \n",
            "                                                                 \n",
            "=================================================================\n",
            "Total params: 322,113\n",
            "Trainable params: 322,113\n",
            "Non-trainable params: 0\n",
            "_________________________________________________________________\n"
          ]
        }
      ]
    },
    {
      "cell_type": "code",
      "source": [
        "model.compile(\n",
        "    optimizer=optimizers.Adam(learning_rate=0.0001),\n",
        "    loss=losses.BinaryCrossentropy(),\n",
        "    metrics=['binary_accuracy'],\n",
        ")"
      ],
      "metadata": {
        "id": "uSy92WspPlb_"
      },
      "execution_count": null,
      "outputs": []
    },
    {
      "cell_type": "code",
      "source": [
        "callback_early_stopping = EarlyStopping(\n",
        "    monitor=\"val_binary_accuracy\",\n",
        "    min_delta=0.00001,\n",
        "    patience=5,\n",
        ")"
      ],
      "metadata": {
        "id": "zWyWxvHwQKTz"
      },
      "execution_count": null,
      "outputs": []
    },
    {
      "cell_type": "code",
      "source": [
        "history = model.fit(\n",
        "    input_train,\n",
        "    train_labels,\n",
        "    epochs=20,\n",
        "    batch_size=batch_size,\n",
        "    callbacks=[callback_early_stopping],\n",
        "    validation_data=(input_test, test_labels))\n",
        "# Запускаємо навчання моделі на тренувальних даних для 5 епох з розміром пакету 128 та розбиттям на тренувальну та валідаційну підмножини"
      ],
      "metadata": {
        "colab": {
          "base_uri": "https://localhost:8080/"
        },
        "id": "SGahjmdrQMl9",
        "outputId": "8c36172e-428e-4e39-8b7a-b48bc7c16cea"
      },
      "execution_count": null,
      "outputs": [
        {
          "output_type": "stream",
          "name": "stdout",
          "text": [
            "Epoch 1/20\n",
            "391/391 [==============================] - 82s 206ms/step - loss: 0.6945 - binary_accuracy: 0.5100 - val_loss: 0.6901 - val_binary_accuracy: 0.5308\n",
            "Epoch 2/20\n",
            "391/391 [==============================] - 79s 203ms/step - loss: 0.6691 - binary_accuracy: 0.6043 - val_loss: 0.6080 - val_binary_accuracy: 0.6657\n",
            "Epoch 3/20\n",
            "391/391 [==============================] - 80s 204ms/step - loss: 0.4870 - binary_accuracy: 0.7788 - val_loss: 0.4365 - val_binary_accuracy: 0.8118\n",
            "Epoch 4/20\n",
            "391/391 [==============================] - 85s 219ms/step - loss: 0.3803 - binary_accuracy: 0.8424 - val_loss: 0.4070 - val_binary_accuracy: 0.8171\n",
            "Epoch 5/20\n",
            "391/391 [==============================] - 73s 186ms/step - loss: 0.3107 - binary_accuracy: 0.8806 - val_loss: 0.3612 - val_binary_accuracy: 0.8470\n",
            "Epoch 6/20\n",
            "391/391 [==============================] - 75s 191ms/step - loss: 0.2556 - binary_accuracy: 0.9086 - val_loss: 0.3456 - val_binary_accuracy: 0.8554\n",
            "Epoch 7/20\n",
            "391/391 [==============================] - 79s 202ms/step - loss: 0.2207 - binary_accuracy: 0.9239 - val_loss: 0.3389 - val_binary_accuracy: 0.8586\n",
            "Epoch 8/20\n",
            "391/391 [==============================] - 83s 212ms/step - loss: 0.1940 - binary_accuracy: 0.9346 - val_loss: 0.3674 - val_binary_accuracy: 0.8519\n",
            "Epoch 9/20\n",
            "391/391 [==============================] - 72s 185ms/step - loss: 0.1771 - binary_accuracy: 0.9428 - val_loss: 0.3423 - val_binary_accuracy: 0.8628\n",
            "Epoch 10/20\n",
            "391/391 [==============================] - 78s 199ms/step - loss: 0.1569 - binary_accuracy: 0.9507 - val_loss: 0.3596 - val_binary_accuracy: 0.8599\n",
            "Epoch 11/20\n",
            "391/391 [==============================] - 79s 203ms/step - loss: 0.1435 - binary_accuracy: 0.9563 - val_loss: 0.3588 - val_binary_accuracy: 0.8571\n",
            "Epoch 12/20\n",
            "391/391 [==============================] - 79s 203ms/step - loss: 0.1256 - binary_accuracy: 0.9641 - val_loss: 0.3694 - val_binary_accuracy: 0.8544\n",
            "Epoch 13/20\n",
            "391/391 [==============================] - 72s 184ms/step - loss: 0.1189 - binary_accuracy: 0.9649 - val_loss: 0.3735 - val_binary_accuracy: 0.8591\n",
            "Epoch 14/20\n",
            "391/391 [==============================] - 77s 198ms/step - loss: 0.1022 - binary_accuracy: 0.9721 - val_loss: 0.3888 - val_binary_accuracy: 0.8558\n"
          ]
        }
      ]
    },
    {
      "cell_type": "code",
      "source": [
        "acc = history.history['binary_accuracy']\n",
        "val_acc = history.history['val_binary_accuracy']\n",
        "loss = history.history['loss']\n",
        "val_loss = history.history['val_loss']\n",
        "\n",
        "epochs = range(1, len(acc) + 1)\n",
        "\n",
        "plt.plot(epochs, acc, 'bo', label='Точність на тренуванні')  # Графік точності на тренувальних данних\n",
        "plt.plot(epochs, val_acc, 'b', label='Точність на валідації')  # Графік точності на валідаційних данних\n",
        "plt.title('Точність тренування і валідації')  # Заголовок графіку\n",
        "plt.legend()  # Показати легенду\n",
        "\n",
        "plt.figure()\n",
        "\n",
        "plt.plot(epochs, loss, 'bo', label='Втрати на тренуванні')  # Графік втрат на тренувальних данних\n",
        "plt.plot(epochs, val_loss, 'b', label='Втрати на валідації')  # Графік втрат на валідаційних данних\n",
        "plt.title('Втрати тренування і валідації')  # Заголовок графіку\n",
        "plt.legend()  # Показати легенду\n",
        "\n",
        "plt.show()  # Відобразити графіки"
      ],
      "metadata": {
        "id": "_9FfZELYUnUy",
        "colab": {
          "base_uri": "https://localhost:8080/",
          "height": 887
        },
        "outputId": "e1c57941-66cf-4e76-c94c-a38805a1251f"
      },
      "execution_count": null,
      "outputs": [
        {
          "output_type": "display_data",
          "data": {
            "text/plain": [
              "<Figure size 640x480 with 1 Axes>"
            ],
            "image/png": "[encoded data removed]"
          },
          "metadata": {}
        },
        {
          "output_type": "display_data",
          "data": {
            "text/plain": [
              "<Figure size 640x480 with 1 Axes>"
            ],
            "image/png": "[encoded data removed]"
          },
          "metadata": {}
        }
      ]
    },
    {
      "cell_type": "code",
      "source": [
        "results = model.evaluate(input_test, test_labels)\n",
        "print(results)"
      ],
      "metadata": {
        "colab": {
          "base_uri": "https://localhost:8080/"
        },
        "id": "eCA9bhgS2-9k",
        "outputId": "21de11c0-6e46-481e-90f1-a81d99edaa32"
      },
      "execution_count": null,
      "outputs": [
        {
          "output_type": "stream",
          "name": "stdout",
          "text": [
            "782/782 [==============================] - 26s 33ms/step - loss: 0.3888 - binary_accuracy: 0.8558\n",
            "[0.388801246881485, 0.8558400273323059]\n"
          ]
        }
      ]
    },
    {
      "cell_type": "code",
      "source": [
        "model.save(\"/content/drive/MyDrive/Data S/Hw11/model_Hw11_SimpleRNN_\")"
      ],
      "metadata": {
        "id": "pA6fHCQX295N"
      },
      "execution_count": null,
      "outputs": []
    }
  ]
}